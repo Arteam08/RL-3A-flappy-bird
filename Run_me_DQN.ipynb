{
 "cells": [
  {
   "cell_type": "code",
   "execution_count": null,
   "metadata": {},
   "outputs": [],
   "source": [
    "import gymnasium as gym\n",
    "import numpy as np\n",
    "import matplotlib.pyplot as plt\n",
    "import matplotlib\n",
    "import torch\n",
    "from torch import randint\n",
    "import model\n",
    "import pygame"
   ]
  },
  {
   "cell_type": "markdown",
   "metadata": {},
   "source": [
    "# Deep Reinforcement Learning - DQN"
   ]
  },
  {
   "cell_type": "markdown",
   "metadata": {},
   "source": [
    "warning : must be run on a GPU"
   ]
  },
  {
   "cell_type": "markdown",
   "metadata": {},
   "source": [
    "Observe the parameters with optuna dashboard"
   ]
  },
  {
   "cell_type": "markdown",
   "metadata": {},
   "source": [
    "Terminal :\n",
    " -> pip install optuna-dashboard\n",
    " -> optuna-dashboard sqlite:///DQN.db"
   ]
  },
  {
   "cell_type": "markdown",
   "metadata": {},
   "source": [
    "Test the models"
   ]
  },
  {
   "cell_type": "code",
   "execution_count": null,
   "metadata": {},
   "outputs": [
    {
     "name": "stdout",
     "output_type": "stream",
     "text": [
      "cuda\n",
      "✅ Done!\n",
      "Episode 1: Total Reward = 152.89999999999645\n",
      "Pipes passed32\n",
      "Episode 2: Total Reward = 78.39999999999979\n",
      "Pipes passed16\n",
      "Episode 3: Total Reward = 96.89999999999897\n",
      "Pipes passed20\n",
      "Episode 4: Total Reward = 40.90000000000026\n",
      "Pipes passed8\n",
      "Episode 5: Total Reward = 110.89999999999834\n",
      "Pipes passed23\n",
      "Episode 6: Total Reward = 3.8999999999999986\n",
      "Pipes passed0\n",
      "Episode 7: Total Reward = 26.90000000000011\n",
      "Pipes passed5\n",
      "Episode 8: Total Reward = 138.89999999999708\n",
      "Pipes passed29\n",
      "Episode 9: Total Reward = 17.90000000000001\n",
      "Pipes passed3\n",
      "Episode 10: Total Reward = 3.8999999999999986\n",
      "Pipes passed0\n",
      "Episode 11: Total Reward = 13.199999999999973\n",
      "Pipes passed2\n",
      "Episode 12: Total Reward = 40.90000000000026\n",
      "Pipes passed8\n",
      "Episode 13: Total Reward = 11.29999999999998\n",
      "Pipes passed2\n",
      "Episode 14: Total Reward = 40.90000000000026\n",
      "Pipes passed8\n",
      "Episode 15: Total Reward = 71.80000000000011\n",
      "Pipes passed15\n"
     ]
    },
    {
     "ename": "NameError",
     "evalue": "name 'plt' is not defined",
     "output_type": "error",
     "traceback": [
      "\u001b[0;31m---------------------------------------------------------------------------\u001b[0m",
      "\u001b[0;31mNameError\u001b[0m                                 Traceback (most recent call last)",
      "Cell \u001b[0;32mIn[20], line 49\u001b[0m\n\u001b[1;32m     47\u001b[0m     \u001b[38;5;28mprint\u001b[39m(\u001b[38;5;124m\"\u001b[39m\u001b[38;5;124mPipes passed\u001b[39m\u001b[38;5;124m\"\u001b[39m\u001b[38;5;241m+\u001b[39m \u001b[38;5;28mstr\u001b[39m(pipe[\u001b[38;5;124m\"\u001b[39m\u001b[38;5;124mscore\u001b[39m\u001b[38;5;124m\"\u001b[39m]))\n\u001b[1;32m     48\u001b[0m     scores\u001b[38;5;241m.\u001b[39mappend(pipe[\u001b[38;5;124m\"\u001b[39m\u001b[38;5;124mscore\u001b[39m\u001b[38;5;124m\"\u001b[39m])\n\u001b[0;32m---> 49\u001b[0m plt\u001b[38;5;241m.\u001b[39mscatter(scores,\u001b[38;5;28mrange\u001b[39m(\u001b[38;5;241m1\u001b[39m,\u001b[38;5;241m16\u001b[39m))\n\u001b[1;32m     50\u001b[0m plt\u001b[38;5;241m.\u001b[39mxlabel(\u001b[38;5;124m\"\u001b[39m\u001b[38;5;124mTrial number\u001b[39m\u001b[38;5;124m\"\u001b[39m)\n\u001b[1;32m     51\u001b[0m plt\u001b[38;5;241m.\u001b[39mylabel(\u001b[38;5;124m\"\u001b[39m\u001b[38;5;124mNumber of pipes passed\u001b[39m\u001b[38;5;124m\"\u001b[39m)\n",
      "\u001b[0;31mNameError\u001b[0m: name 'plt' is not defined"
     ]
    }
   ],
   "source": [
    "pygame.quit()  \n",
    "pygame.init()  \n",
    "\n",
    "#Environment\n",
    "env = gym.make(\"FlappyBird-v0\", use_lidar = False)\n",
    "\n",
    "# set up matplotlib\n",
    "is_ipython = 'inline' in matplotlib.get_backend()\n",
    "if is_ipython:\n",
    "    from IPython import display\n",
    "\n",
    "plt.ion()\n",
    "\n",
    "# if gpu is to be used\n",
    "device = torch.device(\"cuda\" if torch.cuda.is_available() else \"cpu\")\n",
    "print(device)\n",
    "\n",
    "agent = model.Agent(state_size=env.observation_space.shape[0], action_size=env.action_space.n, seed=0)\n",
    "\n",
    "saved_model=\"DQN/model_checkpoint_best_26.88.pth\" # Load your best model here\n",
    "agent.qnetwork_target.load_state_dict(torch.load(saved_model))\n",
    "# Load Model\n",
    "agent.qnetwork_local.load_state_dict(torch.load(saved_model))\n",
    "print(\"✅ Done!\")\n",
    "\n",
    "num_time_steps=15 #Play 15 times\n",
    "scores=[]\n",
    "for i in range(num_time_steps):\n",
    "    state = env.reset()[0]  \n",
    "    state = np.array(state, dtype=np.float32).reshape(1, -1)\n",
    "    state = np.array(state, dtype=np.float32)  \n",
    "    done = False\n",
    "    total_reward = 0\n",
    "\n",
    "    while not done:\n",
    "        env.render()  \n",
    "        \n",
    "\n",
    "        \n",
    "        action = agent.act(state, eps=0)  \n",
    "        \n",
    "        \n",
    "        next_state, reward, done, _,pipe = env.step(action)\n",
    "        next_state = np.array(next_state, dtype=np.float32).reshape(1, -1)\n",
    "        next_state = np.array(next_state, dtype=np.float32)  \n",
    "    \n",
    "        state = next_state\n",
    "        total_reward += reward\n",
    "\n",
    "\n",
    "    print(f\"Episode {i+1}: Total Reward = {total_reward}\")\n",
    "    print(\"Pipes passed\"+ str(pipe[\"score\"]))\n",
    "    scores.append(pipe[\"score\"])\n",
    "plt.scatter(scores,range(1,16))\n",
    "plt.xlabel(\"Trial number\")\n",
    "plt.ylabel(\"Number of pipes passed\")\n",
    "\n",
    "env.close()  "
   ]
  }
 ],
 "metadata": {
  "kernelspec": {
   "display_name": "base",
   "language": "python",
   "name": "python3"
  },
  "language_info": {
   "codemirror_mode": {
    "name": "ipython",
    "version": 3
   },
   "file_extension": ".py",
   "mimetype": "text/x-python",
   "name": "python",
   "nbconvert_exporter": "python",
   "pygments_lexer": "ipython3",
   "version": "3.11.3"
  }
 },
 "nbformat": 4,
 "nbformat_minor": 2
}
