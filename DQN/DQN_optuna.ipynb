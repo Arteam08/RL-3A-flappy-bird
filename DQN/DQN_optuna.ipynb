{
 "cells": [
  {
   "cell_type": "code",
   "execution_count": 4,
   "metadata": {},
   "outputs": [],
   "source": [
    "import optuna"
   ]
  },
  {
   "cell_type": "code",
   "execution_count": 5,
   "metadata": {},
   "outputs": [],
   "source": [
    "import flappy_bird_gymnasium\n",
    "import gymnasium\n",
    "import torch\n",
    "import torch.nn as nn\n",
    "import torch.optim as optim\n",
    "import torch.nn.functional as F\n",
    "from torch import randint"
   ]
  },
  {
   "cell_type": "code",
   "execution_count": 6,
   "metadata": {},
   "outputs": [
    {
     "name": "stdout",
     "output_type": "stream",
     "text": [
      "cuda\n"
     ]
    }
   ],
   "source": [
    "import math\n",
    "import random\n",
    "import numpy as np\n",
    "import matplotlib\n",
    "import matplotlib.pyplot as plt\n",
    "from collections import namedtuple, deque\n",
    "from itertools import count\n",
    "from PIL import Image\n",
    "import time\n",
    "import os\n",
    "import model"
   ]
  },
  {
   "cell_type": "code",
   "execution_count": 7,
   "metadata": {},
   "outputs": [],
   "source": [
    "def create_agent(env,BUFFER_SIZE = int(1e5),BATCH_SIZE = 64,GAMMA = 0.99,TAU = 1e-3,UPDATE_EVERY=4):\n",
    "        # if gpu is to be used\n",
    "    device = torch.device(\"cuda\" if torch.cuda.is_available() else \"cpu\")\n",
    "    print(device)\n",
    "\n",
    "    class QNetwork(nn.Module):\n",
    "        def __init__(self, state_size, action_size, seed):\n",
    "            \"\"\"\n",
    "            Initialize parameters and build model.\n",
    "            Params:\n",
    "            - state_size (int): Dimension of each state\n",
    "            - action_size (int): Dimension of each action\n",
    "            - seed (int): Random seed\n",
    "            - fc1_unit (int): Number of nodes in first hidden layer\n",
    "            - fc2_unit (int): Number of nodes in second hidden layer\n",
    "            \"\"\"\n",
    "            super(QNetwork, self).__init__() ## calls __init__ method of nn.Module class\n",
    "            self.seed = torch.manual_seed(seed)\n",
    "\n",
    "            \n",
    "            fc1_unit=128\n",
    "            fc2_unit=128\n",
    "            self.fc1=nn.Linear(state_size,fc1_unit)\n",
    "            self.fc2=nn.Linear(fc1_unit,fc2_unit)\n",
    "            self.fc3=nn.Linear(fc2_unit,action_size)\n",
    "            \n",
    "\n",
    "        def forward(self, state):\n",
    "            \"\"\"\n",
    "            Build a network that maps state -> action values.\n",
    "            \"\"\"\n",
    "            x=F.relu(self.fc1(state))\n",
    "            x=F.relu(self.fc2(x))\n",
    "            return self.fc3(x)\n",
    "            \n",
    "    class Agent():\n",
    "        \"\"\"\n",
    "        Interacts with and learns form environment.\n",
    "        \"\"\"\n",
    "\n",
    "        def __init__(self, state_size, action_size, seed):\n",
    "            \"\"\"\n",
    "            Initialize an Agent object.\n",
    "            Params:\n",
    "            - state_size (int): dimension of each state\n",
    "            - action_size (int): dimension of each action\n",
    "            - seed (int): random seed\n",
    "            \"\"\"\n",
    "\n",
    "            self.state_size = state_size\n",
    "            self.action_size = action_size\n",
    "            self.seed = random.seed(seed)\n",
    "\n",
    "            # Q-Network\n",
    "            self.qnetwork_local = QNetwork(state_size, action_size, seed).to(device)\n",
    "            self.qnetwork_target = QNetwork(state_size, action_size, seed).to(device)\n",
    "\n",
    "            self.optimizer = optim.Adam(self.qnetwork_local.parameters(),lr=0.0001)\n",
    "\n",
    "            # Replay Memory\n",
    "            self.memory = ReplayBuffer(action_size, BUFFER_SIZE, BATCH_SIZE, seed)\n",
    "\n",
    "            # Initialize time step (for updating every UPDATE_EVERY steps)\n",
    "            self.t_step = 0\n",
    "\n",
    "        def step(self, state, action, reward, next_step, done):\n",
    "            # Save experience in replay memory\n",
    "            self.memory.add(state, action, reward, next_step, done)\n",
    "\n",
    "            # Learn every UPDATE_EVERY time steps.\n",
    "            self.t_step = (self.t_step+1) % UPDATE_EVERY\n",
    "            if self.t_step == 0:\n",
    "                # If enough samples are available in memory, get random subset and learn\n",
    "                if len(self.memory) > BATCH_SIZE:\n",
    "                    experience = self.memory.sample()\n",
    "                    self.learn(experience, GAMMA)\n",
    "\n",
    "\n",
    "        def act(self, state, eps = 0):\n",
    "            \"\"\"\n",
    "            Returns action for given state as per current policy.\n",
    "            Params:\n",
    "            - state (array_like): current state\n",
    "            - eps (float): epsilon, for epsilon-greedy action selection\n",
    "            \"\"\"\n",
    "            state = torch.from_numpy(state).float().unsqueeze(0).to(device)\n",
    "            self.qnetwork_local.eval()\n",
    "            with torch.no_grad():\n",
    "                action_values = self.qnetwork_local(state)\n",
    "            self.qnetwork_local.train()\n",
    "\n",
    "            # Epsilon-greedy action selction\n",
    "            if random.random() > eps:\n",
    "                return np.argmax(action_values.cpu().data.numpy())\n",
    "            else:\n",
    "                return random.choice(np.arange(self.action_size))\n",
    "\n",
    "        def learn(self, experiences, gamma):\n",
    "            \"\"\"\n",
    "            Update value parameters using given batch of experience tuples.\n",
    "            Params:\n",
    "            - experiences (Tuple[torch.Variable]): tuple of (s, a, r, s', done) tuples\n",
    "            - gamma (float): discount factor\n",
    "            \"\"\"\n",
    "            states, actions, rewards, next_states, dones = experiences\n",
    "\n",
    "            \n",
    "            ## TODO: compute and minimize the loss\n",
    "            # Get max predicted Q values (for next states) from target model\n",
    "            Q_targets_next = self.qnetwork_target(next_states).detach().max(1)[0].unsqueeze(1)\n",
    "\n",
    "            # Compute Q targets for current states\n",
    "            Q_targets = rewards + (gamma * Q_targets_next * (1 - dones))\n",
    "\n",
    "            # Get expected Q values from local model\n",
    "            Q_expected = self.qnetwork_local(states).gather(1, actions)\n",
    "\n",
    "            # Compute loss\n",
    "            loss = F.mse_loss(Q_expected, Q_targets)\n",
    "\n",
    "            # Minimize the loss\n",
    "            self.optimizer.zero_grad()\n",
    "            loss.backward()\n",
    "            self.optimizer.step()\n",
    "            \n",
    "\n",
    "            # ------------------- update target network ------------------- #\n",
    "            self.soft_update(self.qnetwork_local, self.qnetwork_target, TAU)\n",
    "\n",
    "        def soft_update(self, local_model, target_model, tau):\n",
    "            \"\"\"\n",
    "            Soft update model parameters.\n",
    "            θ_target = τ*θ_local + (1 - τ)*θ_target\n",
    "\n",
    "            Params:\n",
    "            - local model (PyTorch model): weights will be copied from\n",
    "            - target model (PyTorch model): weights will be copied to\n",
    "            - tau (float): interpolation parameter\n",
    "            \"\"\"\n",
    "            for target_param, local_param in zip(target_model.parameters(), local_model.parameters()):\n",
    "                target_param.data.copy_(tau*local_param.data + (1-tau)*target_param.data)\n",
    "\n",
    "\n",
    "    class ReplayBuffer:\n",
    "        \"\"\"\n",
    "        Fixed-size buffe to store experience tuples.\n",
    "        \"\"\"\n",
    "        def __init__(self, action_size, buffer_size, batch_size, seed):\n",
    "            \"\"\"\n",
    "            Initialize a ReplayBuffer object.\n",
    "            Params:\n",
    "            - action_size (int): dimension of each action\n",
    "            - buffer_size (int): maximum size of buffer\n",
    "            - batch_size (int): size of each training batch\n",
    "            - seed (int): random seed\n",
    "            \"\"\"\n",
    "            self.action_size = action_size\n",
    "            self.memory = deque(maxlen=buffer_size)\n",
    "            self.batch_size = batch_size\n",
    "            self.experiences = namedtuple(\"Experience\", field_names=[\"state\", \"action\", \"reward\", \"next_state\", \"done\"])\n",
    "\n",
    "            self.seed = random.seed(seed)\n",
    "\n",
    "        def add(self,state, action, reward, next_state,done):\n",
    "            \"\"\"\n",
    "            Add a new experience to memory.\n",
    "            \"\"\"\n",
    "            e = self.experiences(state,action,reward,next_state,done)\n",
    "            self.memory.append(e)\n",
    "\n",
    "        def sample(self):\n",
    "            \"\"\"\n",
    "            Randomly sample a batch of experiences from memory.\n",
    "            \"\"\"\n",
    "            experiences = random.sample(self.memory, k=self.batch_size)\n",
    "\n",
    "            states = torch.from_numpy(np.vstack([e.state for e in experiences if e is not None])).float().to(device)\n",
    "            actions = torch.from_numpy(np.vstack([e.action for e in experiences if e is not None])).long().to(device)\n",
    "            rewards = torch.from_numpy(np.vstack([e.reward for e in experiences if e is not None])).float().to(device)\n",
    "            next_states = torch.from_numpy(np.vstack([e.next_state for e in experiences if e is not None])).float().to(device)\n",
    "            dones = torch.from_numpy(np.vstack([e.done for e in experiences if e is not None]).astype(np.uint8)).float().to(device)\n",
    "\n",
    "            return (states,actions,rewards,next_states,dones)\n",
    "\n",
    "        def __len__(self):\n",
    "            \"\"\"\n",
    "            Return the current size of internal memory.\n",
    "            \"\"\"\n",
    "            return len(self.memory)\n",
    "    return Agent(state_size=env.observation_space.shape[0], action_size=env.action_space.n, seed=0)"
   ]
  },
  {
   "cell_type": "code",
   "execution_count": 8,
   "metadata": {},
   "outputs": [],
   "source": [
    "def objective(trial):\n",
    "    env = gymnasium.make(\"FlappyBird-v0\")\n",
    "\n",
    "    # set up matplotlib\n",
    "    is_ipython = 'inline' in matplotlib.get_backend()\n",
    "    if is_ipython:\n",
    "        from IPython import display\n",
    "\n",
    "    plt.ion()\n",
    "\n",
    "    # if gpu is to be used\n",
    "    device = torch.device(\"cuda\" if torch.cuda.is_available() else \"cpu\")\n",
    "    print(device)\n",
    "\n",
    "    #Parameter\n",
    "    BUFFER_SIZE = trial.suggest_int(\"BUFFER_SIZE\", 1e4, 1e6)\n",
    "    BATCH_SIZE = trial.suggest_int(\"BATCH_SIZE\", 32, 256)\n",
    "    GAMMA = trial.suggest_float(\"GAMMA\", 0.8, 0.999)\n",
    "    TAU = trial.suggest_float(\"TAU\", 1e-4, 1e-2)\n",
    "    UPDATE_EVERY = trial.suggest_int(\"UPDATE_EVERY\", 1, 10)\n",
    "\n",
    "    \n",
    "\n",
    "    # Init agent\n",
    "    agent = create_agent(env,BUFFER_SIZE,BATCH_SIZE,GAMMA,TAU,UPDATE_EVERY)\n",
    "    checkpoint_path = \"checkpoints/model_checkpoint\"\n",
    "    checkpoint_dir = \"checkpoints\"\n",
    "    os.makedirs(checkpoint_dir, exist_ok=True)  \n",
    "\n",
    "    def DQN(n_episodes=1000, eps_start=0.9, eps_end=0.01, eps_decay=0.995):\n",
    "        \"\"\"\n",
    "        Deep Q-Learning Training\n",
    "        \"\"\"\n",
    "        scores = []  \n",
    "        scores_window = deque(maxlen=100)  #100 scores\n",
    "        eps = eps_start\n",
    "        best_score = 1\n",
    "\n",
    "\n",
    "        for i_episode in range(n_episodes):\n",
    "            state, _ = env.reset()\n",
    "            score = 0\n",
    "            done = False\n",
    "\n",
    "            while not done:\n",
    "                action = agent.act(state, eps)\n",
    "                next_state, reward, done, _, _ = env.step(action)\n",
    "                agent.step(state, action, reward, next_state, done)\n",
    "\n",
    "                state = next_state\n",
    "                score += reward\n",
    "\n",
    "            scores.append(score)\n",
    "            scores_window.append(score)\n",
    "            eps = max(eps * eps_decay, eps_end)  #Decrease eps\n",
    "\n",
    "            # Save highest checkpoint\n",
    "            score_avg = np.mean(scores_window)\n",
    "            if score_avg > best_score:\n",
    "                best_score = score_avg\n",
    "                torch.save(agent.qnetwork_local.state_dict(), f\"{checkpoint_path}_best_{score_avg:.2f}.pth\")\n",
    "                print(f\" New best model saved! Score: {score_avg:.2f}\")\n",
    "\n",
    "            # Save checkpoint every 1000 eps\n",
    "            if i_episode % 500 == 0:\n",
    "                torch.save(agent.qnetwork_local.state_dict(), f\"{checkpoint_path}_{i_episode}_{score_avg:.2f}.pth\")\n",
    "                print(f\"Checkpoint saved at {time.strftime('%Y-%m-%d %H:%M:%S')}\")\n",
    "\n",
    "            print(f'\\rEpisode {i_episode}\\tAverage Score: {score_avg:.2f}', end=\"\")\n",
    "\n",
    "            # Early stop\n",
    "            if score_avg >= 100:\n",
    "                print(f'\\n✅ Environment solved in {i_episode} episodes! Avg Score: {score_avg:.2f}')\n",
    "                torch.save(agent.qnetwork_local.state_dict(), 'final_model.pth')\n",
    "                break\n",
    "\n",
    "        env.close()  \n",
    "        return np.mean(scores_window)\n",
    "    return DQN()"
   ]
  },
  {
   "cell_type": "code",
   "execution_count": null,
   "metadata": {},
   "outputs": [
    {
     "name": "stderr",
     "output_type": "stream",
     "text": [
      "[I 2025-03-03 07:45:57,063] A new study created in memory with name: no-name-91474039-6fe6-4ae2-aee8-4eedccc72cc3\n"
     ]
    },
    {
     "name": "stdout",
     "output_type": "stream",
     "text": [
      "cuda\n",
      "cuda\n"
     ]
    },
    {
     "name": "stderr",
     "output_type": "stream",
     "text": [
      "/users/eleves-a/2022/felix.ndereyimana/.local/lib/python3.11/site-packages/gymnasium/utils/passive_env_checker.py:158: UserWarning: \u001b[33mWARN: The obs returned by the `reset()` method is not within the observation space.\u001b[0m\n",
      "  logger.warn(f\"{pre} is not within the observation space.\")\n",
      "/users/eleves-a/2022/felix.ndereyimana/.local/lib/python3.11/site-packages/gymnasium/utils/passive_env_checker.py:158: UserWarning: \u001b[33mWARN: The obs returned by the `step()` method is not within the observation space.\u001b[0m\n",
      "  logger.warn(f\"{pre} is not within the observation space.\")\n"
     ]
    },
    {
     "name": "stdout",
     "output_type": "stream",
     "text": [
      "Checkpoint saved at 2025-03-03 07:46:00\n",
      "Episode 499\tAverage Score: -1.40Checkpoint saved at 2025-03-03 07:46:40\n",
      "Episode 996\tAverage Score: -1.39"
     ]
    },
    {
     "name": "stderr",
     "output_type": "stream",
     "text": [
      "[I 2025-03-03 07:47:25,071] Trial 0 finished with value: -1.5309999999999997 and parameters: {'BUFFER_SIZE': 146575, 'BATCH_SIZE': 42, 'GAMMA': 0.9378342300559974, 'TAU': 0.003043388258881088, 'UPDATE_EVERY': 5}. Best is trial 0 with value: -1.5309999999999997.\n"
     ]
    },
    {
     "name": "stdout",
     "output_type": "stream",
     "text": [
      "Episode 999\tAverage Score: -1.53cuda\n",
      "cuda\n",
      "Checkpoint saved at 2025-03-03 07:47:25\n",
      "Episode 499\tAverage Score: -1.71Checkpoint saved at 2025-03-03 07:48:08\n",
      "Episode 997\tAverage Score: -0.35"
     ]
    },
    {
     "name": "stderr",
     "output_type": "stream",
     "text": [
      "[I 2025-03-03 07:48:56,925] Trial 1 finished with value: -0.2779999999999997 and parameters: {'BUFFER_SIZE': 610314, 'BATCH_SIZE': 70, 'GAMMA': 0.9928426923965459, 'TAU': 0.0028448637873904436, 'UPDATE_EVERY': 4}. Best is trial 1 with value: -0.2779999999999997.\n"
     ]
    },
    {
     "name": "stdout",
     "output_type": "stream",
     "text": [
      "Episode 999\tAverage Score: -0.28cuda\n",
      "cuda\n",
      "Checkpoint saved at 2025-03-03 07:48:56\n",
      "Episode 499\tAverage Score: -2.01Checkpoint saved at 2025-03-03 07:49:35\n",
      "Episode 996\tAverage Score: -1.43"
     ]
    },
    {
     "name": "stderr",
     "output_type": "stream",
     "text": [
      "[I 2025-03-03 07:50:21,365] Trial 2 finished with value: -1.4890000000000003 and parameters: {'BUFFER_SIZE': 548012, 'BATCH_SIZE': 140, 'GAMMA': 0.839288578382608, 'TAU': 0.002240971212007394, 'UPDATE_EVERY': 8}. Best is trial 1 with value: -0.2779999999999997.\n"
     ]
    },
    {
     "name": "stdout",
     "output_type": "stream",
     "text": [
      "Episode 999\tAverage Score: -1.49cuda\n",
      "cuda\n",
      "Checkpoint saved at 2025-03-03 07:50:21\n",
      "Episode 499\tAverage Score: -2.18Checkpoint saved at 2025-03-03 07:51:00\n",
      "Episode 998\tAverage Score: -2.17"
     ]
    },
    {
     "name": "stderr",
     "output_type": "stream",
     "text": [
      "[I 2025-03-03 07:51:41,831] Trial 3 finished with value: -2.173 and parameters: {'BUFFER_SIZE': 77236, 'BATCH_SIZE': 116, 'GAMMA': 0.8282793410955961, 'TAU': 0.008181295613864688, 'UPDATE_EVERY': 10}. Best is trial 1 with value: -0.2779999999999997.\n"
     ]
    },
    {
     "name": "stdout",
     "output_type": "stream",
     "text": [
      "Episode 999\tAverage Score: -2.17cuda\n",
      "cuda\n",
      "Checkpoint saved at 2025-03-03 07:51:41\n",
      "Episode 499\tAverage Score: -2.18Checkpoint saved at 2025-03-03 07:52:28\n",
      "Episode 999\tAverage Score: -0.27"
     ]
    },
    {
     "name": "stderr",
     "output_type": "stream",
     "text": [
      "[I 2025-03-03 07:53:15,508] Trial 4 finished with value: -0.269999999999999 and parameters: {'BUFFER_SIZE': 994447, 'BATCH_SIZE': 61, 'GAMMA': 0.9272587907462511, 'TAU': 0.009315275660324227, 'UPDATE_EVERY': 3}. Best is trial 4 with value: -0.269999999999999.\n"
     ]
    },
    {
     "name": "stdout",
     "output_type": "stream",
     "text": [
      "cuda\n",
      "cuda\n",
      "Checkpoint saved at 2025-03-03 07:53:15\n",
      "Episode 499\tAverage Score: -1.52Checkpoint saved at 2025-03-03 07:53:58\n",
      "Episode 998\tAverage Score: 0.416"
     ]
    },
    {
     "name": "stderr",
     "output_type": "stream",
     "text": [
      "[I 2025-03-03 07:54:45,774] Trial 5 finished with value: 0.43700000000000017 and parameters: {'BUFFER_SIZE': 304051, 'BATCH_SIZE': 213, 'GAMMA': 0.9071174560265539, 'TAU': 0.00902502641130395, 'UPDATE_EVERY': 7}. Best is trial 5 with value: 0.43700000000000017.\n"
     ]
    },
    {
     "name": "stdout",
     "output_type": "stream",
     "text": [
      "Episode 999\tAverage Score: 0.44cuda\n",
      "cuda\n",
      "Checkpoint saved at 2025-03-03 07:54:45\n",
      "Episode 499\tAverage Score: -1.67Checkpoint saved at 2025-03-03 07:55:23\n",
      "Episode 998\tAverage Score: -1.52"
     ]
    },
    {
     "name": "stderr",
     "output_type": "stream",
     "text": [
      "[I 2025-03-03 07:56:03,313] Trial 6 finished with value: -1.4599999999999995 and parameters: {'BUFFER_SIZE': 152069, 'BATCH_SIZE': 44, 'GAMMA': 0.8214151961226296, 'TAU': 0.008741142190488493, 'UPDATE_EVERY': 9}. Best is trial 5 with value: 0.43700000000000017.\n"
     ]
    },
    {
     "name": "stdout",
     "output_type": "stream",
     "text": [
      "Episode 999\tAverage Score: -1.46cuda\n",
      "cuda\n",
      "Checkpoint saved at 2025-03-03 07:56:03\n",
      "Episode 499\tAverage Score: -2.97Checkpoint saved at 2025-03-03 07:56:46\n",
      "Episode 996\tAverage Score: -1.81"
     ]
    },
    {
     "name": "stderr",
     "output_type": "stream",
     "text": [
      "[I 2025-03-03 07:57:31,330] Trial 7 finished with value: -1.8269999999999993 and parameters: {'BUFFER_SIZE': 326620, 'BATCH_SIZE': 199, 'GAMMA': 0.8254747578814889, 'TAU': 0.00034196735233360705, 'UPDATE_EVERY': 6}. Best is trial 5 with value: 0.43700000000000017.\n"
     ]
    },
    {
     "name": "stdout",
     "output_type": "stream",
     "text": [
      "Episode 999\tAverage Score: -1.83cuda\n",
      "cuda\n",
      "Checkpoint saved at 2025-03-03 07:57:31\n",
      "Episode 499\tAverage Score: -0.89Checkpoint saved at 2025-03-03 07:58:51\n",
      "Episode 741\tAverage Score: 0.981 New best model saved! Score: 1.00\n",
      "Episode 742\tAverage Score: 1.00 New best model saved! Score: 1.01\n",
      "Episode 743\tAverage Score: 1.01 New best model saved! Score: 1.02\n",
      "Episode 795\tAverage Score: 1.00 New best model saved! Score: 1.03\n",
      "Episode 796\tAverage Score: 1.03 New best model saved! Score: 1.06\n",
      "Episode 797\tAverage Score: 1.06 New best model saved! Score: 1.07\n",
      "Episode 798\tAverage Score: 1.07 New best model saved! Score: 1.07\n",
      "Episode 799\tAverage Score: 1.07 New best model saved! Score: 1.08\n",
      "Episode 811\tAverage Score: 1.07 New best model saved! Score: 1.09\n",
      "Episode 831\tAverage Score: 1.07 New best model saved! Score: 1.10\n",
      "Episode 832\tAverage Score: 1.10 New best model saved! Score: 1.11\n",
      "Episode 856\tAverage Score: 1.10 New best model saved! Score: 1.12\n",
      "Episode 876\tAverage Score: 1.11 New best model saved! Score: 1.13\n",
      "Episode 877\tAverage Score: 1.13 New best model saved! Score: 1.15\n",
      "Episode 878\tAverage Score: 1.15 New best model saved! Score: 1.15\n",
      "Episode 881\tAverage Score: 1.13 New best model saved! Score: 1.16\n",
      "Episode 882\tAverage Score: 1.16 New best model saved! Score: 1.17\n",
      "Episode 884\tAverage Score: 1.16 New best model saved! Score: 1.18\n",
      "Episode 906\tAverage Score: 1.17 New best model saved! Score: 1.22\n",
      "Episode 907\tAverage Score: 1.22 New best model saved! Score: 1.26\n",
      "Episode 913\tAverage Score: 1.26 New best model saved! Score: 1.29\n",
      "Episode 915\tAverage Score: 1.28 New best model saved! Score: 1.29\n",
      "Episode 916\tAverage Score: 1.29 New best model saved! Score: 1.31\n",
      "Episode 917\tAverage Score: 1.31 New best model saved! Score: 1.33\n",
      "Episode 919\tAverage Score: 1.33 New best model saved! Score: 1.35\n",
      "Episode 956\tAverage Score: 1.31 New best model saved! Score: 1.36\n",
      "Episode 957\tAverage Score: 1.36 New best model saved! Score: 1.39\n",
      "Episode 962\tAverage Score: 1.38 New best model saved! Score: 1.40\n",
      "Episode 963\tAverage Score: 1.40 New best model saved! Score: 1.40\n",
      "Episode 964\tAverage Score: 1.40 New best model saved! Score: 1.42\n",
      "Episode 965\tAverage Score: 1.42 New best model saved! Score: 1.45\n",
      "Episode 968\tAverage Score: 1.45 New best model saved! Score: 1.45\n",
      "Episode 974\tAverage Score: 1.43 New best model saved! Score: 1.48\n",
      "Episode 998\tAverage Score: 1.47"
     ]
    },
    {
     "name": "stderr",
     "output_type": "stream",
     "text": [
      "[I 2025-03-03 08:00:17,103] Trial 8 finished with value: 1.4229999999999998 and parameters: {'BUFFER_SIZE': 720880, 'BATCH_SIZE': 88, 'GAMMA': 0.9210254139000001, 'TAU': 0.0035125218327885085, 'UPDATE_EVERY': 1}. Best is trial 8 with value: 1.4229999999999998.\n"
     ]
    },
    {
     "name": "stdout",
     "output_type": "stream",
     "text": [
      "Episode 999\tAverage Score: 1.42cuda\n",
      "cuda\n",
      "Checkpoint saved at 2025-03-03 08:00:17\n",
      "Episode 499\tAverage Score: -2.27Checkpoint saved at 2025-03-03 08:01:00\n",
      "Episode 996\tAverage Score: 0.921"
     ]
    },
    {
     "name": "stderr",
     "output_type": "stream",
     "text": [
      "[I 2025-03-03 08:01:50,019] Trial 9 finished with value: 0.9789999999999998 and parameters: {'BUFFER_SIZE': 659518, 'BATCH_SIZE': 170, 'GAMMA': 0.8225902236360965, 'TAU': 0.003277070231951799, 'UPDATE_EVERY': 5}. Best is trial 8 with value: 1.4229999999999998.\n"
     ]
    },
    {
     "name": "stdout",
     "output_type": "stream",
     "text": [
      " New best model saved! Score: 1.01\n",
      "Episode 999\tAverage Score: 0.98cuda\n",
      "cuda\n",
      "Checkpoint saved at 2025-03-03 08:01:50\n",
      "Episode 499\tAverage Score: -0.77Checkpoint saved at 2025-03-03 08:03:11\n",
      "Episode 627\tAverage Score: 0.970 New best model saved! Score: 1.01\n",
      "Episode 633\tAverage Score: 1.01 New best model saved! Score: 1.02\n",
      "Episode 678\tAverage Score: 0.98 New best model saved! Score: 1.02\n",
      "Episode 679\tAverage Score: 1.02 New best model saved! Score: 1.07\n",
      "Episode 682\tAverage Score: 1.05 New best model saved! Score: 1.07\n",
      "Episode 683\tAverage Score: 1.07 New best model saved! Score: 1.11\n",
      "Episode 694\tAverage Score: 1.10 New best model saved! Score: 1.13\n",
      "Episode 695\tAverage Score: 1.13 New best model saved! Score: 1.17\n",
      "Episode 696\tAverage Score: 1.17 New best model saved! Score: 1.21\n",
      "Episode 697\tAverage Score: 1.21 New best model saved! Score: 1.21\n",
      "Episode 701\tAverage Score: 1.20 New best model saved! Score: 1.23\n",
      "Episode 706\tAverage Score: 1.19 New best model saved! Score: 1.23\n",
      "Episode 707\tAverage Score: 1.23 New best model saved! Score: 1.26\n",
      "Episode 709\tAverage Score: 1.25 New best model saved! Score: 1.28\n",
      "Episode 710\tAverage Score: 1.28 New best model saved! Score: 1.32\n",
      "Episode 714\tAverage Score: 1.32 New best model saved! Score: 1.35\n",
      "Episode 818\tAverage Score: 1.32 New best model saved! Score: 1.35\n",
      "Episode 819\tAverage Score: 1.35 New best model saved! Score: 1.39\n",
      "Episode 820\tAverage Score: 1.39 New best model saved! Score: 1.40\n",
      "Episode 821\tAverage Score: 1.40 New best model saved! Score: 1.44\n",
      "Episode 822\tAverage Score: 1.44 New best model saved! Score: 1.47\n",
      "Episode 825\tAverage Score: 1.44 New best model saved! Score: 1.48\n",
      "Episode 826\tAverage Score: 1.48 New best model saved! Score: 1.50\n",
      "Episode 829\tAverage Score: 1.49 New best model saved! Score: 1.52\n",
      "Episode 830\tAverage Score: 1.52 New best model saved! Score: 1.55\n",
      "Episode 831\tAverage Score: 1.55 New best model saved! Score: 1.57\n",
      "Episode 868\tAverage Score: 1.56 New best model saved! Score: 1.57\n",
      "Episode 869\tAverage Score: 1.57 New best model saved! Score: 1.60\n",
      "Episode 902\tAverage Score: 1.59 New best model saved! Score: 1.63\n",
      "Episode 903\tAverage Score: 1.63 New best model saved! Score: 1.63\n",
      "Episode 904\tAverage Score: 1.63 New best model saved! Score: 1.63\n",
      "Episode 905\tAverage Score: 1.63 New best model saved! Score: 1.64\n",
      "Episode 909\tAverage Score: 1.64 New best model saved! Score: 1.65\n",
      "Episode 912\tAverage Score: 1.64 New best model saved! Score: 1.69\n",
      "Episode 946\tAverage Score: 1.69 New best model saved! Score: 1.71\n",
      "Episode 949\tAverage Score: 1.68 New best model saved! Score: 1.72\n",
      "Episode 950\tAverage Score: 1.72 New best model saved! Score: 1.77\n",
      "Episode 951\tAverage Score: 1.77 New best model saved! Score: 1.77\n",
      "Episode 952\tAverage Score: 1.77 New best model saved! Score: 1.79\n",
      "Episode 953\tAverage Score: 1.79 New best model saved! Score: 1.82\n",
      "Episode 998\tAverage Score: 1.61"
     ]
    },
    {
     "name": "stderr",
     "output_type": "stream",
     "text": [
      "[I 2025-03-03 08:04:37,710] Trial 10 finished with value: 1.6069999999999993 and parameters: {'BUFFER_SIZE': 880316, 'BATCH_SIZE': 104, 'GAMMA': 0.8796196369576921, 'TAU': 0.0059089508823979234, 'UPDATE_EVERY': 1}. Best is trial 10 with value: 1.6069999999999993.\n"
     ]
    },
    {
     "name": "stdout",
     "output_type": "stream",
     "text": [
      "Episode 999\tAverage Score: 1.61cuda\n",
      "cuda\n",
      "Checkpoint saved at 2025-03-03 08:04:37\n",
      "Episode 499\tAverage Score: -0.53Checkpoint saved at 2025-03-03 08:05:56\n",
      "Episode 883\tAverage Score: 0.991 New best model saved! Score: 1.06\n",
      "Episode 885\tAverage Score: 1.02 New best model saved! Score: 1.07\n",
      "Episode 898\tAverage Score: 1.02 New best model saved! Score: 1.08\n",
      "Episode 899\tAverage Score: 1.08 New best model saved! Score: 1.08\n",
      "Episode 905\tAverage Score: 1.06 New best model saved! Score: 1.10\n",
      "Episode 906\tAverage Score: 1.10 New best model saved! Score: 1.11\n",
      "Episode 907\tAverage Score: 1.11 New best model saved! Score: 1.11\n",
      "Episode 908\tAverage Score: 1.11 New best model saved! Score: 1.14\n",
      "Episode 909\tAverage Score: 1.14 New best model saved! Score: 1.15\n",
      "Episode 910\tAverage Score: 1.15 New best model saved! Score: 1.20\n",
      "Episode 911\tAverage Score: 1.20 New best model saved! Score: 1.25\n",
      "Episode 914\tAverage Score: 1.24 New best model saved! Score: 1.28\n",
      "Episode 922\tAverage Score: 1.26 New best model saved! Score: 1.29\n",
      "Episode 923\tAverage Score: 1.29 New best model saved! Score: 1.29\n",
      "Episode 924\tAverage Score: 1.29 New best model saved! Score: 1.32\n",
      "Episode 925\tAverage Score: 1.32 New best model saved! Score: 1.33\n",
      "Episode 926\tAverage Score: 1.33 New best model saved! Score: 1.35\n",
      "Episode 927\tAverage Score: 1.35 New best model saved! Score: 1.37\n",
      "Episode 928\tAverage Score: 1.37 New best model saved! Score: 1.38\n",
      "Episode 930\tAverage Score: 1.38 New best model saved! Score: 1.42\n",
      "Episode 932\tAverage Score: 1.41 New best model saved! Score: 1.46\n",
      "Episode 933\tAverage Score: 1.46 New best model saved! Score: 1.48\n",
      "Episode 934\tAverage Score: 1.48 New best model saved! Score: 1.52\n",
      "Episode 940\tAverage Score: 1.47 New best model saved! Score: 1.56\n",
      "Episode 941\tAverage Score: 1.56 New best model saved! Score: 1.58\n",
      "Episode 944\tAverage Score: 1.54 New best model saved! Score: 1.62\n",
      "Episode 946\tAverage Score: 1.62 New best model saved! Score: 1.65\n",
      "Episode 947\tAverage Score: 1.65 New best model saved! Score: 1.65\n",
      "Episode 948\tAverage Score: 1.65 New best model saved! Score: 1.67\n",
      "Episode 949\tAverage Score: 1.67 New best model saved! Score: 1.71\n",
      "Episode 950\tAverage Score: 1.71 New best model saved! Score: 1.72\n",
      "Episode 951\tAverage Score: 1.72 New best model saved! Score: 1.80\n",
      "Episode 953\tAverage Score: 1.79 New best model saved! Score: 1.80\n",
      "Episode 954\tAverage Score: 1.80 New best model saved! Score: 1.81\n",
      "Episode 961\tAverage Score: 1.78 New best model saved! Score: 1.85\n",
      "Episode 963\tAverage Score: 1.85 New best model saved! Score: 1.93\n",
      "Episode 986\tAverage Score: 1.88 New best model saved! Score: 1.95\n",
      "Episode 987\tAverage Score: 1.95 New best model saved! Score: 1.97\n",
      "Episode 991\tAverage Score: 1.94 New best model saved! Score: 2.02\n",
      "Episode 992\tAverage Score: 2.02 New best model saved! Score: 2.11\n",
      "Episode 993\tAverage Score: 2.11 New best model saved! Score: 2.14\n",
      "Episode 997\tAverage Score: 2.10"
     ]
    },
    {
     "name": "stderr",
     "output_type": "stream",
     "text": [
      "[I 2025-03-03 08:07:35,146] Trial 11 finished with value: 2.116999999999997 and parameters: {'BUFFER_SIZE': 855926, 'BATCH_SIZE': 99, 'GAMMA': 0.876286428336331, 'TAU': 0.006149184620515133, 'UPDATE_EVERY': 1}. Best is trial 11 with value: 2.116999999999997.\n"
     ]
    },
    {
     "name": "stdout",
     "output_type": "stream",
     "text": [
      "Episode 999\tAverage Score: 2.12cuda\n",
      "cuda\n",
      "Checkpoint saved at 2025-03-03 08:07:35\n",
      "Episode 499\tAverage Score: -0.49Checkpoint saved at 2025-03-03 08:08:56\n",
      "Episode 709\tAverage Score: 0.985 New best model saved! Score: 1.01\n",
      "Episode 712\tAverage Score: 1.00 New best model saved! Score: 1.04\n",
      "Episode 714\tAverage Score: 1.04 New best model saved! Score: 1.13\n",
      "Episode 715\tAverage Score: 1.13 New best model saved! Score: 1.17\n",
      "Episode 718\tAverage Score: 1.17 New best model saved! Score: 1.21\n",
      "Episode 721\tAverage Score: 1.19 New best model saved! Score: 1.23\n",
      "Episode 725\tAverage Score: 1.20 New best model saved! Score: 1.23\n",
      "Episode 726\tAverage Score: 1.23 New best model saved! Score: 1.29\n",
      "Episode 728\tAverage Score: 1.28 New best model saved! Score: 1.33\n",
      "Episode 729\tAverage Score: 1.33 New best model saved! Score: 1.40\n",
      "Episode 730\tAverage Score: 1.40 New best model saved! Score: 1.40\n",
      "Episode 731\tAverage Score: 1.40 New best model saved! Score: 1.46\n",
      "Episode 732\tAverage Score: 1.46 New best model saved! Score: 1.49\n",
      "Episode 735\tAverage Score: 1.46 New best model saved! Score: 1.50\n",
      "Episode 736\tAverage Score: 1.50 New best model saved! Score: 1.54\n",
      "Episode 737\tAverage Score: 1.54 New best model saved! Score: 1.56\n",
      "Episode 740\tAverage Score: 1.56 New best model saved! Score: 1.62\n",
      "Episode 741\tAverage Score: 1.62 New best model saved! Score: 1.65\n",
      "Episode 754\tAverage Score: 1.63 New best model saved! Score: 1.67\n",
      "Episode 757\tAverage Score: 1.64 New best model saved! Score: 1.68\n",
      "Episode 758\tAverage Score: 1.68 New best model saved! Score: 1.68\n",
      "Episode 762\tAverage Score: 1.65 New best model saved! Score: 1.70\n",
      "Episode 766\tAverage Score: 1.68 New best model saved! Score: 1.74\n",
      "Episode 767\tAverage Score: 1.74 New best model saved! Score: 1.75\n",
      "Episode 768\tAverage Score: 1.75 New best model saved! Score: 1.78\n",
      "Episode 769\tAverage Score: 1.78 New best model saved! Score: 1.80\n",
      "Episode 770\tAverage Score: 1.80 New best model saved! Score: 1.83\n",
      "Episode 772\tAverage Score: 1.83 New best model saved! Score: 1.95\n",
      "Episode 774\tAverage Score: 1.91 New best model saved! Score: 1.98\n",
      "Episode 775\tAverage Score: 1.98 New best model saved! Score: 2.03\n",
      "Episode 777\tAverage Score: 2.02 New best model saved! Score: 2.08\n",
      "Episode 778\tAverage Score: 2.08 New best model saved! Score: 2.11\n",
      "Episode 779\tAverage Score: 2.11 New best model saved! Score: 2.13\n",
      "Episode 780\tAverage Score: 2.13 New best model saved! Score: 2.13\n",
      "Episode 788\tAverage Score: 2.13 New best model saved! Score: 2.19\n",
      "Episode 797\tAverage Score: 2.17 New best model saved! Score: 2.22\n",
      "Episode 799\tAverage Score: 2.22 New best model saved! Score: 2.22\n",
      "Episode 800\tAverage Score: 2.22 New best model saved! Score: 2.28\n",
      "Episode 801\tAverage Score: 2.28 New best model saved! Score: 2.31\n",
      "Episode 806\tAverage Score: 2.27 New best model saved! Score: 2.33\n",
      "Episode 808\tAverage Score: 2.33 New best model saved! Score: 2.35\n",
      "Episode 882\tAverage Score: 2.34 New best model saved! Score: 2.38\n",
      "Episode 883\tAverage Score: 2.38 New best model saved! Score: 2.40\n",
      "Episode 884\tAverage Score: 2.40 New best model saved! Score: 2.44\n",
      "Episode 932\tAverage Score: 2.42 New best model saved! Score: 2.44\n",
      "Episode 933\tAverage Score: 2.44 New best model saved! Score: 2.47\n",
      "Episode 935\tAverage Score: 2.44 New best model saved! Score: 2.47\n",
      "Episode 936\tAverage Score: 2.47 New best model saved! Score: 2.47\n",
      "Episode 937\tAverage Score: 2.47 New best model saved! Score: 2.50\n",
      "Episode 938\tAverage Score: 2.50 New best model saved! Score: 2.57\n",
      "Episode 939\tAverage Score: 2.57 New best model saved! Score: 2.58\n",
      "Episode 940\tAverage Score: 2.58 New best model saved! Score: 2.60\n",
      "Episode 941\tAverage Score: 2.60 New best model saved! Score: 2.62\n",
      "Episode 955\tAverage Score: 2.58 New best model saved! Score: 2.65\n",
      "Episode 956\tAverage Score: 2.65 New best model saved! Score: 2.68\n",
      "Episode 957\tAverage Score: 2.68 New best model saved! Score: 2.75\n",
      "Episode 958\tAverage Score: 2.75 New best model saved! Score: 2.79\n",
      "Episode 998\tAverage Score: 2.74"
     ]
    },
    {
     "name": "stderr",
     "output_type": "stream",
     "text": [
      "[I 2025-03-03 08:10:37,973] Trial 12 finished with value: 2.758999999999996 and parameters: {'BUFFER_SIZE': 967209, 'BATCH_SIZE': 112, 'GAMMA': 0.8725301994106025, 'TAU': 0.006337696494609, 'UPDATE_EVERY': 1}. Best is trial 12 with value: 2.758999999999996.\n"
     ]
    },
    {
     "name": "stdout",
     "output_type": "stream",
     "text": [
      "Episode 999\tAverage Score: 2.76cuda\n",
      "cuda\n",
      "Checkpoint saved at 2025-03-03 08:10:38\n",
      "Episode 499\tAverage Score: -1.33Checkpoint saved at 2025-03-03 08:11:36\n",
      "Episode 736\tAverage Score: 0.971 New best model saved! Score: 1.00\n",
      "Episode 737\tAverage Score: 1.00 New best model saved! Score: 1.03\n",
      "Episode 755\tAverage Score: 1.03 New best model saved! Score: 1.06\n",
      "Episode 759\tAverage Score: 1.04 New best model saved! Score: 1.09\n",
      "Episode 760\tAverage Score: 1.09 New best model saved! Score: 1.10\n",
      "Episode 761\tAverage Score: 1.10 New best model saved! Score: 1.13\n",
      "Episode 762\tAverage Score: 1.13 New best model saved! Score: 1.14\n",
      "Episode 763\tAverage Score: 1.14 New best model saved! Score: 1.17\n",
      "Episode 764\tAverage Score: 1.17 New best model saved! Score: 1.17\n",
      "Episode 765\tAverage Score: 1.17 New best model saved! Score: 1.21\n",
      "Episode 770\tAverage Score: 1.19 New best model saved! Score: 1.22\n",
      "Episode 771\tAverage Score: 1.22 New best model saved! Score: 1.24\n",
      "Episode 772\tAverage Score: 1.24 New best model saved! Score: 1.27\n",
      "Episode 773\tAverage Score: 1.27 New best model saved! Score: 1.28\n",
      "Episode 784\tAverage Score: 1.25 New best model saved! Score: 1.28\n",
      "Episode 785\tAverage Score: 1.28 New best model saved! Score: 1.28\n",
      "Episode 798\tAverage Score: 1.28 New best model saved! Score: 1.29\n",
      "Episode 799\tAverage Score: 1.29 New best model saved! Score: 1.32\n",
      "Episode 800\tAverage Score: 1.32 New best model saved! Score: 1.32\n",
      "Episode 811\tAverage Score: 1.30 New best model saved! Score: 1.34\n",
      "Episode 830\tAverage Score: 1.34 New best model saved! Score: 1.34\n",
      "Episode 831\tAverage Score: 1.34 New best model saved! Score: 1.36\n",
      "Episode 832\tAverage Score: 1.36 New best model saved! Score: 1.37\n",
      "Episode 833\tAverage Score: 1.37 New best model saved! Score: 1.40\n",
      "Episode 838\tAverage Score: 1.37 New best model saved! Score: 1.41\n",
      "Episode 839\tAverage Score: 1.41 New best model saved! Score: 1.42\n",
      "Episode 841\tAverage Score: 1.41 New best model saved! Score: 1.44\n",
      "Episode 842\tAverage Score: 1.44 New best model saved! Score: 1.48\n",
      "Episode 843\tAverage Score: 1.48 New best model saved! Score: 1.49\n",
      "Episode 844\tAverage Score: 1.49 New best model saved! Score: 1.50\n",
      "Episode 845\tAverage Score: 1.50 New best model saved! Score: 1.52\n",
      "Episode 846\tAverage Score: 1.52 New best model saved! Score: 1.53\n",
      "Episode 853\tAverage Score: 1.52 New best model saved! Score: 1.54\n",
      "Episode 854\tAverage Score: 1.54 New best model saved! Score: 1.55\n",
      "Episode 979\tAverage Score: 1.53 New best model saved! Score: 1.56\n",
      "Episode 981\tAverage Score: 1.55 New best model saved! Score: 1.56\n",
      "Episode 982\tAverage Score: 1.56 New best model saved! Score: 1.60\n",
      "Episode 983\tAverage Score: 1.60 New best model saved! Score: 1.60\n",
      "Episode 985\tAverage Score: 1.60 New best model saved! Score: 1.62\n",
      "Episode 998\tAverage Score: 1.52"
     ]
    },
    {
     "name": "stderr",
     "output_type": "stream",
     "text": [
      "[I 2025-03-03 08:12:37,253] Trial 13 finished with value: 1.5249999999999997 and parameters: {'BUFFER_SIZE': 837748, 'BATCH_SIZE': 144, 'GAMMA': 0.8693192860460718, 'TAU': 0.006659477035136694, 'UPDATE_EVERY': 2}. Best is trial 12 with value: 2.758999999999996.\n"
     ]
    },
    {
     "name": "stdout",
     "output_type": "stream",
     "text": [
      "Episode 999\tAverage Score: 1.52cuda\n",
      "cuda\n",
      "Checkpoint saved at 2025-03-03 08:12:37\n",
      "Episode 499\tAverage Score: -2.56Checkpoint saved at 2025-03-03 08:13:25\n",
      "Episode 965\tAverage Score: 0.94 New best model saved! Score: 1.04\n",
      "Episode 966\tAverage Score: 1.04 New best model saved! Score: 1.07\n",
      "Episode 967\tAverage Score: 1.07 New best model saved! Score: 1.11\n",
      "Episode 968\tAverage Score: 1.11 New best model saved! Score: 1.12\n",
      "Episode 991\tAverage Score: 1.11 New best model saved! Score: 1.13\n",
      "Episode 995\tAverage Score: 1.12 New best model saved! Score: 1.15\n",
      "Episode 996\tAverage Score: 1.15 New best model saved! Score: 1.16\n",
      "Episode 998\tAverage Score: 1.13"
     ]
    },
    {
     "name": "stderr",
     "output_type": "stream",
     "text": [
      "[I 2025-03-03 08:14:18,183] Trial 14 finished with value: 1.15 and parameters: {'BUFFER_SIZE': 989931, 'BATCH_SIZE': 121, 'GAMMA': 0.8623562028232696, 'TAU': 0.007010172046349896, 'UPDATE_EVERY': 3}. Best is trial 12 with value: 2.758999999999996.\n"
     ]
    },
    {
     "name": "stdout",
     "output_type": "stream",
     "text": [
      "Episode 999\tAverage Score: 1.15cuda\n",
      "cuda\n",
      "Checkpoint saved at 2025-03-03 08:14:18\n",
      "Episode 499\tAverage Score: -0.19Checkpoint saved at 2025-03-03 08:15:56\n",
      "Episode 694\tAverage Score: 0.993 New best model saved! Score: 1.01\n",
      "Episode 695\tAverage Score: 1.01 New best model saved! Score: 1.02\n",
      "Episode 696\tAverage Score: 1.02 New best model saved! Score: 1.03\n",
      "Episode 697\tAverage Score: 1.03 New best model saved! Score: 1.05\n",
      "Episode 698\tAverage Score: 1.05 New best model saved! Score: 1.06\n",
      "Episode 707\tAverage Score: 1.06 New best model saved! Score: 1.07\n",
      "Episode 708\tAverage Score: 1.07 New best model saved! Score: 1.09\n",
      "Episode 709\tAverage Score: 1.09 New best model saved! Score: 1.13\n",
      "Episode 710\tAverage Score: 1.13 New best model saved! Score: 1.15\n",
      "Episode 711\tAverage Score: 1.15 New best model saved! Score: 1.19\n",
      "Episode 718\tAverage Score: 1.18 New best model saved! Score: 1.21\n",
      "Episode 780\tAverage Score: 1.19 New best model saved! Score: 1.23\n",
      "Episode 788\tAverage Score: 1.23 New best model saved! Score: 1.23\n",
      "Episode 792\tAverage Score: 1.23 New best model saved! Score: 1.25\n",
      "Episode 999\tAverage Score: 0.84"
     ]
    },
    {
     "name": "stderr",
     "output_type": "stream",
     "text": [
      "[I 2025-03-03 08:17:39,609] Trial 15 finished with value: 0.8380000000000005 and parameters: {'BUFFER_SIZE': 794220, 'BATCH_SIZE': 247, 'GAMMA': 0.9532819142168417, 'TAU': 0.004602898084462479, 'UPDATE_EVERY': 1}. Best is trial 12 with value: 2.758999999999996.\n"
     ]
    },
    {
     "name": "stdout",
     "output_type": "stream",
     "text": [
      "cuda\n",
      "cuda\n",
      "Checkpoint saved at 2025-03-03 08:17:39\n",
      "Episode 499\tAverage Score: -1.79Checkpoint saved at 2025-03-03 08:18:29\n",
      "Episode 998\tAverage Score: 0.672"
     ]
    },
    {
     "name": "stderr",
     "output_type": "stream",
     "text": [
      "[I 2025-03-03 08:19:24,324] Trial 16 finished with value: 0.6730000000000003 and parameters: {'BUFFER_SIZE': 442671, 'BATCH_SIZE': 161, 'GAMMA': 0.8931409267502656, 'TAU': 0.0047351727630115595, 'UPDATE_EVERY': 3}. Best is trial 12 with value: 2.758999999999996.\n"
     ]
    },
    {
     "name": "stdout",
     "output_type": "stream",
     "text": [
      "Episode 999\tAverage Score: 0.67cuda\n",
      "cuda\n",
      "Checkpoint saved at 2025-03-03 08:19:24\n",
      "Episode 499\tAverage Score: -1.27Checkpoint saved at 2025-03-03 08:20:18\n",
      "Episode 821\tAverage Score: 1.000 New best model saved! Score: 1.00\n",
      "Episode 824\tAverage Score: 0.99 New best model saved! Score: 1.03\n",
      "Episode 826\tAverage Score: 1.01 New best model saved! Score: 1.04\n",
      "Episode 827\tAverage Score: 1.04 New best model saved! Score: 1.04\n",
      "Episode 830\tAverage Score: 1.03 New best model saved! Score: 1.04\n",
      "Episode 831\tAverage Score: 1.04 New best model saved! Score: 1.08\n",
      "Episode 836\tAverage Score: 1.00 New best model saved! Score: 1.10\n",
      "Episode 843\tAverage Score: 1.10 New best model saved! Score: 1.18\n",
      "Episode 844\tAverage Score: 1.18 New best model saved! Score: 1.30\n",
      "Episode 845\tAverage Score: 1.30 New best model saved! Score: 1.34\n",
      "Episode 849\tAverage Score: 1.32 New best model saved! Score: 1.36\n",
      "Episode 850\tAverage Score: 1.36 New best model saved! Score: 1.39\n",
      "Episode 968\tAverage Score: 1.37 New best model saved! Score: 1.43\n",
      "Episode 972\tAverage Score: 1.42 New best model saved! Score: 1.46\n",
      "Episode 973\tAverage Score: 1.46 New best model saved! Score: 1.47\n",
      "Episode 974\tAverage Score: 1.47 New best model saved! Score: 1.50\n",
      "Episode 992\tAverage Score: 1.50 New best model saved! Score: 1.53\n",
      "Episode 994\tAverage Score: 1.52 New best model saved! Score: 1.54\n",
      "Episode 995\tAverage Score: 1.54 New best model saved! Score: 1.55\n",
      "Episode 996\tAverage Score: 1.55 New best model saved! Score: 1.57\n",
      "Episode 997\tAverage Score: 1.57"
     ]
    },
    {
     "name": "stderr",
     "output_type": "stream",
     "text": [
      "[I 2025-03-03 08:21:20,436] Trial 17 finished with value: 1.5739999999999987 and parameters: {'BUFFER_SIZE': 895809, 'BATCH_SIZE': 83, 'GAMMA': 0.8608127233818917, 'TAU': 0.007489739515628198, 'UPDATE_EVERY': 2}. Best is trial 12 with value: 2.758999999999996.\n"
     ]
    },
    {
     "name": "stdout",
     "output_type": "stream",
     "text": [
      " New best model saved! Score: 1.57\n",
      "Episode 998\tAverage Score: 1.57 New best model saved! Score: 1.57\n",
      "Episode 999\tAverage Score: 1.57cuda\n",
      "cuda\n",
      "Checkpoint saved at 2025-03-03 08:21:20\n",
      "Episode 499\tAverage Score: -1.53Checkpoint saved at 2025-03-03 08:22:15\n",
      "Episode 811\tAverage Score: 0.99 New best model saved! Score: 1.02\n",
      "Episode 813\tAverage Score: 1.02 New best model saved! Score: 1.04\n",
      "Episode 814\tAverage Score: 1.04 New best model saved! Score: 1.07\n",
      "Episode 832\tAverage Score: 1.05 New best model saved! Score: 1.09\n",
      "Episode 833\tAverage Score: 1.09 New best model saved! Score: 1.10\n",
      "Episode 834\tAverage Score: 1.10 New best model saved! Score: 1.14\n",
      "Episode 840\tAverage Score: 1.11 New best model saved! Score: 1.16\n",
      "Episode 841\tAverage Score: 1.16 New best model saved! Score: 1.18\n",
      "Episode 842\tAverage Score: 1.18 New best model saved! Score: 1.22\n",
      "Episode 843\tAverage Score: 1.22 New best model saved! Score: 1.23\n",
      "Episode 844\tAverage Score: 1.23 New best model saved! Score: 1.26\n",
      "Episode 846\tAverage Score: 1.26 New best model saved! Score: 1.32\n",
      "Episode 847\tAverage Score: 1.32 New best model saved! Score: 1.37\n",
      "Episode 848\tAverage Score: 1.37 New best model saved! Score: 1.40\n",
      "Episode 849\tAverage Score: 1.40 New best model saved! Score: 1.43\n",
      "Episode 860\tAverage Score: 1.41 New best model saved! Score: 1.50\n",
      "Episode 862\tAverage Score: 1.46 New best model saved! Score: 1.50\n",
      "Episode 863\tAverage Score: 1.50 New best model saved! Score: 1.51\n",
      "Episode 864\tAverage Score: 1.51 New best model saved! Score: 1.54\n",
      "Episode 866\tAverage Score: 1.51 New best model saved! Score: 1.56\n",
      "Episode 867\tAverage Score: 1.56 New best model saved! Score: 1.58\n",
      "Episode 868\tAverage Score: 1.58 New best model saved! Score: 1.61\n",
      "Episode 869\tAverage Score: 1.61 New best model saved! Score: 1.64\n",
      "Episode 870\tAverage Score: 1.64 New best model saved! Score: 1.65\n",
      "Episode 878\tAverage Score: 1.64 New best model saved! Score: 1.66\n",
      "Episode 923\tAverage Score: 1.58 New best model saved! Score: 1.67\n",
      "Episode 997\tAverage Score: 1.25"
     ]
    },
    {
     "name": "stderr",
     "output_type": "stream",
     "text": [
      "[I 2025-03-03 08:23:17,336] Trial 18 finished with value: 1.2519999999999996 and parameters: {'BUFFER_SIZE': 729471, 'BATCH_SIZE': 99, 'GAMMA': 0.8524012771086059, 'TAU': 0.005790788129955215, 'UPDATE_EVERY': 2}. Best is trial 12 with value: 2.758999999999996.\n"
     ]
    },
    {
     "name": "stdout",
     "output_type": "stream",
     "text": [
      "Episode 999\tAverage Score: 1.25cuda\n",
      "cuda\n",
      "Checkpoint saved at 2025-03-03 08:23:17\n",
      "Episode 499\tAverage Score: -2.43Checkpoint saved at 2025-03-03 08:24:02\n",
      "Episode 998\tAverage Score: 0.485"
     ]
    },
    {
     "name": "stderr",
     "output_type": "stream",
     "text": [
      "[I 2025-03-03 08:24:55,453] Trial 19 finished with value: 0.4799999999999994 and parameters: {'BUFFER_SIZE': 918617, 'BATCH_SIZE': 123, 'GAMMA': 0.8036495176347118, 'TAU': 0.005794151309036881, 'UPDATE_EVERY': 4}. Best is trial 12 with value: 2.758999999999996.\n"
     ]
    },
    {
     "name": "stdout",
     "output_type": "stream",
     "text": [
      "Episode 999\tAverage Score: 0.48cuda\n",
      "cuda\n",
      "Checkpoint saved at 2025-03-03 08:24:55\n",
      "Episode 499\tAverage Score: -1.70Checkpoint saved at 2025-03-03 08:25:42\n",
      "Episode 996\tAverage Score: -0.16"
     ]
    },
    {
     "name": "stderr",
     "output_type": "stream",
     "text": [
      "[I 2025-03-03 08:26:30,700] Trial 20 finished with value: -0.11099999999999918 and parameters: {'BUFFER_SIZE': 769401, 'BATCH_SIZE': 182, 'GAMMA': 0.8833031265289457, 'TAU': 0.009819470628200743, 'UPDATE_EVERY': 4}. Best is trial 12 with value: 2.758999999999996.\n"
     ]
    },
    {
     "name": "stdout",
     "output_type": "stream",
     "text": [
      "Episode 999\tAverage Score: -0.11cuda\n",
      "cuda\n",
      "Checkpoint saved at 2025-03-03 08:26:30\n",
      "Episode 499\tAverage Score: -0.81Checkpoint saved at 2025-03-03 08:27:52\n",
      "Episode 663\tAverage Score: 0.962 New best model saved! Score: 1.01\n",
      "Episode 664\tAverage Score: 1.01 New best model saved! Score: 1.05\n",
      "Episode 665\tAverage Score: 1.05 New best model saved! Score: 1.06\n",
      "Episode 669\tAverage Score: 1.00 New best model saved! Score: 1.06\n",
      "Episode 671\tAverage Score: 1.06 New best model saved! Score: 1.12\n",
      "Episode 672\tAverage Score: 1.12 New best model saved! Score: 1.14\n",
      "Episode 673\tAverage Score: 1.14 New best model saved! Score: 1.18\n",
      "Episode 674\tAverage Score: 1.18 New best model saved! Score: 1.21\n",
      "Episode 675\tAverage Score: 1.21 New best model saved! Score: 1.22\n",
      "Episode 676\tAverage Score: 1.22 New best model saved! Score: 1.34\n",
      "Episode 677\tAverage Score: 1.34 New best model saved! Score: 1.41\n",
      "Episode 680\tAverage Score: 1.37 New best model saved! Score: 1.42\n",
      "Episode 681\tAverage Score: 1.42 New best model saved! Score: 1.45\n",
      "Episode 682\tAverage Score: 1.45 New best model saved! Score: 1.51\n",
      "Episode 687\tAverage Score: 1.48 New best model saved! Score: 1.56\n",
      "Episode 689\tAverage Score: 1.56 New best model saved! Score: 1.65\n",
      "Episode 690\tAverage Score: 1.65 New best model saved! Score: 1.67\n",
      "Episode 691\tAverage Score: 1.67 New best model saved! Score: 1.72\n",
      "Episode 692\tAverage Score: 1.72 New best model saved! Score: 1.82\n",
      "Episode 717\tAverage Score: 1.81 New best model saved! Score: 1.83\n",
      "Episode 721\tAverage Score: 1.77 New best model saved! Score: 1.87\n",
      "Episode 722\tAverage Score: 1.87 New best model saved! Score: 1.90\n",
      "Episode 723\tAverage Score: 1.90 New best model saved! Score: 1.95\n",
      "Episode 726\tAverage Score: 1.93 New best model saved! Score: 1.97\n",
      "Episode 730\tAverage Score: 1.96 New best model saved! Score: 1.97\n",
      "Episode 733\tAverage Score: 1.96 New best model saved! Score: 2.00\n",
      "Episode 734\tAverage Score: 2.00 New best model saved! Score: 2.08\n",
      "Episode 736\tAverage Score: 2.08 New best model saved! Score: 2.16\n",
      "Episode 738\tAverage Score: 2.14 New best model saved! Score: 2.21\n",
      "Episode 739\tAverage Score: 2.21 New best model saved! Score: 2.26\n",
      "Episode 740\tAverage Score: 2.26 New best model saved! Score: 2.30\n",
      "Episode 741\tAverage Score: 2.30 New best model saved! Score: 2.38\n",
      "Episode 744\tAverage Score: 2.33 New best model saved! Score: 2.43\n",
      "Episode 745\tAverage Score: 2.43 New best model saved! Score: 2.48\n",
      "Episode 746\tAverage Score: 2.48 New best model saved! Score: 2.49\n",
      "Episode 747\tAverage Score: 2.49 New best model saved! Score: 2.50\n",
      "Episode 748\tAverage Score: 2.50 New best model saved! Score: 2.52\n",
      "Episode 749\tAverage Score: 2.52 New best model saved! Score: 2.59\n",
      "Episode 750\tAverage Score: 2.59 New best model saved! Score: 2.61\n",
      "Episode 751\tAverage Score: 2.61 New best model saved! Score: 2.62\n",
      "Episode 756\tAverage Score: 2.61 New best model saved! Score: 2.64\n",
      "Episode 757\tAverage Score: 2.64 New best model saved! Score: 2.67\n",
      "Episode 997\tAverage Score: 1.89"
     ]
    },
    {
     "name": "stderr",
     "output_type": "stream",
     "text": [
      "[I 2025-03-03 08:29:36,417] Trial 21 finished with value: 1.8739999999999981 and parameters: {'BUFFER_SIZE': 884905, 'BATCH_SIZE': 104, 'GAMMA': 0.8843100213082173, 'TAU': 0.006013990020822354, 'UPDATE_EVERY': 1}. Best is trial 12 with value: 2.758999999999996.\n"
     ]
    },
    {
     "name": "stdout",
     "output_type": "stream",
     "text": [
      "Episode 999\tAverage Score: 1.87cuda\n",
      "cuda\n",
      "Checkpoint saved at 2025-03-03 08:29:36\n",
      "Episode 499\tAverage Score: -0.51Checkpoint saved at 2025-03-03 08:30:59\n",
      "Episode 701\tAverage Score: 0.991 New best model saved! Score: 1.03\n",
      "Episode 715\tAverage Score: 1.01 New best model saved! Score: 1.06\n",
      "Episode 716\tAverage Score: 1.06 New best model saved! Score: 1.07\n",
      "Episode 718\tAverage Score: 1.06 New best model saved! Score: 1.10\n",
      "Episode 719\tAverage Score: 1.10 New best model saved! Score: 1.12\n",
      "Episode 738\tAverage Score: 1.12 New best model saved! Score: 1.15\n",
      "Episode 749\tAverage Score: 1.15 New best model saved! Score: 1.17\n",
      "Episode 750\tAverage Score: 1.17 New best model saved! Score: 1.19\n",
      "Episode 759\tAverage Score: 1.19 New best model saved! Score: 1.20\n",
      "Episode 762\tAverage Score: 1.19 New best model saved! Score: 1.22\n",
      "Episode 765\tAverage Score: 1.21 New best model saved! Score: 1.23\n",
      "Episode 766\tAverage Score: 1.23 New best model saved! Score: 1.25\n",
      "Episode 767\tAverage Score: 1.25 New best model saved! Score: 1.26\n",
      "Episode 768\tAverage Score: 1.26 New best model saved! Score: 1.29\n",
      "Episode 900\tAverage Score: 1.29 New best model saved! Score: 1.30\n",
      "Episode 906\tAverage Score: 1.29 New best model saved! Score: 1.31\n",
      "Episode 908\tAverage Score: 1.31 New best model saved! Score: 1.33\n",
      "Episode 909\tAverage Score: 1.33 New best model saved! Score: 1.33\n",
      "Episode 997\tAverage Score: 1.12"
     ]
    },
    {
     "name": "stderr",
     "output_type": "stream",
     "text": [
      "[I 2025-03-03 08:32:26,756] Trial 22 finished with value: 1.0749999999999997 and parameters: {'BUFFER_SIZE': 998701, 'BATCH_SIZE': 141, 'GAMMA': 0.9020001052278676, 'TAU': 0.007733140340740405, 'UPDATE_EVERY': 1}. Best is trial 12 with value: 2.758999999999996.\n"
     ]
    },
    {
     "name": "stdout",
     "output_type": "stream",
     "text": [
      "Episode 999\tAverage Score: 1.07cuda\n",
      "cuda\n",
      "Checkpoint saved at 2025-03-03 08:32:26\n",
      "Episode 499\tAverage Score: -1.48Checkpoint saved at 2025-03-03 08:33:22\n",
      "Episode 869\tAverage Score: 0.98 New best model saved! Score: 1.06\n",
      "Episode 870\tAverage Score: 1.06 New best model saved! Score: 1.07\n",
      "Episode 878\tAverage Score: 0.99 New best model saved! Score: 1.08\n",
      "Episode 879\tAverage Score: 1.08 New best model saved! Score: 1.16\n",
      "Episode 881\tAverage Score: 1.15 New best model saved! Score: 1.19\n",
      "Episode 904\tAverage Score: 1.17 New best model saved! Score: 1.20\n",
      "Episode 905\tAverage Score: 1.20 New best model saved! Score: 1.21\n",
      "Episode 906\tAverage Score: 1.21 New best model saved! Score: 1.22\n",
      "Episode 910\tAverage Score: 1.20 New best model saved! Score: 1.26\n",
      "Episode 924\tAverage Score: 1.16 New best model saved! Score: 1.28\n",
      "Episode 925\tAverage Score: 1.28 New best model saved! Score: 1.28\n",
      "Episode 928\tAverage Score: 1.26 New best model saved! Score: 1.34\n",
      "Episode 932\tAverage Score: 1.34 New best model saved! Score: 1.35\n",
      "Episode 935\tAverage Score: 1.32 New best model saved! Score: 1.39\n",
      "Episode 936\tAverage Score: 1.39 New best model saved! Score: 1.41\n",
      "Episode 937\tAverage Score: 1.41 New best model saved! Score: 1.49\n",
      "Episode 944\tAverage Score: 1.47 New best model saved! Score: 1.50\n",
      "Episode 945\tAverage Score: 1.50 New best model saved! Score: 1.51\n",
      "Episode 946\tAverage Score: 1.51 New best model saved! Score: 1.54\n",
      "Episode 947\tAverage Score: 1.54 New best model saved! Score: 1.59\n",
      "Episode 948\tAverage Score: 1.59 New best model saved! Score: 1.60\n",
      "Episode 950\tAverage Score: 1.59 New best model saved! Score: 1.62\n",
      "Episode 951\tAverage Score: 1.62 New best model saved! Score: 1.71\n",
      "Episode 976\tAverage Score: 1.67 New best model saved! Score: 1.71\n",
      "Episode 977\tAverage Score: 1.71 New best model saved! Score: 1.72\n",
      "Episode 987\tAverage Score: 1.66 New best model saved! Score: 1.72\n",
      "Episode 989\tAverage Score: 1.72 New best model saved! Score: 1.76\n",
      "Episode 998\tAverage Score: 1.65"
     ]
    },
    {
     "name": "stderr",
     "output_type": "stream",
     "text": [
      "[I 2025-03-03 08:34:25,237] Trial 23 finished with value: 1.6849999999999983 and parameters: {'BUFFER_SIZE': 849538, 'BATCH_SIZE': 71, 'GAMMA': 0.846973721650347, 'TAU': 0.006416770590197231, 'UPDATE_EVERY': 2}. Best is trial 12 with value: 2.758999999999996.\n"
     ]
    },
    {
     "name": "stdout",
     "output_type": "stream",
     "text": [
      "Episode 999\tAverage Score: 1.68cuda\n",
      "cuda\n",
      "Checkpoint saved at 2025-03-03 08:34:25\n",
      "Episode 499\tAverage Score: -0.55Checkpoint saved at 2025-03-03 08:35:44\n",
      "Episode 654\tAverage Score: 0.972 New best model saved! Score: 1.03\n",
      "Episode 655\tAverage Score: 1.03 New best model saved! Score: 1.03\n",
      "Episode 683\tAverage Score: 1.03 New best model saved! Score: 1.05\n",
      "Episode 686\tAverage Score: 1.02 New best model saved! Score: 1.05\n",
      "Episode 694\tAverage Score: 1.02 New best model saved! Score: 1.06\n",
      "Episode 695\tAverage Score: 1.06 New best model saved! Score: 1.09\n",
      "Episode 696\tAverage Score: 1.09 New best model saved! Score: 1.12\n",
      "Episode 702\tAverage Score: 1.10 New best model saved! Score: 1.12\n",
      "Episode 703\tAverage Score: 1.12 New best model saved! Score: 1.16\n",
      "Episode 707\tAverage Score: 1.14 New best model saved! Score: 1.20\n",
      "Episode 709\tAverage Score: 1.19 New best model saved! Score: 1.23\n",
      "Episode 710\tAverage Score: 1.23 New best model saved! Score: 1.27\n",
      "Episode 712\tAverage Score: 1.25 New best model saved! Score: 1.33\n",
      "Episode 715\tAverage Score: 1.33 New best model saved! Score: 1.36\n",
      "Episode 716\tAverage Score: 1.36 New best model saved! Score: 1.37\n",
      "Episode 758\tAverage Score: 1.35 New best model saved! Score: 1.42\n",
      "Episode 759\tAverage Score: 1.42 New best model saved! Score: 1.46\n",
      "Episode 772\tAverage Score: 1.46 New best model saved! Score: 1.49\n",
      "Episode 773\tAverage Score: 1.49 New best model saved! Score: 1.51\n",
      "Episode 774\tAverage Score: 1.51 New best model saved! Score: 1.51\n",
      "Episode 775\tAverage Score: 1.51 New best model saved! Score: 1.54\n",
      "Episode 776\tAverage Score: 1.54 New best model saved! Score: 1.55\n",
      "Episode 778\tAverage Score: 1.55 New best model saved! Score: 1.57\n",
      "Episode 787\tAverage Score: 1.56 New best model saved! Score: 1.60\n",
      "Episode 788\tAverage Score: 1.60 New best model saved! Score: 1.61\n",
      "Episode 849\tAverage Score: 1.61 New best model saved! Score: 1.62\n",
      "Episode 853\tAverage Score: 1.59 New best model saved! Score: 1.65\n",
      "Episode 864\tAverage Score: 1.65 New best model saved! Score: 1.69\n",
      "Episode 883\tAverage Score: 1.66 New best model saved! Score: 1.69\n",
      "Episode 893\tAverage Score: 1.69 New best model saved! Score: 1.72\n",
      "Episode 894\tAverage Score: 1.72 New best model saved! Score: 1.72\n",
      "Episode 896\tAverage Score: 1.71 New best model saved! Score: 1.78\n",
      "Episode 897\tAverage Score: 1.78 New best model saved! Score: 1.81\n",
      "Episode 998\tAverage Score: 1.15"
     ]
    },
    {
     "name": "stderr",
     "output_type": "stream",
     "text": [
      "[I 2025-03-03 08:37:15,660] Trial 24 finished with value: 1.1959999999999997 and parameters: {'BUFFER_SIZE': 922104, 'BATCH_SIZE': 106, 'GAMMA': 0.8767393944585078, 'TAU': 0.004414598901423127, 'UPDATE_EVERY': 1}. Best is trial 12 with value: 2.758999999999996.\n"
     ]
    },
    {
     "name": "stdout",
     "output_type": "stream",
     "text": [
      "Episode 999\tAverage Score: 1.20cuda\n",
      "cuda\n",
      "Checkpoint saved at 2025-03-03 08:37:15\n",
      "Episode 499\tAverage Score: -1.85Checkpoint saved at 2025-03-03 08:38:06\n",
      "Episode 719\tAverage Score: 0.884 New best model saved! Score: 1.00\n",
      "Episode 720\tAverage Score: 1.00 New best model saved! Score: 1.06\n",
      "Episode 721\tAverage Score: 1.06 New best model saved! Score: 1.12\n",
      "Episode 722\tAverage Score: 1.12 New best model saved! Score: 1.14\n",
      "Episode 723\tAverage Score: 1.14 New best model saved! Score: 1.21\n",
      "Episode 730\tAverage Score: 1.17 New best model saved! Score: 1.26\n",
      "Episode 731\tAverage Score: 1.26 New best model saved! Score: 1.31\n",
      "Episode 733\tAverage Score: 1.30 New best model saved! Score: 1.33\n",
      "Episode 735\tAverage Score: 1.33 New best model saved! Score: 1.41\n",
      "Episode 736\tAverage Score: 1.41 New best model saved! Score: 1.46\n",
      "Episode 737\tAverage Score: 1.46 New best model saved! Score: 1.46\n",
      "Episode 739\tAverage Score: 1.46 New best model saved! Score: 1.53\n",
      "Episode 740\tAverage Score: 1.53 New best model saved! Score: 1.58\n",
      "Episode 741\tAverage Score: 1.58 New best model saved! Score: 1.64\n",
      "Episode 742\tAverage Score: 1.64 New best model saved! Score: 1.66\n",
      "Episode 756\tAverage Score: 1.65 New best model saved! Score: 1.70\n",
      "Episode 757\tAverage Score: 1.70 New best model saved! Score: 1.73\n",
      "Episode 758\tAverage Score: 1.73 New best model saved! Score: 1.74\n",
      "Episode 759\tAverage Score: 1.74 New best model saved! Score: 1.83\n",
      "Episode 760\tAverage Score: 1.83 New best model saved! Score: 1.88\n",
      "Episode 761\tAverage Score: 1.88 New best model saved! Score: 1.88\n",
      "Episode 763\tAverage Score: 1.87 New best model saved! Score: 1.88\n",
      "Episode 764\tAverage Score: 1.88 New best model saved! Score: 1.97\n",
      "Episode 765\tAverage Score: 1.97 New best model saved! Score: 1.99\n",
      "Episode 767\tAverage Score: 1.98 New best model saved! Score: 2.01\n",
      "Episode 797\tAverage Score: 1.97 New best model saved! Score: 2.02\n",
      "Episode 798\tAverage Score: 2.02 New best model saved! Score: 2.04\n",
      "Episode 799\tAverage Score: 2.04 New best model saved! Score: 2.07\n",
      "Episode 800\tAverage Score: 2.07 New best model saved! Score: 2.12\n",
      "Episode 801\tAverage Score: 2.12 New best model saved! Score: 2.16\n",
      "Episode 802\tAverage Score: 2.16 New best model saved! Score: 2.17\n",
      "Episode 803\tAverage Score: 2.17 New best model saved! Score: 2.22\n",
      "Episode 804\tAverage Score: 2.22 New best model saved! Score: 2.22\n",
      "Episode 805\tAverage Score: 2.22 New best model saved! Score: 2.23\n",
      "Episode 806\tAverage Score: 2.23 New best model saved! Score: 2.34\n",
      "Episode 807\tAverage Score: 2.34 New best model saved! Score: 2.40\n",
      "Episode 826\tAverage Score: 2.35 New best model saved! Score: 2.41\n",
      "Episode 827\tAverage Score: 2.41 New best model saved! Score: 2.42\n",
      "Episode 828\tAverage Score: 2.42 New best model saved! Score: 2.43\n",
      "Episode 829\tAverage Score: 2.43 New best model saved! Score: 2.44\n",
      "Episode 833\tAverage Score: 2.42 New best model saved! Score: 2.45\n",
      "Episode 843\tAverage Score: 2.43 New best model saved! Score: 2.51\n",
      "Episode 844\tAverage Score: 2.51 New best model saved! Score: 2.56\n",
      "Episode 845\tAverage Score: 2.56 New best model saved! Score: 2.58\n",
      "Episode 846\tAverage Score: 2.58 New best model saved! Score: 2.61\n",
      "Episode 851\tAverage Score: 2.60 New best model saved! Score: 2.69\n",
      "Episode 852\tAverage Score: 2.69 New best model saved! Score: 2.70\n",
      "Episode 853\tAverage Score: 2.70 New best model saved! Score: 2.73\n",
      "Episode 854\tAverage Score: 2.73 New best model saved! Score: 2.74\n",
      "Episode 861\tAverage Score: 2.66 New best model saved! Score: 2.75\n",
      "Episode 873\tAverage Score: 2.71 New best model saved! Score: 2.81\n",
      "Episode 876\tAverage Score: 2.78 New best model saved! Score: 2.85\n",
      "Episode 878\tAverage Score: 2.82 New best model saved! Score: 2.85\n",
      "Episode 879\tAverage Score: 2.85 New best model saved! Score: 2.94\n",
      "Episode 882\tAverage Score: 2.93 New best model saved! Score: 3.01\n",
      "Episode 885\tAverage Score: 2.99 New best model saved! Score: 3.01\n",
      "Episode 886\tAverage Score: 3.01 New best model saved! Score: 3.03\n",
      "Episode 887\tAverage Score: 3.03 New best model saved! Score: 3.08\n",
      "Episode 888\tAverage Score: 3.08 New best model saved! Score: 3.11\n",
      "Episode 892\tAverage Score: 3.09 New best model saved! Score: 3.15\n",
      "Episode 893\tAverage Score: 3.15 New best model saved! Score: 3.16\n",
      "Episode 895\tAverage Score: 3.11 New best model saved! Score: 3.16\n",
      "Episode 896\tAverage Score: 3.16 New best model saved! Score: 3.21\n",
      "Episode 897\tAverage Score: 3.21 New best model saved! Score: 3.23\n",
      "Episode 910\tAverage Score: 3.19 New best model saved! Score: 3.28\n",
      "Episode 911\tAverage Score: 3.28 New best model saved! Score: 3.31\n",
      "Episode 912\tAverage Score: 3.31 New best model saved! Score: 3.35\n",
      "Episode 913\tAverage Score: 3.35 New best model saved! Score: 3.38\n",
      "Episode 914\tAverage Score: 3.38 New best model saved! Score: 3.41\n",
      "Episode 916\tAverage Score: 3.39 New best model saved! Score: 3.45\n",
      "Episode 917\tAverage Score: 3.45 New best model saved! Score: 3.64\n",
      "Episode 918\tAverage Score: 3.64 New best model saved! Score: 3.65\n",
      "Episode 920\tAverage Score: 3.65 New best model saved! Score: 3.69\n",
      "Episode 922\tAverage Score: 3.69 New best model saved! Score: 3.69\n",
      "Episode 923\tAverage Score: 3.69 New best model saved! Score: 3.70\n",
      "Episode 929\tAverage Score: 3.53 New best model saved! Score: 3.73\n",
      "Episode 930\tAverage Score: 3.73 New best model saved! Score: 3.74\n",
      "Episode 933\tAverage Score: 3.67 New best model saved! Score: 3.80\n",
      "Episode 934\tAverage Score: 3.80 New best model saved! Score: 3.81\n",
      "Episode 935\tAverage Score: 3.81 New best model saved! Score: 3.91\n",
      "Episode 937\tAverage Score: 3.90 New best model saved! Score: 3.94\n",
      "Episode 939\tAverage Score: 3.93 New best model saved! Score: 3.95\n",
      "Episode 940\tAverage Score: 3.95 New best model saved! Score: 3.97\n",
      "Episode 942\tAverage Score: 3.95 New best model saved! Score: 3.97\n",
      "Episode 943\tAverage Score: 3.97 New best model saved! Score: 4.00\n",
      "Episode 944\tAverage Score: 4.00 New best model saved! Score: 4.02\n",
      "Episode 945\tAverage Score: 4.02 New best model saved! Score: 4.03\n",
      "Episode 946\tAverage Score: 4.03 New best model saved! Score: 4.05\n",
      "Episode 948\tAverage Score: 4.05 New best model saved! Score: 4.06\n",
      "Episode 965\tAverage Score: 3.98 New best model saved! Score: 4.07\n",
      "Episode 966\tAverage Score: 4.07 New best model saved! Score: 4.18\n",
      "Episode 967\tAverage Score: 4.18 New best model saved! Score: 4.19\n",
      "Episode 971\tAverage Score: 4.15 New best model saved! Score: 4.21\n",
      "Episode 984\tAverage Score: 4.20 New best model saved! Score: 4.27\n",
      "Episode 998\tAverage Score: 4.17"
     ]
    },
    {
     "name": "stderr",
     "output_type": "stream",
     "text": [
      "[I 2025-03-03 08:39:22,063] Trial 25 finished with value: 4.195999999999997 and parameters: {'BUFFER_SIZE': 657941, 'BATCH_SIZE': 130, 'GAMMA': 0.8930005569554494, 'TAU': 0.005222154546958184, 'UPDATE_EVERY': 3}. Best is trial 25 with value: 4.195999999999997.\n"
     ]
    },
    {
     "name": "stdout",
     "output_type": "stream",
     "text": [
      "Episode 999\tAverage Score: 4.20cuda\n",
      "cuda\n",
      "Checkpoint saved at 2025-03-03 08:39:22\n",
      "Episode 499\tAverage Score: -1.99Checkpoint saved at 2025-03-03 08:40:11\n",
      "Episode 997\tAverage Score: 0.665"
     ]
    },
    {
     "name": "stderr",
     "output_type": "stream",
     "text": [
      "[I 2025-03-03 08:41:05,612] Trial 26 finished with value: 0.6690000000000002 and parameters: {'BUFFER_SIZE': 663230, 'BATCH_SIZE': 129, 'GAMMA': 0.9142689637761866, 'TAU': 0.005222565897589824, 'UPDATE_EVERY': 3}. Best is trial 25 with value: 4.195999999999997.\n"
     ]
    },
    {
     "name": "stdout",
     "output_type": "stream",
     "text": [
      "Episode 999\tAverage Score: 0.67cuda\n",
      "cuda\n",
      "Checkpoint saved at 2025-03-03 08:41:05\n",
      "Episode 499\tAverage Score: -2.15Checkpoint saved at 2025-03-03 08:42:03\n",
      "Episode 898\tAverage Score: 0.99 New best model saved! Score: 1.01\n",
      "Episode 899\tAverage Score: 1.01 New best model saved! Score: 1.03\n",
      "Episode 905\tAverage Score: 1.02 New best model saved! Score: 1.05\n",
      "Episode 906\tAverage Score: 1.05 New best model saved! Score: 1.07\n",
      "Episode 907\tAverage Score: 1.07 New best model saved! Score: 1.08\n",
      "Episode 954\tAverage Score: 1.05 New best model saved! Score: 1.08\n",
      "Episode 997\tAverage Score: 0.91"
     ]
    },
    {
     "name": "stderr",
     "output_type": "stream",
     "text": [
      "[I 2025-03-03 08:43:03,722] Trial 27 finished with value: 0.9220000000000005 and parameters: {'BUFFER_SIZE': 573039, 'BATCH_SIZE': 152, 'GAMMA': 0.9549345225685404, 'TAU': 0.004013480459266401, 'UPDATE_EVERY': 2}. Best is trial 25 with value: 4.195999999999997.\n"
     ]
    },
    {
     "name": "stdout",
     "output_type": "stream",
     "text": [
      "Episode 999\tAverage Score: 0.92cuda\n",
      "cuda\n",
      "Checkpoint saved at 2025-03-03 08:43:03\n",
      "Episode 499\tAverage Score: -2.00Checkpoint saved at 2025-03-03 08:43:50\n",
      "Episode 998\tAverage Score: -0.42"
     ]
    },
    {
     "name": "stderr",
     "output_type": "stream",
     "text": [
      "[I 2025-03-03 08:44:43,012] Trial 28 finished with value: -0.4109999999999999 and parameters: {'BUFFER_SIZE': 469673, 'BATCH_SIZE': 84, 'GAMMA': 0.899094023590701, 'TAU': 0.0019460179016515338, 'UPDATE_EVERY': 3}. Best is trial 25 with value: 4.195999999999997.\n"
     ]
    },
    {
     "name": "stdout",
     "output_type": "stream",
     "text": [
      "Episode 999\tAverage Score: -0.41cuda\n",
      "cuda\n",
      "Checkpoint saved at 2025-03-03 08:44:43\n",
      "Episode 499\tAverage Score: -1.94Checkpoint saved at 2025-03-03 08:45:22\n",
      "Episode 998\tAverage Score: -1.13"
     ]
    },
    {
     "name": "stderr",
     "output_type": "stream",
     "text": [
      "[I 2025-03-03 08:46:05,753] Trial 29 finished with value: -1.1409999999999996 and parameters: {'BUFFER_SIZE': 774080, 'BATCH_SIZE': 42, 'GAMMA': 0.9306747956986952, 'TAU': 0.0053240387862797086, 'UPDATE_EVERY': 5}. Best is trial 25 with value: 4.195999999999997.\n"
     ]
    },
    {
     "name": "stdout",
     "output_type": "stream",
     "text": [
      "Episode 999\tAverage Score: -1.14cuda\n",
      "cuda\n",
      "Checkpoint saved at 2025-03-03 08:46:05\n",
      "Episode 499\tAverage Score: -1.85Checkpoint saved at 2025-03-03 08:46:44\n",
      "Episode 996\tAverage Score: 0.474"
     ]
    },
    {
     "name": "stderr",
     "output_type": "stream",
     "text": [
      "[I 2025-03-03 08:47:26,387] Trial 30 finished with value: 0.5420000000000003 and parameters: {'BUFFER_SIZE': 662607, 'BATCH_SIZE': 57, 'GAMMA': 0.948563188006432, 'TAU': 0.007476160700136136, 'UPDATE_EVERY': 6}. Best is trial 25 with value: 4.195999999999997.\n"
     ]
    },
    {
     "name": "stdout",
     "output_type": "stream",
     "text": [
      "Episode 999\tAverage Score: 0.54cuda\n",
      "cuda\n",
      "Checkpoint saved at 2025-03-03 08:47:26\n",
      "Episode 499\tAverage Score: -0.61Checkpoint saved at 2025-03-03 08:48:43\n",
      "Episode 728\tAverage Score: 0.973 New best model saved! Score: 1.00\n",
      "Episode 729\tAverage Score: 1.00 New best model saved! Score: 1.00\n",
      "Episode 730\tAverage Score: 1.00 New best model saved! Score: 1.00\n",
      "Episode 732\tAverage Score: 0.97 New best model saved! Score: 1.01\n",
      "Episode 736\tAverage Score: 1.00 New best model saved! Score: 1.04\n",
      "Episode 744\tAverage Score: 1.03 New best model saved! Score: 1.04\n",
      "Episode 746\tAverage Score: 1.02 New best model saved! Score: 1.07\n",
      "Episode 747\tAverage Score: 1.07 New best model saved! Score: 1.08\n",
      "Episode 750\tAverage Score: 1.08 New best model saved! Score: 1.08\n",
      "Episode 751\tAverage Score: 1.08 New best model saved! Score: 1.10\n",
      "Episode 753\tAverage Score: 1.10 New best model saved! Score: 1.10\n",
      "Episode 754\tAverage Score: 1.10 New best model saved! Score: 1.12\n",
      "Episode 757\tAverage Score: 1.09 New best model saved! Score: 1.12\n",
      "Episode 771\tAverage Score: 1.11 New best model saved! Score: 1.15\n",
      "Episode 772\tAverage Score: 1.15 New best model saved! Score: 1.15\n",
      "Episode 773\tAverage Score: 1.15 New best model saved! Score: 1.20\n",
      "Episode 776\tAverage Score: 1.18 New best model saved! Score: 1.21\n",
      "Episode 777\tAverage Score: 1.21 New best model saved! Score: 1.24\n",
      "Episode 778\tAverage Score: 1.24 New best model saved! Score: 1.25\n",
      "Episode 979\tAverage Score: 1.23 New best model saved! Score: 1.26\n",
      "Episode 985\tAverage Score: 1.23 New best model saved! Score: 1.29\n",
      "Episode 986\tAverage Score: 1.29 New best model saved! Score: 1.32\n",
      "Episode 988\tAverage Score: 1.32 New best model saved! Score: 1.34\n",
      "Episode 993\tAverage Score: 1.30 New best model saved! Score: 1.35\n",
      "Episode 994\tAverage Score: 1.35 New best model saved! Score: 1.37\n",
      "Episode 995\tAverage Score: 1.37 New best model saved! Score: 1.40\n",
      "Episode 996\tAverage Score: 1.40 New best model saved! Score: 1.42\n",
      "Episode 997\tAverage Score: 1.42 New best model saved! Score: 1.42\n",
      "Episode 998\tAverage Score: 1.42"
     ]
    },
    {
     "name": "stderr",
     "output_type": "stream",
     "text": [
      "[I 2025-03-03 08:50:08,101] Trial 31 finished with value: 1.4010000000000002 and parameters: {'BUFFER_SIZE': 826812, 'BATCH_SIZE': 96, 'GAMMA': 0.8894348665309251, 'TAU': 0.006696152437232448, 'UPDATE_EVERY': 1}. Best is trial 25 with value: 4.195999999999997.\n"
     ]
    },
    {
     "name": "stdout",
     "output_type": "stream",
     "text": [
      "Episode 999\tAverage Score: 1.40cuda\n",
      "cuda\n",
      "Checkpoint saved at 2025-03-03 08:50:08\n",
      "Episode 499\tAverage Score: -1.13Checkpoint saved at 2025-03-03 08:51:06\n",
      "Episode 696\tAverage Score: 1.00 New best model saved! Score: 1.00\n",
      "Episode 697\tAverage Score: 1.00 New best model saved! Score: 1.04\n",
      "Episode 699\tAverage Score: 1.03 New best model saved! Score: 1.04\n",
      "Episode 704\tAverage Score: 1.01 New best model saved! Score: 1.04\n",
      "Episode 705\tAverage Score: 1.04 New best model saved! Score: 1.05\n",
      "Episode 737\tAverage Score: 1.00 New best model saved! Score: 1.10\n",
      "Episode 743\tAverage Score: 1.06 New best model saved! Score: 1.10\n",
      "Episode 749\tAverage Score: 1.08 New best model saved! Score: 1.11\n",
      "Episode 750\tAverage Score: 1.11 New best model saved! Score: 1.12\n",
      "Episode 753\tAverage Score: 1.09 New best model saved! Score: 1.13\n",
      "Episode 930\tAverage Score: 1.10 New best model saved! Score: 1.13\n",
      "Episode 931\tAverage Score: 1.13 New best model saved! Score: 1.14\n",
      "Episode 932\tAverage Score: 1.14 New best model saved! Score: 1.14\n",
      "Episode 936\tAverage Score: 1.11 New best model saved! Score: 1.15\n",
      "Episode 939\tAverage Score: 1.13 New best model saved! Score: 1.17\n",
      "Episode 940\tAverage Score: 1.17 New best model saved! Score: 1.20\n",
      "Episode 941\tAverage Score: 1.20 New best model saved! Score: 1.31\n",
      "Episode 944\tAverage Score: 1.30 New best model saved! Score: 1.35\n",
      "Episode 950\tAverage Score: 1.34 New best model saved! Score: 1.36\n",
      "Episode 951\tAverage Score: 1.36 New best model saved! Score: 1.36\n",
      "Episode 952\tAverage Score: 1.36 New best model saved! Score: 1.38\n",
      "Episode 958\tAverage Score: 1.35 New best model saved! Score: 1.41\n",
      "Episode 959\tAverage Score: 1.41 New best model saved! Score: 1.44\n",
      "Episode 960\tAverage Score: 1.44 New best model saved! Score: 1.48\n",
      "Episode 961\tAverage Score: 1.48 New best model saved! Score: 1.48\n",
      "Episode 962\tAverage Score: 1.48 New best model saved! Score: 1.50\n",
      "Episode 963\tAverage Score: 1.50 New best model saved! Score: 1.52\n",
      "Episode 998\tAverage Score: 1.39"
     ]
    },
    {
     "name": "stderr",
     "output_type": "stream",
     "text": [
      "[I 2025-03-03 08:52:09,470] Trial 32 finished with value: 1.3709999999999996 and parameters: {'BUFFER_SIZE': 934530, 'BATCH_SIZE': 115, 'GAMMA': 0.8735545201867755, 'TAU': 0.006156571948699887, 'UPDATE_EVERY': 2}. Best is trial 25 with value: 4.195999999999997.\n"
     ]
    },
    {
     "name": "stdout",
     "output_type": "stream",
     "text": [
      "Episode 999\tAverage Score: 1.37cuda\n",
      "cuda\n",
      "Checkpoint saved at 2025-03-03 08:52:09\n",
      "Episode 499\tAverage Score: -0.49Checkpoint saved at 2025-03-03 08:53:33\n",
      "Episode 778\tAverage Score: 0.95 New best model saved! Score: 1.00\n",
      "Episode 779\tAverage Score: 1.00 New best model saved! Score: 1.00\n",
      "Episode 780\tAverage Score: 1.00 New best model saved! Score: 1.03\n",
      "Episode 781\tAverage Score: 1.03 New best model saved! Score: 1.06\n",
      "Episode 796\tAverage Score: 1.04 New best model saved! Score: 1.07\n",
      "Episode 841\tAverage Score: 1.05 New best model saved! Score: 1.07\n",
      "Episode 842\tAverage Score: 1.07 New best model saved! Score: 1.11\n",
      "Episode 843\tAverage Score: 1.11 New best model saved! Score: 1.13\n",
      "Episode 858\tAverage Score: 1.11 New best model saved! Score: 1.13\n",
      "Episode 859\tAverage Score: 1.13 New best model saved! Score: 1.14\n",
      "Episode 860\tAverage Score: 1.14 New best model saved! Score: 1.17\n",
      "Episode 861\tAverage Score: 1.17 New best model saved! Score: 1.18\n",
      "Episode 864\tAverage Score: 1.17 New best model saved! Score: 1.19\n",
      "Episode 865\tAverage Score: 1.19 New best model saved! Score: 1.22\n",
      "Episode 867\tAverage Score: 1.22 New best model saved! Score: 1.22\n",
      "Episode 868\tAverage Score: 1.22 New best model saved! Score: 1.26\n",
      "Episode 869\tAverage Score: 1.26 New best model saved! Score: 1.27\n",
      "Episode 870\tAverage Score: 1.27 New best model saved! Score: 1.27\n",
      "Episode 884\tAverage Score: 1.25 New best model saved! Score: 1.30\n",
      "Episode 885\tAverage Score: 1.30 New best model saved! Score: 1.32\n",
      "Episode 886\tAverage Score: 1.32 New best model saved! Score: 1.36\n",
      "Episode 888\tAverage Score: 1.35 New best model saved! Score: 1.36\n",
      "Episode 901\tAverage Score: 1.35 New best model saved! Score: 1.38\n",
      "Episode 902\tAverage Score: 1.38 New best model saved! Score: 1.39\n",
      "Episode 903\tAverage Score: 1.39 New best model saved! Score: 1.40\n",
      "Episode 905\tAverage Score: 1.40 New best model saved! Score: 1.41\n",
      "Episode 907\tAverage Score: 1.39 New best model saved! Score: 1.42\n",
      "Episode 908\tAverage Score: 1.42 New best model saved! Score: 1.45\n",
      "Episode 911\tAverage Score: 1.45 New best model saved! Score: 1.46\n",
      "Episode 912\tAverage Score: 1.46 New best model saved! Score: 1.47\n",
      "Episode 913\tAverage Score: 1.47 New best model saved! Score: 1.51\n",
      "Episode 915\tAverage Score: 1.51 New best model saved! Score: 1.52\n",
      "Episode 997\tAverage Score: 1.39"
     ]
    },
    {
     "name": "stderr",
     "output_type": "stream",
     "text": [
      "[I 2025-03-03 08:55:02,615] Trial 33 finished with value: 1.3470000000000004 and parameters: {'BUFFER_SIZE': 715574, 'BATCH_SIZE': 127, 'GAMMA': 0.993871646497503, 'TAU': 0.005467281076302771, 'UPDATE_EVERY': 1}. Best is trial 25 with value: 4.195999999999997.\n"
     ]
    },
    {
     "name": "stdout",
     "output_type": "stream",
     "text": [
      "Episode 999\tAverage Score: 1.35cuda\n",
      "cuda\n",
      "Checkpoint saved at 2025-03-03 08:55:02\n",
      "Episode 499\tAverage Score: -0.53Checkpoint saved at 2025-03-03 08:56:00\n",
      "Episode 998\tAverage Score: 0.470"
     ]
    },
    {
     "name": "stderr",
     "output_type": "stream",
     "text": [
      "[I 2025-03-03 08:57:00,530] Trial 34 finished with value: 0.4780000000000007 and parameters: {'BUFFER_SIZE': 951512, 'BATCH_SIZE': 135, 'GAMMA': 0.974637776379298, 'TAU': 0.007047488763435079, 'UPDATE_EVERY': 2}. Best is trial 25 with value: 4.195999999999997.\n"
     ]
    },
    {
     "name": "stdout",
     "output_type": "stream",
     "text": [
      "Episode 999\tAverage Score: 0.48cuda\n",
      "cuda\n",
      "Checkpoint saved at 2025-03-03 08:57:00\n",
      "Episode 499\tAverage Score: -2.71Checkpoint saved at 2025-03-03 08:57:43\n",
      "Episode 996\tAverage Score: -1.50"
     ]
    },
    {
     "name": "stderr",
     "output_type": "stream",
     "text": [
      "[I 2025-03-03 08:58:30,201] Trial 35 finished with value: -1.4399999999999997 and parameters: {'BUFFER_SIZE': 874352, 'BATCH_SIZE': 69, 'GAMMA': 0.8413577063879639, 'TAU': 0.008229198252077253, 'UPDATE_EVERY': 4}. Best is trial 25 with value: 4.195999999999997.\n"
     ]
    },
    {
     "name": "stdout",
     "output_type": "stream",
     "text": [
      "Episode 999\tAverage Score: -1.44cuda\n",
      "cuda\n",
      "Checkpoint saved at 2025-03-03 08:58:30\n",
      "Episode 499\tAverage Score: -2.20Checkpoint saved at 2025-03-03 08:59:19\n",
      "Episode 998\tAverage Score: 0.816"
     ]
    },
    {
     "name": "stderr",
     "output_type": "stream",
     "text": [
      "[I 2025-03-03 09:00:14,900] Trial 36 finished with value: 0.7629999999999996 and parameters: {'BUFFER_SIZE': 551138, 'BATCH_SIZE': 113, 'GAMMA': 0.85717510279192, 'TAU': 0.005105998548114702, 'UPDATE_EVERY': 3}. Best is trial 25 with value: 4.195999999999997.\n"
     ]
    },
    {
     "name": "stdout",
     "output_type": "stream",
     "text": [
      "Episode 999\tAverage Score: 0.76cuda\n",
      "cuda\n",
      "Checkpoint saved at 2025-03-03 09:00:14\n",
      "Episode 499\tAverage Score: -0.86Checkpoint saved at 2025-03-03 09:01:31\n",
      "Episode 996\tAverage Score: 0.99 New best model saved! Score: 1.02\n",
      "Episode 997\tAverage Score: 1.02"
     ]
    },
    {
     "name": "stderr",
     "output_type": "stream",
     "text": [
      "[I 2025-03-03 09:02:53,732] Trial 37 finished with value: 1.019000000000001 and parameters: {'BUFFER_SIZE': 620855, 'BATCH_SIZE': 91, 'GAMMA': 0.888497691912013, 'TAU': 0.003658618264378406, 'UPDATE_EVERY': 1}. Best is trial 25 with value: 4.195999999999997.\n"
     ]
    },
    {
     "name": "stdout",
     "output_type": "stream",
     "text": [
      " New best model saved! Score: 1.04\n",
      "Episode 999\tAverage Score: 1.02cuda\n",
      "cuda\n",
      "Checkpoint saved at 2025-03-03 09:02:53\n",
      "Episode 499\tAverage Score: -1.69Checkpoint saved at 2025-03-03 09:03:32\n",
      "Episode 998\tAverage Score: -0.16"
     ]
    },
    {
     "name": "stderr",
     "output_type": "stream",
     "text": [
      "[I 2025-03-03 09:04:14,185] Trial 38 finished with value: -0.15299999999999947 and parameters: {'BUFFER_SIZE': 794114, 'BATCH_SIZE': 156, 'GAMMA': 0.9115241202720007, 'TAU': 0.004053472771785959, 'UPDATE_EVERY': 7}. Best is trial 25 with value: 4.195999999999997.\n"
     ]
    },
    {
     "name": "stdout",
     "output_type": "stream",
     "text": [
      "Episode 999\tAverage Score: -0.15cuda\n",
      "cuda\n",
      "Checkpoint saved at 2025-03-03 09:04:14\n",
      "Episode 499\tAverage Score: -2.51Checkpoint saved at 2025-03-03 09:05:07\n",
      "Episode 912\tAverage Score: 0.962 New best model saved! Score: 1.08\n",
      "Episode 928\tAverage Score: 1.07 New best model saved! Score: 1.11\n",
      "Episode 952\tAverage Score: 1.04 New best model saved! Score: 1.16\n",
      "Episode 953\tAverage Score: 1.16 New best model saved! Score: 1.20\n",
      "Episode 955\tAverage Score: 1.20 New best model saved! Score: 1.23\n",
      "Episode 959\tAverage Score: 1.21 New best model saved! Score: 1.24\n",
      "Episode 965\tAverage Score: 1.21 New best model saved! Score: 1.25\n",
      "Episode 966\tAverage Score: 1.25 New best model saved! Score: 1.31\n",
      "Episode 967\tAverage Score: 1.31 New best model saved! Score: 1.34\n",
      "Episode 968\tAverage Score: 1.34 New best model saved! Score: 1.38\n",
      "Episode 969\tAverage Score: 1.38 New best model saved! Score: 1.40\n",
      "Episode 970\tAverage Score: 1.40 New best model saved! Score: 1.43\n",
      "Episode 971\tAverage Score: 1.43 New best model saved! Score: 1.43\n",
      "Episode 981\tAverage Score: 1.41 New best model saved! Score: 1.43\n",
      "Episode 983\tAverage Score: 1.42 New best model saved! Score: 1.44\n",
      "Episode 988\tAverage Score: 1.42 New best model saved! Score: 1.44\n",
      "Episode 993\tAverage Score: 1.42 New best model saved! Score: 1.44\n",
      "Episode 994\tAverage Score: 1.44 New best model saved! Score: 1.44\n",
      "Episode 995\tAverage Score: 1.44 New best model saved! Score: 1.46\n",
      "Episode 996\tAverage Score: 1.46 New best model saved! Score: 1.52\n",
      "Episode 997\tAverage Score: 1.52"
     ]
    },
    {
     "name": "stderr",
     "output_type": "stream",
     "text": [
      "[I 2025-03-03 09:06:07,991] Trial 39 finished with value: 1.495999999999999 and parameters: {'BUFFER_SIZE': 332517, 'BATCH_SIZE': 80, 'GAMMA': 0.8679857539666785, 'TAU': 0.007997309745118019, 'UPDATE_EVERY': 2}. Best is trial 25 with value: 4.195999999999997.\n"
     ]
    },
    {
     "name": "stdout",
     "output_type": "stream",
     "text": [
      "Episode 999\tAverage Score: 1.50cuda\n",
      "cuda\n",
      "Checkpoint saved at 2025-03-03 09:06:08\n",
      "Episode 499\tAverage Score: -1.23Checkpoint saved at 2025-03-03 09:06:45\n",
      "Episode 997\tAverage Score: -0.67"
     ]
    },
    {
     "name": "stderr",
     "output_type": "stream",
     "text": [
      "[I 2025-03-03 09:07:33,762] Trial 40 finished with value: -0.5280000000000014 and parameters: {'BUFFER_SIZE': 951634, 'BATCH_SIZE': 33, 'GAMMA': 0.8355432186855247, 'TAU': 0.006536075977165619, 'UPDATE_EVERY': 10}. Best is trial 25 with value: 4.195999999999997.\n"
     ]
    },
    {
     "name": "stdout",
     "output_type": "stream",
     "text": [
      "Episode 999\tAverage Score: -0.53cuda\n",
      "cuda\n",
      "Checkpoint saved at 2025-03-03 09:07:33\n",
      "Episode 499\tAverage Score: -1.80Checkpoint saved at 2025-03-03 09:08:28\n",
      "Episode 881\tAverage Score: 0.97 New best model saved! Score: 1.03\n",
      "Episode 882\tAverage Score: 1.03 New best model saved! Score: 1.14\n",
      "Episode 883\tAverage Score: 1.14 New best model saved! Score: 1.15\n",
      "Episode 884\tAverage Score: 1.15 New best model saved! Score: 1.16\n",
      "Episode 885\tAverage Score: 1.16 New best model saved! Score: 1.17\n",
      "Episode 886\tAverage Score: 1.17 New best model saved! Score: 1.18\n",
      "Episode 888\tAverage Score: 1.18 New best model saved! Score: 1.19\n",
      "Episode 890\tAverage Score: 1.19 New best model saved! Score: 1.20\n",
      "Episode 891\tAverage Score: 1.20 New best model saved! Score: 1.20\n",
      "Episode 892\tAverage Score: 1.20 New best model saved! Score: 1.22\n",
      "Episode 893\tAverage Score: 1.22 New best model saved! Score: 1.23\n",
      "Episode 894\tAverage Score: 1.23 New best model saved! Score: 1.23\n",
      "Episode 898\tAverage Score: 1.22 New best model saved! Score: 1.26\n",
      "Episode 901\tAverage Score: 1.26 New best model saved! Score: 1.30\n",
      "Episode 903\tAverage Score: 1.26 New best model saved! Score: 1.39\n",
      "Episode 939\tAverage Score: 1.38 New best model saved! Score: 1.41\n",
      "Episode 940\tAverage Score: 1.41 New best model saved! Score: 1.45\n",
      "Episode 947\tAverage Score: 1.40 New best model saved! Score: 1.45\n",
      "Episode 959\tAverage Score: 1.43 New best model saved! Score: 1.46\n",
      "Episode 960\tAverage Score: 1.46 New best model saved! Score: 1.51\n",
      "Episode 961\tAverage Score: 1.51 New best model saved! Score: 1.55\n",
      "Episode 963\tAverage Score: 1.53 New best model saved! Score: 1.58\n",
      "Episode 998\tAverage Score: 0.79"
     ]
    },
    {
     "name": "stderr",
     "output_type": "stream",
     "text": [
      "[I 2025-03-03 09:09:28,005] Trial 41 finished with value: 0.7849999999999997 and parameters: {'BUFFER_SIZE': 848574, 'BATCH_SIZE': 57, 'GAMMA': 0.8470051652475054, 'TAU': 0.006282149926334927, 'UPDATE_EVERY': 2}. Best is trial 25 with value: 4.195999999999997.\n"
     ]
    },
    {
     "name": "stdout",
     "output_type": "stream",
     "text": [
      "Episode 999\tAverage Score: 0.78cuda\n",
      "cuda\n",
      "Checkpoint saved at 2025-03-03 09:09:28\n",
      "Episode 499\tAverage Score: -1.76Checkpoint saved at 2025-03-03 09:10:49\n",
      "Episode 902\tAverage Score: 0.961 New best model saved! Score: 1.00\n",
      "Episode 921\tAverage Score: 0.95 New best model saved! Score: 1.00\n",
      "Episode 922\tAverage Score: 1.00 New best model saved! Score: 1.04\n",
      "Episode 923\tAverage Score: 1.04 New best model saved! Score: 1.04\n",
      "Episode 924\tAverage Score: 1.04 New best model saved! Score: 1.05\n",
      "Episode 925\tAverage Score: 1.05 New best model saved! Score: 1.09\n",
      "Episode 935\tAverage Score: 1.07 New best model saved! Score: 1.18\n",
      "Episode 936\tAverage Score: 1.18 New best model saved! Score: 1.20\n",
      "Episode 948\tAverage Score: 1.17 New best model saved! Score: 1.21\n",
      "Episode 949\tAverage Score: 1.21 New best model saved! Score: 1.24\n",
      "Episode 950\tAverage Score: 1.24 New best model saved! Score: 1.24\n",
      "Episode 954\tAverage Score: 1.22 New best model saved! Score: 1.25\n",
      "Episode 972\tAverage Score: 1.20 New best model saved! Score: 1.25\n",
      "Episode 973\tAverage Score: 1.25 New best model saved! Score: 1.26\n",
      "Episode 975\tAverage Score: 1.24 New best model saved! Score: 1.28\n",
      "Episode 997\tAverage Score: 1.20"
     ]
    },
    {
     "name": "stderr",
     "output_type": "stream",
     "text": [
      "[I 2025-03-03 09:12:25,471] Trial 42 finished with value: 1.2899999999999998 and parameters: {'BUFFER_SIZE': 746416, 'BATCH_SIZE': 105, 'GAMMA': 0.8095179934504467, 'TAU': 0.007156993480326625, 'UPDATE_EVERY': 1}. Best is trial 25 with value: 4.195999999999997.\n"
     ]
    },
    {
     "name": "stdout",
     "output_type": "stream",
     "text": [
      "Episode 998\tAverage Score: 1.23 New best model saved! Score: 1.29\n",
      "Episode 999\tAverage Score: 1.29cuda\n",
      "cuda\n",
      "Checkpoint saved at 2025-03-03 09:12:25\n",
      "Episode 499\tAverage Score: -1.63Checkpoint saved at 2025-03-03 09:13:20\n",
      "Episode 953\tAverage Score: 0.961 New best model saved! Score: 1.01\n",
      "Episode 954\tAverage Score: 1.01 New best model saved! Score: 1.02\n",
      "Episode 957\tAverage Score: 1.02 New best model saved! Score: 1.03\n",
      "Episode 958\tAverage Score: 1.03 New best model saved! Score: 1.05\n",
      "Episode 959\tAverage Score: 1.05 New best model saved! Score: 1.07\n",
      "Episode 961\tAverage Score: 1.07 New best model saved! Score: 1.08\n",
      "Episode 962\tAverage Score: 1.08 New best model saved! Score: 1.13\n",
      "Episode 968\tAverage Score: 1.12 New best model saved! Score: 1.15\n",
      "Episode 973\tAverage Score: 1.14 New best model saved! Score: 1.15\n",
      "Episode 977\tAverage Score: 1.11 New best model saved! Score: 1.16\n",
      "Episode 997\tAverage Score: 1.04"
     ]
    },
    {
     "name": "stderr",
     "output_type": "stream",
     "text": [
      "[I 2025-03-03 09:14:18,257] Trial 43 finished with value: 1.0450000000000002 and parameters: {'BUFFER_SIZE': 822243, 'BATCH_SIZE': 70, 'GAMMA': 0.8963632809135514, 'TAU': 0.005785290178001481, 'UPDATE_EVERY': 2}. Best is trial 25 with value: 4.195999999999997.\n"
     ]
    },
    {
     "name": "stdout",
     "output_type": "stream",
     "text": [
      "Episode 999\tAverage Score: 1.05cuda\n",
      "cuda\n",
      "Checkpoint saved at 2025-03-03 09:14:18\n",
      "Episode 499\tAverage Score: -0.28Checkpoint saved at 2025-03-03 09:15:36\n",
      "Episode 697\tAverage Score: 0.99 New best model saved! Score: 1.01\n",
      "Episode 698\tAverage Score: 1.01 New best model saved! Score: 1.03\n",
      "Episode 699\tAverage Score: 1.03 New best model saved! Score: 1.03\n",
      "Episode 700\tAverage Score: 1.03 New best model saved! Score: 1.09\n",
      "Episode 701\tAverage Score: 1.09 New best model saved! Score: 1.12\n",
      "Episode 714\tAverage Score: 1.10 New best model saved! Score: 1.14\n",
      "Episode 715\tAverage Score: 1.14 New best model saved! Score: 1.14\n",
      "Episode 716\tAverage Score: 1.14 New best model saved! Score: 1.18\n",
      "Episode 717\tAverage Score: 1.18 New best model saved! Score: 1.20\n",
      "Episode 956\tAverage Score: 1.20 New best model saved! Score: 1.21\n",
      "Episode 960\tAverage Score: 1.19 New best model saved! Score: 1.23\n",
      "Episode 961\tAverage Score: 1.23 New best model saved! Score: 1.25\n",
      "Episode 962\tAverage Score: 1.25 New best model saved! Score: 1.31\n",
      "Episode 971\tAverage Score: 1.30 New best model saved! Score: 1.35\n",
      "Episode 973\tAverage Score: 1.34 New best model saved! Score: 1.40\n",
      "Episode 974\tAverage Score: 1.40 New best model saved! Score: 1.45\n",
      "Episode 975\tAverage Score: 1.45 New best model saved! Score: 1.47\n",
      "Episode 976\tAverage Score: 1.47 New best model saved! Score: 1.48\n",
      "Episode 977\tAverage Score: 1.48 New best model saved! Score: 1.49\n",
      "Episode 978\tAverage Score: 1.49 New best model saved! Score: 1.53\n",
      "Episode 982\tAverage Score: 1.51 New best model saved! Score: 1.54\n",
      "Episode 984\tAverage Score: 1.54 New best model saved! Score: 1.55\n",
      "Episode 986\tAverage Score: 1.52 New best model saved! Score: 1.55\n",
      "Episode 988\tAverage Score: 1.55 New best model saved! Score: 1.57\n",
      "Episode 989\tAverage Score: 1.57 New best model saved! Score: 1.61\n",
      "Episode 990\tAverage Score: 1.61 New best model saved! Score: 1.64\n",
      "Episode 991\tAverage Score: 1.64 New best model saved! Score: 1.66\n",
      "Episode 992\tAverage Score: 1.66 New best model saved! Score: 1.67\n",
      "Episode 993\tAverage Score: 1.67 New best model saved! Score: 1.72\n",
      "Episode 994\tAverage Score: 1.72 New best model saved! Score: 1.72\n",
      "Episode 995\tAverage Score: 1.72 New best model saved! Score: 1.74\n",
      "Episode 996\tAverage Score: 1.74 New best model saved! Score: 1.75\n",
      "Episode 998\tAverage Score: 1.72"
     ]
    },
    {
     "name": "stderr",
     "output_type": "stream",
     "text": [
      "[I 2025-03-03 09:17:05,459] Trial 44 finished with value: 1.6959999999999982 and parameters: {'BUFFER_SIZE': 861969, 'BATCH_SIZE': 78, 'GAMMA': 0.8501473367075887, 'TAU': 0.006296363429786361, 'UPDATE_EVERY': 1}. Best is trial 25 with value: 4.195999999999997.\n"
     ]
    },
    {
     "name": "stdout",
     "output_type": "stream",
     "text": [
      "Episode 999\tAverage Score: 1.70cuda\n",
      "cuda\n",
      "Checkpoint saved at 2025-03-03 09:17:05\n",
      "Episode 499\tAverage Score: 0.032Checkpoint saved at 2025-03-03 09:18:28\n",
      "Episode 565\tAverage Score: 0.99 New best model saved! Score: 1.03\n",
      "Episode 566\tAverage Score: 1.03 New best model saved! Score: 1.06\n",
      "Episode 567\tAverage Score: 1.06 New best model saved! Score: 1.09\n",
      "Episode 568\tAverage Score: 1.09 New best model saved! Score: 1.10\n",
      "Episode 569\tAverage Score: 1.10 New best model saved! Score: 1.12\n",
      "Episode 570\tAverage Score: 1.12 New best model saved! Score: 1.16\n",
      "Episode 571\tAverage Score: 1.16 New best model saved! Score: 1.21\n",
      "Episode 572\tAverage Score: 1.21 New best model saved! Score: 1.25\n",
      "Episode 573\tAverage Score: 1.25 New best model saved! Score: 1.28\n",
      "Episode 575\tAverage Score: 1.28 New best model saved! Score: 1.29\n",
      "Episode 577\tAverage Score: 1.29 New best model saved! Score: 1.33\n",
      "Episode 578\tAverage Score: 1.33 New best model saved! Score: 1.37\n",
      "Episode 624\tAverage Score: 1.36 New best model saved! Score: 1.38\n",
      "Episode 625\tAverage Score: 1.38 New best model saved! Score: 1.44\n",
      "Episode 627\tAverage Score: 1.44 New best model saved! Score: 1.48\n",
      "Episode 630\tAverage Score: 1.45 New best model saved! Score: 1.51\n",
      "Episode 631\tAverage Score: 1.51 New best model saved! Score: 1.53\n",
      "Episode 641\tAverage Score: 1.52 New best model saved! Score: 1.54\n",
      "Episode 642\tAverage Score: 1.54 New best model saved! Score: 1.58\n",
      "Episode 643\tAverage Score: 1.58 New best model saved! Score: 1.61\n",
      "Episode 644\tAverage Score: 1.61 New best model saved! Score: 1.66\n",
      "Episode 659\tAverage Score: 1.64 New best model saved! Score: 1.67\n",
      "Episode 681\tAverage Score: 1.61 New best model saved! Score: 1.71\n",
      "Episode 683\tAverage Score: 1.67 New best model saved! Score: 1.72\n",
      "Episode 687\tAverage Score: 1.71 New best model saved! Score: 1.75\n",
      "Episode 688\tAverage Score: 1.75 New best model saved! Score: 1.78\n",
      "Episode 690\tAverage Score: 1.78 New best model saved! Score: 1.80\n",
      "Episode 691\tAverage Score: 1.80 New best model saved! Score: 1.83\n",
      "Episode 693\tAverage Score: 1.80 New best model saved! Score: 1.85\n",
      "Episode 694\tAverage Score: 1.85 New best model saved! Score: 1.89\n",
      "Episode 695\tAverage Score: 1.89 New best model saved! Score: 1.90\n",
      "Episode 696\tAverage Score: 1.90 New best model saved! Score: 1.90\n",
      "Episode 698\tAverage Score: 1.90 New best model saved! Score: 1.91\n",
      "Episode 711\tAverage Score: 1.88 New best model saved! Score: 1.92\n",
      "Episode 713\tAverage Score: 1.91 New best model saved! Score: 1.97\n",
      "Episode 734\tAverage Score: 1.87 New best model saved! Score: 1.99\n",
      "Episode 748\tAverage Score: 1.99 New best model saved! Score: 2.03\n",
      "Episode 749\tAverage Score: 2.03 New best model saved! Score: 2.07\n",
      "Episode 771\tAverage Score: 2.07 New best model saved! Score: 2.09\n",
      "Episode 772\tAverage Score: 2.09 New best model saved! Score: 2.14\n",
      "Episode 773\tAverage Score: 2.14 New best model saved! Score: 2.16\n",
      "Episode 776\tAverage Score: 2.15 New best model saved! Score: 2.17\n",
      "Episode 777\tAverage Score: 2.17 New best model saved! Score: 2.18\n",
      "Episode 801\tAverage Score: 2.15 New best model saved! Score: 2.18\n",
      "Episode 802\tAverage Score: 2.18 New best model saved! Score: 2.19\n",
      "Episode 804\tAverage Score: 2.18 New best model saved! Score: 2.19\n",
      "Episode 805\tAverage Score: 2.19 New best model saved! Score: 2.22\n",
      "Episode 807\tAverage Score: 2.21 New best model saved! Score: 2.22\n",
      "Episode 808\tAverage Score: 2.22 New best model saved! Score: 2.26\n",
      "Episode 818\tAverage Score: 2.23 New best model saved! Score: 2.26\n",
      "Episode 853\tAverage Score: 2.23 New best model saved! Score: 2.27\n",
      "Episode 854\tAverage Score: 2.27 New best model saved! Score: 2.27\n",
      "Episode 855\tAverage Score: 2.27 New best model saved! Score: 2.32\n",
      "Episode 856\tAverage Score: 2.32 New best model saved! Score: 2.34\n",
      "Episode 857\tAverage Score: 2.34 New best model saved! Score: 2.44\n",
      "Episode 865\tAverage Score: 2.42 New best model saved! Score: 2.50\n",
      "Episode 879\tAverage Score: 2.46 New best model saved! Score: 2.50\n",
      "Episode 885\tAverage Score: 2.48 New best model saved! Score: 2.50\n",
      "Episode 890\tAverage Score: 2.49 New best model saved! Score: 2.51\n",
      "Episode 928\tAverage Score: 2.49 New best model saved! Score: 2.51\n",
      "Episode 934\tAverage Score: 2.48 New best model saved! Score: 2.53\n",
      "Episode 937\tAverage Score: 2.51 New best model saved! Score: 2.54\n",
      "Episode 938\tAverage Score: 2.54 New best model saved! Score: 2.59\n",
      "Episode 956\tAverage Score: 2.51 New best model saved! Score: 2.65\n",
      "Episode 995\tAverage Score: 2.64 New best model saved! Score: 2.67\n",
      "Episode 996\tAverage Score: 2.67 New best model saved! Score: 2.68\n",
      "Episode 997\tAverage Score: 2.68"
     ]
    },
    {
     "name": "stderr",
     "output_type": "stream",
     "text": [
      "[I 2025-03-03 09:20:06,819] Trial 45 finished with value: 2.7019999999999964 and parameters: {'BUFFER_SIZE': 881899, 'BATCH_SIZE': 113, 'GAMMA': 0.8819270729451355, 'TAU': 0.004937381764965804, 'UPDATE_EVERY': 1}. Best is trial 25 with value: 4.195999999999997.\n"
     ]
    },
    {
     "name": "stdout",
     "output_type": "stream",
     "text": [
      " New best model saved! Score: 2.70\n",
      "Episode 998\tAverage Score: 2.70 New best model saved! Score: 2.70\n",
      "Episode 999\tAverage Score: 2.70cuda\n",
      "cuda\n",
      "Checkpoint saved at 2025-03-03 09:20:06\n",
      "Episode 499\tAverage Score: -1.63Checkpoint saved at 2025-03-03 09:20:54\n",
      "Episode 898\tAverage Score: 0.931 New best model saved! Score: 1.01\n",
      "Episode 899\tAverage Score: 1.01 New best model saved! Score: 1.02\n",
      "Episode 902\tAverage Score: 1.00 New best model saved! Score: 1.03\n",
      "Episode 905\tAverage Score: 1.01 New best model saved! Score: 1.04\n",
      "Episode 917\tAverage Score: 1.01 New best model saved! Score: 1.06\n",
      "Episode 918\tAverage Score: 1.06 New best model saved! Score: 1.09\n",
      "Episode 919\tAverage Score: 1.09 New best model saved! Score: 1.13\n",
      "Episode 921\tAverage Score: 1.08 New best model saved! Score: 1.17\n",
      "Episode 922\tAverage Score: 1.17 New best model saved! Score: 1.19\n",
      "Episode 923\tAverage Score: 1.19 New best model saved! Score: 1.21\n",
      "Episode 925\tAverage Score: 1.21 New best model saved! Score: 1.23\n",
      "Episode 930\tAverage Score: 1.23 New best model saved! Score: 1.24\n",
      "Episode 931\tAverage Score: 1.24 New best model saved! Score: 1.24\n",
      "Episode 999\tAverage Score: 0.86"
     ]
    },
    {
     "name": "stderr",
     "output_type": "stream",
     "text": [
      "[I 2025-03-03 09:21:48,442] Trial 46 finished with value: 0.8600000000000001 and parameters: {'BUFFER_SIZE': 968590, 'BATCH_SIZE': 113, 'GAMMA': 0.8835325839347465, 'TAU': 0.0029767573537967397, 'UPDATE_EVERY': 3}. Best is trial 25 with value: 4.195999999999997.\n"
     ]
    },
    {
     "name": "stdout",
     "output_type": "stream",
     "text": [
      "cuda\n",
      "cuda\n",
      "Checkpoint saved at 2025-03-03 09:21:48\n",
      "Episode 499\tAverage Score: -0.13Checkpoint saved at 2025-03-03 09:23:11\n",
      "Episode 878\tAverage Score: 1.000 New best model saved! Score: 1.03\n",
      "Episode 998\tAverage Score: 0.85"
     ]
    },
    {
     "name": "stderr",
     "output_type": "stream",
     "text": [
      "[I 2025-03-03 09:25:00,312] Trial 47 finished with value: 0.8480000000000001 and parameters: {'BUFFER_SIZE': 907433, 'BATCH_SIZE': 133, 'GAMMA': 0.9194795951845274, 'TAU': 0.0025203819182827896, 'UPDATE_EVERY': 1}. Best is trial 25 with value: 4.195999999999997.\n"
     ]
    },
    {
     "name": "stdout",
     "output_type": "stream",
     "text": [
      "Episode 999\tAverage Score: 0.85cuda\n",
      "cuda\n",
      "Checkpoint saved at 2025-03-03 09:25:00\n",
      "Episode 499\tAverage Score: -1.95Checkpoint saved at 2025-03-03 09:25:46\n",
      "Episode 996\tAverage Score: 0.554"
     ]
    },
    {
     "name": "stderr",
     "output_type": "stream",
     "text": [
      "[I 2025-03-03 09:26:37,408] Trial 48 finished with value: 0.5460000000000003 and parameters: {'BUFFER_SIZE': 35225, 'BATCH_SIZE': 172, 'GAMMA': 0.9032566256113828, 'TAU': 0.004897698479655626, 'UPDATE_EVERY': 4}. Best is trial 25 with value: 4.195999999999997.\n"
     ]
    },
    {
     "name": "stdout",
     "output_type": "stream",
     "text": [
      "Episode 999\tAverage Score: 0.55cuda\n",
      "cuda\n",
      "Checkpoint saved at 2025-03-03 09:26:37\n",
      "Episode 499\tAverage Score: -0.49Checkpoint saved at 2025-03-03 09:28:01\n",
      "Episode 763\tAverage Score: 0.962 New best model saved! Score: 1.01\n",
      "Episode 764\tAverage Score: 1.01 New best model saved! Score: 1.02\n",
      "Episode 765\tAverage Score: 1.02 New best model saved! Score: 1.07\n",
      "Episode 766\tAverage Score: 1.07 New best model saved! Score: 1.11\n",
      "Episode 769\tAverage Score: 1.10 New best model saved! Score: 1.12\n",
      "Episode 773\tAverage Score: 1.09 New best model saved! Score: 1.13\n",
      "Episode 775\tAverage Score: 1.11 New best model saved! Score: 1.14\n",
      "Episode 776\tAverage Score: 1.14 New best model saved! Score: 1.16\n",
      "Episode 777\tAverage Score: 1.16 New best model saved! Score: 1.20\n",
      "Episode 778\tAverage Score: 1.20 New best model saved! Score: 1.20\n",
      "Episode 781\tAverage Score: 1.19 New best model saved! Score: 1.22\n",
      "Episode 784\tAverage Score: 1.22 New best model saved! Score: 1.24\n",
      "Episode 786\tAverage Score: 1.23 New best model saved! Score: 1.25\n",
      "Episode 789\tAverage Score: 1.21 New best model saved! Score: 1.25\n",
      "Episode 790\tAverage Score: 1.25 New best model saved! Score: 1.27\n",
      "Episode 791\tAverage Score: 1.27 New best model saved! Score: 1.28\n",
      "Episode 793\tAverage Score: 1.25 New best model saved! Score: 1.28\n",
      "Episode 795\tAverage Score: 1.26 New best model saved! Score: 1.29\n",
      "Episode 809\tAverage Score: 1.28 New best model saved! Score: 1.32\n",
      "Episode 810\tAverage Score: 1.32 New best model saved! Score: 1.35\n",
      "Episode 815\tAverage Score: 1.28 New best model saved! Score: 1.35\n",
      "Episode 816\tAverage Score: 1.35 New best model saved! Score: 1.36\n",
      "Episode 825\tAverage Score: 1.32 New best model saved! Score: 1.37\n",
      "Episode 827\tAverage Score: 1.37 New best model saved! Score: 1.39\n",
      "Episode 832\tAverage Score: 1.35 New best model saved! Score: 1.40\n",
      "Episode 901\tAverage Score: 1.38 New best model saved! Score: 1.40\n",
      "Episode 902\tAverage Score: 1.40 New best model saved! Score: 1.41\n",
      "Episode 903\tAverage Score: 1.41 New best model saved! Score: 1.42\n",
      "Episode 905\tAverage Score: 1.42 New best model saved! Score: 1.45\n",
      "Episode 908\tAverage Score: 1.44 New best model saved! Score: 1.45\n",
      "Episode 912\tAverage Score: 1.44 New best model saved! Score: 1.47\n",
      "Episode 916\tAverage Score: 1.47 New best model saved! Score: 1.50\n",
      "Episode 917\tAverage Score: 1.50 New best model saved! Score: 1.58\n",
      "Episode 943\tAverage Score: 1.55 New best model saved! Score: 1.59\n",
      "Episode 944\tAverage Score: 1.59 New best model saved! Score: 1.59\n",
      "Episode 946\tAverage Score: 1.58 New best model saved! Score: 1.63\n",
      "Episode 948\tAverage Score: 1.63 New best model saved! Score: 1.63\n",
      "Episode 949\tAverage Score: 1.63 New best model saved! Score: 1.64\n",
      "Episode 950\tAverage Score: 1.64 New best model saved! Score: 1.66\n",
      "Episode 951\tAverage Score: 1.66 New best model saved! Score: 1.68\n",
      "Episode 952\tAverage Score: 1.68 New best model saved! Score: 1.69\n",
      "Episode 953\tAverage Score: 1.69 New best model saved! Score: 1.74\n",
      "Episode 959\tAverage Score: 1.72 New best model saved! Score: 1.75\n",
      "Episode 965\tAverage Score: 1.75 New best model saved! Score: 1.79\n",
      "Episode 966\tAverage Score: 1.79 New best model saved! Score: 1.84\n",
      "Episode 997\tAverage Score: 1.66"
     ]
    },
    {
     "name": "stderr",
     "output_type": "stream",
     "text": [
      "[I 2025-03-03 09:29:44,766] Trial 49 finished with value: 1.6749999999999998 and parameters: {'BUFFER_SIZE': 390002, 'BATCH_SIZE': 148, 'GAMMA': 0.8700275528757849, 'TAU': 0.005462529831074198, 'UPDATE_EVERY': 1}. Best is trial 25 with value: 4.195999999999997.\n"
     ]
    },
    {
     "name": "stdout",
     "output_type": "stream",
     "text": [
      "Episode 999\tAverage Score: 1.67cuda\n",
      "cuda\n",
      "Checkpoint saved at 2025-03-03 09:29:44\n",
      "Episode 499\tAverage Score: -2.32Checkpoint saved at 2025-03-03 09:30:33\n",
      "Episode 998\tAverage Score: 0.752"
     ]
    },
    {
     "name": "stderr",
     "output_type": "stream",
     "text": [
      "[I 2025-03-03 09:31:40,425] Trial 50 finished with value: 0.7639999999999967 and parameters: {'BUFFER_SIZE': 153781, 'BATCH_SIZE': 94, 'GAMMA': 0.8634279415591586, 'TAU': 0.0008216809160210481, 'UPDATE_EVERY': 3}. Best is trial 25 with value: 4.195999999999997.\n"
     ]
    },
    {
     "name": "stdout",
     "output_type": "stream",
     "text": [
      "Episode 999\tAverage Score: 0.76cuda\n",
      "cuda\n",
      "Checkpoint saved at 2025-03-03 09:31:40\n",
      "Episode 499\tAverage Score: 0.030Checkpoint saved at 2025-03-03 09:32:58\n",
      "Episode 615\tAverage Score: 0.971 New best model saved! Score: 1.04\n",
      "Episode 616\tAverage Score: 1.04 New best model saved! Score: 1.05\n",
      "Episode 682\tAverage Score: 1.01 New best model saved! Score: 1.07\n",
      "Episode 683\tAverage Score: 1.07 New best model saved! Score: 1.11\n",
      "Episode 685\tAverage Score: 1.09 New best model saved! Score: 1.12\n",
      "Episode 686\tAverage Score: 1.12 New best model saved! Score: 1.13\n",
      "Episode 689\tAverage Score: 1.12 New best model saved! Score: 1.14\n",
      "Episode 691\tAverage Score: 1.13 New best model saved! Score: 1.15\n",
      "Episode 692\tAverage Score: 1.15 New best model saved! Score: 1.16\n",
      "Episode 705\tAverage Score: 1.12 New best model saved! Score: 1.16\n",
      "Episode 708\tAverage Score: 1.14 New best model saved! Score: 1.16\n",
      "Episode 709\tAverage Score: 1.16 New best model saved! Score: 1.22\n",
      "Episode 712\tAverage Score: 1.22 New best model saved! Score: 1.23\n",
      "Episode 730\tAverage Score: 1.21 New best model saved! Score: 1.24\n",
      "Episode 733\tAverage Score: 1.20 New best model saved! Score: 1.24\n",
      "Episode 738\tAverage Score: 1.24 New best model saved! Score: 1.27\n",
      "Episode 739\tAverage Score: 1.27 New best model saved! Score: 1.28\n",
      "Episode 740\tAverage Score: 1.28 New best model saved! Score: 1.31\n",
      "Episode 756\tAverage Score: 1.29 New best model saved! Score: 1.32\n",
      "Episode 762\tAverage Score: 1.30 New best model saved! Score: 1.33\n",
      "Episode 911\tAverage Score: 1.31 New best model saved! Score: 1.35\n",
      "Episode 914\tAverage Score: 1.34 New best model saved! Score: 1.37\n",
      "Episode 915\tAverage Score: 1.37 New best model saved! Score: 1.39\n",
      "Episode 916\tAverage Score: 1.39 New best model saved! Score: 1.41\n",
      "Episode 917\tAverage Score: 1.41 New best model saved! Score: 1.44\n",
      "Episode 919\tAverage Score: 1.43 New best model saved! Score: 1.44\n",
      "Episode 920\tAverage Score: 1.44 New best model saved! Score: 1.51\n",
      "Episode 976\tAverage Score: 1.50 New best model saved! Score: 1.53\n",
      "Episode 977\tAverage Score: 1.53 New best model saved! Score: 1.57\n",
      "Episode 997\tAverage Score: 1.39"
     ]
    },
    {
     "name": "stderr",
     "output_type": "stream",
     "text": [
      "[I 2025-03-03 09:34:30,791] Trial 51 finished with value: 1.3339999999999994 and parameters: {'BUFFER_SIZE': 881405, 'BATCH_SIZE': 107, 'GAMMA': 0.8833118405980956, 'TAU': 0.004311894177259603, 'UPDATE_EVERY': 1}. Best is trial 25 with value: 4.195999999999997.\n"
     ]
    },
    {
     "name": "stdout",
     "output_type": "stream",
     "text": [
      "Episode 999\tAverage Score: 1.33cuda\n",
      "cuda\n",
      "Checkpoint saved at 2025-03-03 09:34:30\n",
      "Episode 499\tAverage Score: 0.121Checkpoint saved at 2025-03-03 09:35:48\n",
      "Episode 622\tAverage Score: 0.99 New best model saved! Score: 1.02\n",
      "Episode 623\tAverage Score: 1.02 New best model saved! Score: 1.08\n",
      "Episode 624\tAverage Score: 1.08 New best model saved! Score: 1.12\n",
      "Episode 628\tAverage Score: 1.10 New best model saved! Score: 1.14\n",
      "Episode 630\tAverage Score: 1.14 New best model saved! Score: 1.17\n",
      "Episode 631\tAverage Score: 1.17 New best model saved! Score: 1.18\n",
      "Episode 634\tAverage Score: 1.16 New best model saved! Score: 1.19\n",
      "Episode 635\tAverage Score: 1.19 New best model saved! Score: 1.24\n",
      "Episode 636\tAverage Score: 1.24 New best model saved! Score: 1.28\n",
      "Episode 637\tAverage Score: 1.28 New best model saved! Score: 1.33\n",
      "Episode 638\tAverage Score: 1.33 New best model saved! Score: 1.34\n",
      "Episode 639\tAverage Score: 1.34 New best model saved! Score: 1.44\n",
      "Episode 641\tAverage Score: 1.41 New best model saved! Score: 1.45\n",
      "Episode 642\tAverage Score: 1.45 New best model saved! Score: 1.45\n",
      "Episode 643\tAverage Score: 1.45 New best model saved! Score: 1.50\n",
      "Episode 648\tAverage Score: 1.50 New best model saved! Score: 1.54\n",
      "Episode 649\tAverage Score: 1.54 New best model saved! Score: 1.55\n",
      "Episode 656\tAverage Score: 1.54 New best model saved! Score: 1.57\n",
      "Episode 657\tAverage Score: 1.57 New best model saved! Score: 1.58\n",
      "Episode 658\tAverage Score: 1.58 New best model saved! Score: 1.61\n",
      "Episode 660\tAverage Score: 1.57 New best model saved! Score: 1.61\n",
      "Episode 661\tAverage Score: 1.61 New best model saved! Score: 1.65\n",
      "Episode 662\tAverage Score: 1.65 New best model saved! Score: 1.65\n",
      "Episode 663\tAverage Score: 1.65 New best model saved! Score: 1.68\n",
      "Episode 664\tAverage Score: 1.68 New best model saved! Score: 1.71\n",
      "Episode 665\tAverage Score: 1.71 New best model saved! Score: 1.72\n",
      "Episode 667\tAverage Score: 1.72 New best model saved! Score: 1.74\n",
      "Episode 672\tAverage Score: 1.66 New best model saved! Score: 1.78\n",
      "Episode 846\tAverage Score: 1.68 New best model saved! Score: 1.79\n",
      "Episode 847\tAverage Score: 1.79 New best model saved! Score: 1.79\n",
      "Episode 848\tAverage Score: 1.79 New best model saved! Score: 1.82\n",
      "Episode 849\tAverage Score: 1.82 New best model saved! Score: 1.83\n",
      "Episode 850\tAverage Score: 1.83 New best model saved! Score: 1.86\n",
      "Episode 851\tAverage Score: 1.86 New best model saved! Score: 1.88\n",
      "Episode 853\tAverage Score: 1.87 New best model saved! Score: 1.88\n",
      "Episode 855\tAverage Score: 1.87 New best model saved! Score: 1.93\n",
      "Episode 870\tAverage Score: 1.90 New best model saved! Score: 1.94\n",
      "Episode 871\tAverage Score: 1.94 New best model saved! Score: 1.99\n",
      "Episode 874\tAverage Score: 1.98 New best model saved! Score: 2.00\n",
      "Episode 998\tAverage Score: 1.85"
     ]
    },
    {
     "name": "stderr",
     "output_type": "stream",
     "text": [
      "[I 2025-03-03 09:37:22,209] Trial 52 finished with value: 1.8859999999999986 and parameters: {'BUFFER_SIZE': 714485, 'BATCH_SIZE': 80, 'GAMMA': 0.8532747865428364, 'TAU': 0.006779485309738886, 'UPDATE_EVERY': 1}. Best is trial 25 with value: 4.195999999999997.\n"
     ]
    },
    {
     "name": "stdout",
     "output_type": "stream",
     "text": [
      "Episode 999\tAverage Score: 1.89cuda\n",
      "cuda\n",
      "Checkpoint saved at 2025-03-03 09:37:22\n",
      "Episode 499\tAverage Score: -1.68Checkpoint saved at 2025-03-03 09:38:01\n",
      "Episode 997\tAverage Score: -0.21"
     ]
    },
    {
     "name": "stderr",
     "output_type": "stream",
     "text": [
      "[I 2025-03-03 09:38:43,695] Trial 53 finished with value: -0.15199999999999958 and parameters: {'BUFFER_SIZE': 617930, 'BATCH_SIZE': 123, 'GAMMA': 0.8744144681269809, 'TAU': 0.0068514415077495245, 'UPDATE_EVERY': 9}. Best is trial 25 with value: 4.195999999999997.\n"
     ]
    },
    {
     "name": "stdout",
     "output_type": "stream",
     "text": [
      "Episode 999\tAverage Score: -0.15cuda\n",
      "cuda\n",
      "Checkpoint saved at 2025-03-03 09:38:43\n",
      "Episode 499\tAverage Score: -0.20Checkpoint saved at 2025-03-03 09:39:40\n",
      "Episode 686\tAverage Score: 1.002 New best model saved! Score: 1.05\n",
      "Episode 687\tAverage Score: 1.05 New best model saved! Score: 1.09\n",
      "Episode 688\tAverage Score: 1.09 New best model saved! Score: 1.12\n",
      "Episode 692\tAverage Score: 1.11 New best model saved! Score: 1.16\n",
      "Episode 693\tAverage Score: 1.16 New best model saved! Score: 1.26\n",
      "Episode 694\tAverage Score: 1.26 New best model saved! Score: 1.29\n",
      "Episode 695\tAverage Score: 1.29 New best model saved! Score: 1.40\n",
      "Episode 696\tAverage Score: 1.40 New best model saved! Score: 1.45\n",
      "Episode 700\tAverage Score: 1.44 New best model saved! Score: 1.50\n",
      "Episode 702\tAverage Score: 1.48 New best model saved! Score: 1.50\n",
      "Episode 704\tAverage Score: 1.50 New best model saved! Score: 1.52\n",
      "Episode 705\tAverage Score: 1.52 New best model saved! Score: 1.54\n",
      "Episode 706\tAverage Score: 1.54 New best model saved! Score: 1.58\n",
      "Episode 739\tAverage Score: 1.57 New best model saved! Score: 1.59\n",
      "Episode 740\tAverage Score: 1.59 New best model saved! Score: 1.59\n",
      "Episode 744\tAverage Score: 1.59 New best model saved! Score: 1.64\n",
      "Episode 745\tAverage Score: 1.64 New best model saved! Score: 1.67\n",
      "Episode 746\tAverage Score: 1.67 New best model saved! Score: 1.68\n",
      "Episode 748\tAverage Score: 1.68 New best model saved! Score: 1.70\n",
      "Episode 750\tAverage Score: 1.69 New best model saved! Score: 1.77\n",
      "Episode 751\tAverage Score: 1.77 New best model saved! Score: 1.79\n",
      "Episode 755\tAverage Score: 1.76 New best model saved! Score: 1.85\n",
      "Episode 756\tAverage Score: 1.85 New best model saved! Score: 1.92\n",
      "Episode 757\tAverage Score: 1.92 New best model saved! Score: 1.93\n",
      "Episode 771\tAverage Score: 1.92 New best model saved! Score: 1.99\n",
      "Episode 773\tAverage Score: 1.96 New best model saved! Score: 2.01\n",
      "Episode 774\tAverage Score: 2.01 New best model saved! Score: 2.08\n",
      "Episode 776\tAverage Score: 2.06 New best model saved! Score: 2.08\n",
      "Episode 777\tAverage Score: 2.08 New best model saved! Score: 2.14\n",
      "Episode 778\tAverage Score: 2.14 New best model saved! Score: 2.18\n",
      "Episode 779\tAverage Score: 2.18 New best model saved! Score: 2.19\n",
      "Episode 791\tAverage Score: 2.17 New best model saved! Score: 2.21\n",
      "Episode 792\tAverage Score: 2.21 New best model saved! Score: 2.22\n",
      "Episode 795\tAverage Score: 2.20 New best model saved! Score: 2.33\n",
      "Episode 797\tAverage Score: 2.32 New best model saved! Score: 2.40\n",
      "Episode 798\tAverage Score: 2.40 New best model saved! Score: 2.44\n",
      "Episode 799\tAverage Score: 2.44 New best model saved! Score: 2.48\n",
      "Episode 801\tAverage Score: 2.46 New best model saved! Score: 2.55\n",
      "Episode 803\tAverage Score: 2.55 New best model saved! Score: 2.57\n",
      "Episode 811\tAverage Score: 2.55 New best model saved! Score: 2.59\n",
      "Episode 812\tAverage Score: 2.59 New best model saved! Score: 2.59\n",
      "Episode 820\tAverage Score: 2.57 New best model saved! Score: 2.61\n",
      "Episode 821\tAverage Score: 2.61 New best model saved! Score: 2.72\n",
      "Episode 822\tAverage Score: 2.72 New best model saved! Score: 2.72\n",
      "Episode 823\tAverage Score: 2.72 New best model saved! Score: 2.73\n",
      "Episode 825\tAverage Score: 2.72 New best model saved! Score: 2.75\n",
      "Episode 826\tAverage Score: 2.75 New best model saved! Score: 2.76\n",
      "Episode 827\tAverage Score: 2.76 New best model saved! Score: 2.80\n",
      "Episode 843\tAverage Score: 2.74 New best model saved! Score: 2.81\n",
      "Episode 847\tAverage Score: 2.79 New best model saved! Score: 2.83\n",
      "Episode 863\tAverage Score: 2.82 New best model saved! Score: 2.84\n",
      "Episode 864\tAverage Score: 2.84 New best model saved! Score: 2.86\n",
      "Episode 865\tAverage Score: 2.86 New best model saved! Score: 2.88\n",
      "Episode 866\tAverage Score: 2.88 New best model saved! Score: 2.89\n",
      "Episode 868\tAverage Score: 2.89 New best model saved! Score: 2.92\n",
      "Episode 870\tAverage Score: 2.90 New best model saved! Score: 2.95\n",
      "Episode 872\tAverage Score: 2.89 New best model saved! Score: 2.98\n",
      "Episode 875\tAverage Score: 2.90 New best model saved! Score: 2.99\n",
      "Episode 876\tAverage Score: 2.99 New best model saved! Score: 3.06\n",
      "Episode 877\tAverage Score: 3.06 New best model saved! Score: 3.16\n",
      "Episode 882\tAverage Score: 3.11 New best model saved! Score: 3.18\n",
      "Episode 883\tAverage Score: 3.18 New best model saved! Score: 3.27\n",
      "Episode 885\tAverage Score: 3.26 New best model saved! Score: 3.44\n",
      "Episode 886\tAverage Score: 3.44 New best model saved! Score: 3.55\n",
      "Episode 887\tAverage Score: 3.55 New best model saved! Score: 3.64\n",
      "Episode 891\tAverage Score: 3.63 New best model saved! Score: 3.69\n",
      "Episode 917\tAverage Score: 3.65 New best model saved! Score: 3.73\n",
      "Episode 930\tAverage Score: 3.69 New best model saved! Score: 3.76\n",
      "Episode 931\tAverage Score: 3.76 New best model saved! Score: 3.80\n",
      "Episode 932\tAverage Score: 3.80 New best model saved! Score: 3.84\n",
      "Episode 939\tAverage Score: 3.81 New best model saved! Score: 3.90\n",
      "Episode 940\tAverage Score: 3.90 New best model saved! Score: 3.96\n",
      "Episode 941\tAverage Score: 3.96 New best model saved! Score: 4.13\n",
      "Episode 942\tAverage Score: 4.13 New best model saved! Score: 4.17\n",
      "Episode 944\tAverage Score: 4.08 New best model saved! Score: 4.20\n",
      "Episode 946\tAverage Score: 4.20 New best model saved! Score: 4.20\n",
      "Episode 949\tAverage Score: 4.19 New best model saved! Score: 4.20\n",
      "Episode 950\tAverage Score: 4.20 New best model saved! Score: 4.21\n",
      "Episode 951\tAverage Score: 4.21 New best model saved! Score: 4.22\n",
      "Episode 953\tAverage Score: 4.22 New best model saved! Score: 4.26\n",
      "Episode 958\tAverage Score: 4.26 New best model saved! Score: 4.27\n",
      "Episode 959\tAverage Score: 4.27 New best model saved! Score: 4.31\n",
      "Episode 964\tAverage Score: 4.21 New best model saved! Score: 4.46\n",
      "Episode 965\tAverage Score: 4.46 New best model saved! Score: 4.52\n",
      "Episode 966\tAverage Score: 4.52 New best model saved! Score: 4.55\n",
      "Episode 967\tAverage Score: 4.55 New best model saved! Score: 4.83\n",
      "Episode 970\tAverage Score: 4.80 New best model saved! Score: 4.83\n",
      "Episode 971\tAverage Score: 4.83 New best model saved! Score: 4.84\n",
      "Episode 973\tAverage Score: 4.82 New best model saved! Score: 4.91\n",
      "Episode 998\tAverage Score: 4.54"
     ]
    },
    {
     "name": "stderr",
     "output_type": "stream",
     "text": [
      "[I 2025-03-03 09:41:00,804] Trial 54 finished with value: 4.479999999999996 and parameters: {'BUFFER_SIZE': 697736, 'BATCH_SIZE': 96, 'GAMMA': 0.8594071260082985, 'TAU': 0.005650809854995951, 'UPDATE_EVERY': 2}. Best is trial 54 with value: 4.479999999999996.\n"
     ]
    },
    {
     "name": "stdout",
     "output_type": "stream",
     "text": [
      "Episode 999\tAverage Score: 4.48cuda\n",
      "cuda\n",
      "Checkpoint saved at 2025-03-03 09:41:00\n",
      "Episode 499\tAverage Score: -1.42Checkpoint saved at 2025-03-03 09:41:59\n",
      "Episode 883\tAverage Score: 0.933 New best model saved! Score: 1.04\n",
      "Episode 884\tAverage Score: 1.04 New best model saved! Score: 1.05\n",
      "Episode 891\tAverage Score: 1.05 New best model saved! Score: 1.14\n",
      "Episode 911\tAverage Score: 1.14 New best model saved! Score: 1.19\n",
      "Episode 912\tAverage Score: 1.19 New best model saved! Score: 1.19\n",
      "Episode 913\tAverage Score: 1.19 New best model saved! Score: 1.20\n",
      "Episode 916\tAverage Score: 1.19 New best model saved! Score: 1.22\n",
      "Episode 945\tAverage Score: 1.20 New best model saved! Score: 1.23\n",
      "Episode 946\tAverage Score: 1.23 New best model saved! Score: 1.24\n",
      "Episode 947\tAverage Score: 1.24 New best model saved! Score: 1.26\n",
      "Episode 961\tAverage Score: 1.21 New best model saved! Score: 1.28\n",
      "Episode 962\tAverage Score: 1.28 New best model saved! Score: 1.38\n",
      "Episode 997\tAverage Score: 1.10"
     ]
    },
    {
     "name": "stderr",
     "output_type": "stream",
     "text": [
      "[I 2025-03-03 09:42:57,024] Trial 55 finished with value: 1.2160000000000002 and parameters: {'BUFFER_SIZE': 716348, 'BATCH_SIZE': 117, 'GAMMA': 0.8338718247262619, 'TAU': 0.004803227100802942, 'UPDATE_EVERY': 2}. Best is trial 54 with value: 4.479999999999996.\n"
     ]
    },
    {
     "name": "stdout",
     "output_type": "stream",
     "text": [
      "Episode 999\tAverage Score: 1.22cuda\n",
      "cuda\n",
      "Checkpoint saved at 2025-03-03 09:42:57\n",
      "Episode 499\tAverage Score: -1.95Checkpoint saved at 2025-03-03 09:43:50\n",
      "Episode 997\tAverage Score: 0.341"
     ]
    },
    {
     "name": "stderr",
     "output_type": "stream",
     "text": [
      "[I 2025-03-03 09:44:48,887] Trial 56 finished with value: 0.3940000000000006 and parameters: {'BUFFER_SIZE': 679792, 'BATCH_SIZE': 89, 'GAMMA': 0.855653471844737, 'TAU': 0.0057462400278435, 'UPDATE_EVERY': 2}. Best is trial 54 with value: 4.479999999999996.\n"
     ]
    },
    {
     "name": "stdout",
     "output_type": "stream",
     "text": [
      "Episode 999\tAverage Score: 0.39cuda\n",
      "cuda\n",
      "Checkpoint saved at 2025-03-03 09:44:48\n",
      "Episode 499\tAverage Score: -1.59Checkpoint saved at 2025-03-03 09:45:42\n",
      "Episode 934\tAverage Score: 1.00 New best model saved! Score: 1.04\n",
      "Episode 936\tAverage Score: 1.04 New best model saved! Score: 1.06\n",
      "Episode 937\tAverage Score: 1.06 New best model saved! Score: 1.07\n",
      "Episode 941\tAverage Score: 1.04 New best model saved! Score: 1.12\n",
      "Episode 942\tAverage Score: 1.12 New best model saved! Score: 1.13\n",
      "Episode 948\tAverage Score: 1.12 New best model saved! Score: 1.14\n",
      "Episode 954\tAverage Score: 1.11 New best model saved! Score: 1.15\n",
      "Episode 955\tAverage Score: 1.15 New best model saved! Score: 1.16\n",
      "Episode 957\tAverage Score: 1.13 New best model saved! Score: 1.19\n",
      "Episode 959\tAverage Score: 1.16 New best model saved! Score: 1.19\n",
      "Episode 960\tAverage Score: 1.19 New best model saved! Score: 1.22\n",
      "Episode 961\tAverage Score: 1.22 New best model saved! Score: 1.24\n",
      "Episode 977\tAverage Score: 1.23 New best model saved! Score: 1.25\n",
      "Episode 981\tAverage Score: 1.24 New best model saved! Score: 1.30\n",
      "Episode 983\tAverage Score: 1.28 New best model saved! Score: 1.33\n",
      "Episode 984\tAverage Score: 1.33 New best model saved! Score: 1.34\n",
      "Episode 985\tAverage Score: 1.34 New best model saved! Score: 1.38\n",
      "Episode 987\tAverage Score: 1.36 New best model saved! Score: 1.39\n",
      "Episode 993\tAverage Score: 1.36 New best model saved! Score: 1.42\n",
      "Episode 995\tAverage Score: 1.41 New best model saved! Score: 1.44\n",
      "Episode 996\tAverage Score: 1.44 New best model saved! Score: 1.46\n",
      "Episode 997\tAverage Score: 1.46"
     ]
    },
    {
     "name": "stderr",
     "output_type": "stream",
     "text": [
      "[I 2025-03-03 09:46:53,540] Trial 57 finished with value: 1.4719999999999984 and parameters: {'BUFFER_SIZE': 589609, 'BATCH_SIZE': 100, 'GAMMA': 0.8665501283941811, 'TAU': 0.00849323645517278, 'UPDATE_EVERY': 2}. Best is trial 54 with value: 4.479999999999996.\n"
     ]
    },
    {
     "name": "stdout",
     "output_type": "stream",
     "text": [
      "Episode 998\tAverage Score: 1.46 New best model saved! Score: 1.47\n",
      "Episode 999\tAverage Score: 1.47cuda\n",
      "cuda\n",
      "Checkpoint saved at 2025-03-03 09:46:53\n",
      "Episode 499\tAverage Score: -0.70Checkpoint saved at 2025-03-03 09:48:05\n",
      "Episode 776\tAverage Score: 0.97 New best model saved! Score: 1.04\n",
      "Episode 778\tAverage Score: 1.03 New best model saved! Score: 1.08\n",
      "Episode 781\tAverage Score: 1.08 New best model saved! Score: 1.09\n",
      "Episode 784\tAverage Score: 1.07 New best model saved! Score: 1.15\n",
      "Episode 785\tAverage Score: 1.15 New best model saved! Score: 1.19\n",
      "Episode 786\tAverage Score: 1.19 New best model saved! Score: 1.21\n",
      "Episode 791\tAverage Score: 1.19 New best model saved! Score: 1.22\n",
      "Episode 792\tAverage Score: 1.22 New best model saved! Score: 1.25\n",
      "Episode 794\tAverage Score: 1.25 New best model saved! Score: 1.26\n",
      "Episode 797\tAverage Score: 1.26 New best model saved! Score: 1.28\n",
      "Episode 798\tAverage Score: 1.28 New best model saved! Score: 1.31\n",
      "Episode 802\tAverage Score: 1.29 New best model saved! Score: 1.32\n",
      "Episode 803\tAverage Score: 1.32 New best model saved! Score: 1.32\n",
      "Episode 804\tAverage Score: 1.32 New best model saved! Score: 1.35\n",
      "Episode 806\tAverage Score: 1.33 New best model saved! Score: 1.39\n",
      "Episode 816\tAverage Score: 1.37 New best model saved! Score: 1.39\n",
      "Episode 997\tAverage Score: 0.29"
     ]
    },
    {
     "name": "stderr",
     "output_type": "stream",
     "text": [
      "[I 2025-03-03 09:49:28,120] Trial 58 finished with value: 0.38300000000000034 and parameters: {'BUFFER_SIZE': 533944, 'BATCH_SIZE': 64, 'GAMMA': 0.8422299034538261, 'TAU': 0.007226926878083599, 'UPDATE_EVERY': 1}. Best is trial 54 with value: 4.479999999999996.\n"
     ]
    },
    {
     "name": "stdout",
     "output_type": "stream",
     "text": [
      "Episode 999\tAverage Score: 0.38cuda\n",
      "cuda\n",
      "Checkpoint saved at 2025-03-03 09:49:28\n",
      "Episode 499\tAverage Score: -1.05Checkpoint saved at 2025-03-03 09:50:22\n",
      "Episode 757\tAverage Score: 0.961 New best model saved! Score: 1.00\n",
      "Episode 761\tAverage Score: 1.00 New best model saved! Score: 1.03\n",
      "Episode 762\tAverage Score: 1.03 New best model saved! Score: 1.11\n",
      "Episode 772\tAverage Score: 1.09 New best model saved! Score: 1.14\n",
      "Episode 773\tAverage Score: 1.14 New best model saved! Score: 1.19\n",
      "Episode 774\tAverage Score: 1.19 New best model saved! Score: 1.23\n",
      "Episode 775\tAverage Score: 1.23 New best model saved! Score: 1.25\n",
      "Episode 777\tAverage Score: 1.23 New best model saved! Score: 1.26\n",
      "Episode 778\tAverage Score: 1.26 New best model saved! Score: 1.29\n",
      "Episode 779\tAverage Score: 1.29 New best model saved! Score: 1.32\n",
      "Episode 780\tAverage Score: 1.32 New best model saved! Score: 1.36\n",
      "Episode 787\tAverage Score: 1.29 New best model saved! Score: 1.36\n",
      "Episode 788\tAverage Score: 1.36 New best model saved! Score: 1.39\n",
      "Episode 789\tAverage Score: 1.39 New best model saved! Score: 1.44\n",
      "Episode 790\tAverage Score: 1.44 New best model saved! Score: 1.49\n",
      "Episode 791\tAverage Score: 1.49 New best model saved! Score: 1.55\n",
      "Episode 792\tAverage Score: 1.55 New best model saved! Score: 1.71\n",
      "Episode 793\tAverage Score: 1.71 New best model saved! Score: 1.72\n",
      "Episode 799\tAverage Score: 1.66 New best model saved! Score: 1.74\n",
      "Episode 802\tAverage Score: 1.73 New best model saved! Score: 1.76\n",
      "Episode 803\tAverage Score: 1.76 New best model saved! Score: 1.86\n",
      "Episode 804\tAverage Score: 1.86 New best model saved! Score: 1.88\n",
      "Episode 805\tAverage Score: 1.88 New best model saved! Score: 1.88\n",
      "Episode 829\tAverage Score: 1.86 New best model saved! Score: 1.89\n",
      "Episode 830\tAverage Score: 1.89 New best model saved! Score: 1.94\n",
      "Episode 832\tAverage Score: 1.93 New best model saved! Score: 2.01\n",
      "Episode 833\tAverage Score: 2.01 New best model saved! Score: 2.03\n",
      "Episode 837\tAverage Score: 1.97 New best model saved! Score: 2.12\n",
      "Episode 838\tAverage Score: 2.12 New best model saved! Score: 2.21\n",
      "Episode 839\tAverage Score: 2.21 New best model saved! Score: 2.22\n",
      "Episode 840\tAverage Score: 2.22 New best model saved! Score: 2.30\n",
      "Episode 842\tAverage Score: 2.27 New best model saved! Score: 2.31\n",
      "Episode 863\tAverage Score: 2.09 New best model saved! Score: 2.33\n",
      "Episode 864\tAverage Score: 2.33 New best model saved! Score: 2.38\n",
      "Episode 866\tAverage Score: 2.36 New best model saved! Score: 2.39\n",
      "Episode 910\tAverage Score: 2.29 New best model saved! Score: 2.41\n",
      "Episode 913\tAverage Score: 2.38 New best model saved! Score: 2.45\n",
      "Episode 914\tAverage Score: 2.45 New best model saved! Score: 2.50\n",
      "Episode 915\tAverage Score: 2.50 New best model saved! Score: 2.56\n",
      "Episode 919\tAverage Score: 2.54 New best model saved! Score: 2.58\n",
      "Episode 921\tAverage Score: 2.57 New best model saved! Score: 2.60\n",
      "Episode 922\tAverage Score: 2.60 New best model saved! Score: 2.64\n",
      "Episode 923\tAverage Score: 2.64 New best model saved! Score: 2.68\n",
      "Episode 932\tAverage Score: 2.65 New best model saved! Score: 2.68\n",
      "Episode 933\tAverage Score: 2.68 New best model saved! Score: 2.70\n",
      "Episode 949\tAverage Score: 2.62 New best model saved! Score: 2.78\n",
      "Episode 950\tAverage Score: 2.78 New best model saved! Score: 2.78\n",
      "Episode 951\tAverage Score: 2.78 New best model saved! Score: 2.87\n",
      "Episode 952\tAverage Score: 2.87 New best model saved! Score: 2.87\n",
      "Episode 953\tAverage Score: 2.87 New best model saved! Score: 2.90\n",
      "Episode 954\tAverage Score: 2.90 New best model saved! Score: 2.99\n",
      "Episode 955\tAverage Score: 2.99 New best model saved! Score: 3.01\n",
      "Episode 956\tAverage Score: 3.01 New best model saved! Score: 3.01\n",
      "Episode 957\tAverage Score: 3.01 New best model saved! Score: 3.01\n",
      "Episode 961\tAverage Score: 3.00 New best model saved! Score: 3.10\n",
      "Episode 962\tAverage Score: 3.10 New best model saved! Score: 3.12\n",
      "Episode 966\tAverage Score: 3.07 New best model saved! Score: 3.15\n",
      "Episode 967\tAverage Score: 3.15 New best model saved! Score: 3.19\n",
      "Episode 985\tAverage Score: 3.14 New best model saved! Score: 3.25\n",
      "Episode 986\tAverage Score: 3.25 New best model saved! Score: 3.30\n",
      "Episode 987\tAverage Score: 3.30 New best model saved! Score: 3.64\n",
      "Episode 992\tAverage Score: 3.64 New best model saved! Score: 3.67\n",
      "Episode 998\tAverage Score: 3.49"
     ]
    },
    {
     "name": "stderr",
     "output_type": "stream",
     "text": [
      "[I 2025-03-03 09:51:43,798] Trial 59 finished with value: 3.5969999999999964 and parameters: {'BUFFER_SIZE': 794520, 'BATCH_SIZE': 249, 'GAMMA': 0.8762477873477194, 'TAU': 0.005489426832999607, 'UPDATE_EVERY': 3}. Best is trial 54 with value: 4.479999999999996.\n"
     ]
    },
    {
     "name": "stdout",
     "output_type": "stream",
     "text": [
      "Episode 999\tAverage Score: 3.60cuda\n",
      "cuda\n",
      "Checkpoint saved at 2025-03-03 09:51:43\n",
      "Episode 499\tAverage Score: -1.91Checkpoint saved at 2025-03-03 09:52:33\n",
      "Episode 997\tAverage Score: -0.11"
     ]
    },
    {
     "name": "stderr",
     "output_type": "stream",
     "text": [
      "[I 2025-03-03 09:53:24,542] Trial 60 finished with value: -0.13099999999999914 and parameters: {'BUFFER_SIZE': 805838, 'BATCH_SIZE': 254, 'GAMMA': 0.8938957977489891, 'TAU': 0.004489694820735728, 'UPDATE_EVERY': 4}. Best is trial 54 with value: 4.479999999999996.\n"
     ]
    },
    {
     "name": "stdout",
     "output_type": "stream",
     "text": [
      "Episode 999\tAverage Score: -0.13cuda\n",
      "cuda\n",
      "Checkpoint saved at 2025-03-03 09:53:24\n",
      "Episode 499\tAverage Score: -1.35Checkpoint saved at 2025-03-03 09:54:18\n",
      "Episode 701\tAverage Score: 0.97 New best model saved! Score: 1.01\n",
      "Episode 702\tAverage Score: 1.01 New best model saved! Score: 1.02\n",
      "Episode 703\tAverage Score: 1.02 New best model saved! Score: 1.03\n",
      "Episode 704\tAverage Score: 1.03 New best model saved! Score: 1.03\n",
      "Episode 705\tAverage Score: 1.03 New best model saved! Score: 1.05\n",
      "Episode 734\tAverage Score: 1.05 New best model saved! Score: 1.10\n",
      "Episode 735\tAverage Score: 1.10 New best model saved! Score: 1.12\n",
      "Episode 736\tAverage Score: 1.12 New best model saved! Score: 1.12\n",
      "Episode 762\tAverage Score: 1.11 New best model saved! Score: 1.14\n",
      "Episode 764\tAverage Score: 1.14 New best model saved! Score: 1.16\n",
      "Episode 765\tAverage Score: 1.16 New best model saved! Score: 1.18\n",
      "Episode 766\tAverage Score: 1.18 New best model saved! Score: 1.24\n",
      "Episode 767\tAverage Score: 1.24 New best model saved! Score: 1.29\n",
      "Episode 769\tAverage Score: 1.27 New best model saved! Score: 1.38\n",
      "Episode 771\tAverage Score: 1.37 New best model saved! Score: 1.38\n",
      "Episode 774\tAverage Score: 1.37 New best model saved! Score: 1.44\n",
      "Episode 801\tAverage Score: 1.40 New best model saved! Score: 1.49\n",
      "Episode 803\tAverage Score: 1.48 New best model saved! Score: 1.50\n",
      "Episode 805\tAverage Score: 1.49 New best model saved! Score: 1.54\n",
      "Episode 806\tAverage Score: 1.54 New best model saved! Score: 1.57\n",
      "Episode 807\tAverage Score: 1.57 New best model saved! Score: 1.60\n",
      "Episode 808\tAverage Score: 1.60 New best model saved! Score: 1.70\n",
      "Episode 809\tAverage Score: 1.70 New best model saved! Score: 1.75\n",
      "Episode 811\tAverage Score: 1.75 New best model saved! Score: 2.04\n",
      "Episode 815\tAverage Score: 2.02 New best model saved! Score: 2.05\n",
      "Episode 817\tAverage Score: 2.05 New best model saved! Score: 2.07\n",
      "Episode 818\tAverage Score: 2.07 New best model saved! Score: 2.10\n",
      "Episode 821\tAverage Score: 2.06 New best model saved! Score: 2.10\n",
      "Episode 822\tAverage Score: 2.10 New best model saved! Score: 2.18\n",
      "Episode 825\tAverage Score: 2.15 New best model saved! Score: 2.21\n",
      "Episode 830\tAverage Score: 2.20 New best model saved! Score: 2.27\n",
      "Episode 831\tAverage Score: 2.27 New best model saved! Score: 2.28\n",
      "Episode 840\tAverage Score: 2.27 New best model saved! Score: 2.36\n",
      "Episode 841\tAverage Score: 2.36 New best model saved! Score: 2.42\n",
      "Episode 842\tAverage Score: 2.42 New best model saved! Score: 2.45\n",
      "Episode 843\tAverage Score: 2.45 New best model saved! Score: 2.47\n",
      "Episode 844\tAverage Score: 2.47 New best model saved! Score: 2.54\n",
      "Episode 845\tAverage Score: 2.54 New best model saved! Score: 2.54\n",
      "Episode 847\tAverage Score: 2.54 New best model saved! Score: 2.65\n",
      "Episode 848\tAverage Score: 2.65 New best model saved! Score: 2.83\n",
      "Episode 851\tAverage Score: 2.76 New best model saved! Score: 2.88\n",
      "Episode 852\tAverage Score: 2.88 New best model saved! Score: 2.91\n",
      "Episode 854\tAverage Score: 2.91 New best model saved! Score: 2.91\n",
      "Episode 855\tAverage Score: 2.91 New best model saved! Score: 2.95\n",
      "Episode 856\tAverage Score: 2.95 New best model saved! Score: 3.02\n",
      "Episode 862\tAverage Score: 2.95 New best model saved! Score: 3.05\n",
      "Episode 863\tAverage Score: 3.05 New best model saved! Score: 3.11\n",
      "Episode 872\tAverage Score: 3.08 New best model saved! Score: 3.18\n",
      "Episode 874\tAverage Score: 3.17 New best model saved! Score: 3.27\n",
      "Episode 875\tAverage Score: 3.27 New best model saved! Score: 3.32\n",
      "Episode 876\tAverage Score: 3.32 New best model saved! Score: 3.38\n",
      "Episode 877\tAverage Score: 3.38 New best model saved! Score: 3.47\n",
      "Episode 878\tAverage Score: 3.47 New best model saved! Score: 3.54\n",
      "Episode 879\tAverage Score: 3.54 New best model saved! Score: 3.58\n",
      "Episode 881\tAverage Score: 3.58 New best model saved! Score: 3.59\n",
      "Episode 882\tAverage Score: 3.59 New best model saved! Score: 3.77\n",
      "Episode 887\tAverage Score: 3.74 New best model saved! Score: 3.78\n",
      "Episode 891\tAverage Score: 3.72 New best model saved! Score: 3.78\n",
      "Episode 893\tAverage Score: 3.75 New best model saved! Score: 3.81\n",
      "Episode 894\tAverage Score: 3.81 New best model saved! Score: 3.82\n",
      "Episode 896\tAverage Score: 3.81 New best model saved! Score: 3.84\n",
      "Episode 898\tAverage Score: 3.82 New best model saved! Score: 3.88\n",
      "Episode 899\tAverage Score: 3.88 New best model saved! Score: 4.03\n",
      "Episode 902\tAverage Score: 3.89 New best model saved! Score: 4.14\n",
      "Episode 903\tAverage Score: 4.14 New best model saved! Score: 4.22\n",
      "Episode 904\tAverage Score: 4.22 New best model saved! Score: 4.29\n",
      "Episode 921\tAverage Score: 4.28 New best model saved! Score: 4.32\n",
      "Episode 925\tAverage Score: 4.27 New best model saved! Score: 4.46\n",
      "Episode 926\tAverage Score: 4.46 New best model saved! Score: 4.58\n",
      "Episode 927\tAverage Score: 4.58 New best model saved! Score: 4.64\n",
      "Episode 928\tAverage Score: 4.64 New best model saved! Score: 4.70\n",
      "Episode 932\tAverage Score: 4.66 New best model saved! Score: 4.71\n",
      "Episode 933\tAverage Score: 4.71 New best model saved! Score: 4.78\n",
      "Episode 934\tAverage Score: 4.78 New best model saved! Score: 4.82\n",
      "Episode 935\tAverage Score: 4.82 New best model saved! Score: 4.98\n",
      "Episode 936\tAverage Score: 4.98 New best model saved! Score: 4.99\n",
      "Episode 938\tAverage Score: 4.96 New best model saved! Score: 5.01\n",
      "Episode 939\tAverage Score: 5.01 New best model saved! Score: 5.10\n",
      "Episode 940\tAverage Score: 5.10 New best model saved! Score: 5.15\n",
      "Episode 943\tAverage Score: 5.14 New best model saved! Score: 5.16\n",
      "Episode 959\tAverage Score: 5.15 New best model saved! Score: 5.27\n",
      "Episode 961\tAverage Score: 5.22 New best model saved! Score: 5.35\n",
      "Episode 968\tAverage Score: 5.24 New best model saved! Score: 5.38\n",
      "Episode 969\tAverage Score: 5.38 New best model saved! Score: 5.43\n",
      "Episode 971\tAverage Score: 5.35 New best model saved! Score: 5.47\n",
      "Episode 998\tAverage Score: 5.42"
     ]
    },
    {
     "name": "stderr",
     "output_type": "stream",
     "text": [
      "[I 2025-03-03 09:55:48,095] Trial 61 finished with value: 5.441999999999986 and parameters: {'BUFFER_SIZE': 757624, 'BATCH_SIZE': 228, 'GAMMA': 0.8777525034865641, 'TAU': 0.005566248249524419, 'UPDATE_EVERY': 3}. Best is trial 61 with value: 5.441999999999986.\n"
     ]
    },
    {
     "name": "stdout",
     "output_type": "stream",
     "text": [
      "Episode 999\tAverage Score: 5.44cuda\n",
      "cuda\n",
      "Checkpoint saved at 2025-03-03 09:55:48\n",
      "Episode 499\tAverage Score: -2.35Checkpoint saved at 2025-03-03 09:56:40\n",
      "Episode 833\tAverage Score: 0.974 New best model saved! Score: 1.01\n",
      "Episode 834\tAverage Score: 1.01 New best model saved! Score: 1.01\n",
      "Episode 835\tAverage Score: 1.01 New best model saved! Score: 1.03\n",
      "Episode 836\tAverage Score: 1.03 New best model saved! Score: 1.03\n",
      "Episode 837\tAverage Score: 1.03 New best model saved! Score: 1.05\n",
      "Episode 839\tAverage Score: 1.04 New best model saved! Score: 1.07\n",
      "Episode 840\tAverage Score: 1.07 New best model saved! Score: 1.09\n",
      "Episode 846\tAverage Score: 1.08 New best model saved! Score: 1.19\n",
      "Episode 859\tAverage Score: 1.16 New best model saved! Score: 1.20\n",
      "Episode 860\tAverage Score: 1.20 New best model saved! Score: 1.22\n",
      "Episode 874\tAverage Score: 1.22 New best model saved! Score: 1.24\n",
      "Episode 878\tAverage Score: 1.24 New best model saved! Score: 1.26\n",
      "Episode 879\tAverage Score: 1.26 New best model saved! Score: 1.26\n",
      "Episode 905\tAverage Score: 1.23 New best model saved! Score: 1.27\n",
      "Episode 912\tAverage Score: 1.25 New best model saved! Score: 1.28\n",
      "Episode 913\tAverage Score: 1.28 New best model saved! Score: 1.29\n",
      "Episode 914\tAverage Score: 1.29 New best model saved! Score: 1.33\n",
      "Episode 997\tAverage Score: 1.12"
     ]
    },
    {
     "name": "stderr",
     "output_type": "stream",
     "text": [
      "[I 2025-03-03 09:57:37,991] Trial 62 finished with value: 1.103 and parameters: {'BUFFER_SIZE': 752109, 'BATCH_SIZE': 226, 'GAMMA': 0.8751766299665077, 'TAU': 0.005574771426645019, 'UPDATE_EVERY': 3}. Best is trial 61 with value: 5.441999999999986.\n"
     ]
    },
    {
     "name": "stdout",
     "output_type": "stream",
     "text": [
      "Episode 999\tAverage Score: 1.10cuda\n",
      "cuda\n",
      "Checkpoint saved at 2025-03-03 09:57:38\n",
      "Episode 499\tAverage Score: -1.49Checkpoint saved at 2025-03-03 09:58:31\n",
      "Episode 744\tAverage Score: 0.945 New best model saved! Score: 1.08\n",
      "Episode 745\tAverage Score: 1.08 New best model saved! Score: 1.26\n",
      "Episode 746\tAverage Score: 1.26 New best model saved! Score: 1.29\n",
      "Episode 747\tAverage Score: 1.29 New best model saved! Score: 1.32\n",
      "Episode 748\tAverage Score: 1.32 New best model saved! Score: 1.38\n",
      "Episode 750\tAverage Score: 1.36 New best model saved! Score: 1.39\n",
      "Episode 753\tAverage Score: 1.34 New best model saved! Score: 1.41\n",
      "Episode 754\tAverage Score: 1.41 New best model saved! Score: 1.53\n",
      "Episode 755\tAverage Score: 1.53 New best model saved! Score: 1.58\n",
      "Episode 757\tAverage Score: 1.49 New best model saved! Score: 1.69\n",
      "Episode 759\tAverage Score: 1.66 New best model saved! Score: 1.78\n",
      "Episode 761\tAverage Score: 1.76 New best model saved! Score: 1.79\n",
      "Episode 762\tAverage Score: 1.79 New best model saved! Score: 1.79\n",
      "Episode 763\tAverage Score: 1.79 New best model saved! Score: 1.84\n",
      "Episode 766\tAverage Score: 1.79 New best model saved! Score: 1.88\n",
      "Episode 767\tAverage Score: 1.88 New best model saved! Score: 2.05\n",
      "Episode 768\tAverage Score: 2.05 New best model saved! Score: 2.07\n",
      "Episode 769\tAverage Score: 2.07 New best model saved! Score: 2.19\n",
      "Episode 774\tAverage Score: 2.17 New best model saved! Score: 2.23\n",
      "Episode 775\tAverage Score: 2.23 New best model saved! Score: 2.30\n",
      "Episode 776\tAverage Score: 2.30 New best model saved! Score: 2.31\n",
      "Episode 780\tAverage Score: 2.23 New best model saved! Score: 2.37\n",
      "Episode 781\tAverage Score: 2.37 New best model saved! Score: 2.57\n",
      "Episode 782\tAverage Score: 2.57 New best model saved! Score: 2.57\n",
      "Episode 783\tAverage Score: 2.57 New best model saved! Score: 2.74\n",
      "Episode 785\tAverage Score: 2.73 New best model saved! Score: 2.77\n",
      "Episode 787\tAverage Score: 2.77 New best model saved! Score: 2.85\n",
      "Episode 790\tAverage Score: 2.81 New best model saved! Score: 2.85\n",
      "Episode 801\tAverage Score: 2.77 New best model saved! Score: 2.89\n",
      "Episode 822\tAverage Score: 2.88 New best model saved! Score: 2.93\n",
      "Episode 823\tAverage Score: 2.93 New best model saved! Score: 2.95\n",
      "Episode 849\tAverage Score: 2.80 New best model saved! Score: 3.03\n",
      "Episode 852\tAverage Score: 3.02 New best model saved! Score: 3.08\n",
      "Episode 853\tAverage Score: 3.08 New best model saved! Score: 3.08\n",
      "Episode 856\tAverage Score: 2.99 New best model saved! Score: 3.14\n",
      "Episode 858\tAverage Score: 2.96 New best model saved! Score: 3.15\n",
      "Episode 865\tAverage Score: 3.09 New best model saved! Score: 3.42\n",
      "Episode 907\tAverage Score: 3.38 New best model saved! Score: 3.44\n",
      "Episode 932\tAverage Score: 3.38 New best model saved! Score: 3.47\n",
      "Episode 960\tAverage Score: 3.43 New best model saved! Score: 3.57\n",
      "Episode 961\tAverage Score: 3.57 New best model saved! Score: 3.66\n",
      "Episode 998\tAverage Score: 3.56"
     ]
    },
    {
     "name": "stderr",
     "output_type": "stream",
     "text": [
      "[I 2025-03-03 10:00:04,245] Trial 63 finished with value: 3.54499999999999 and parameters: {'BUFFER_SIZE': 775441, 'BATCH_SIZE': 194, 'GAMMA': 0.8787888227084641, 'TAU': 0.005093029288545303, 'UPDATE_EVERY': 3}. Best is trial 61 with value: 5.441999999999986.\n"
     ]
    },
    {
     "name": "stdout",
     "output_type": "stream",
     "text": [
      "Episode 999\tAverage Score: 3.54cuda\n",
      "cuda\n",
      "Checkpoint saved at 2025-03-03 10:00:04\n",
      "Episode 499\tAverage Score: -1.36Checkpoint saved at 2025-03-03 10:00:50\n",
      "Episode 998\tAverage Score: 0.763"
     ]
    },
    {
     "name": "stderr",
     "output_type": "stream",
     "text": [
      "[I 2025-03-03 10:01:39,308] Trial 64 finished with value: 0.7749999999999999 and parameters: {'BUFFER_SIZE': 783237, 'BATCH_SIZE': 230, 'GAMMA': 0.9060866506642354, 'TAU': 0.005120716145510213, 'UPDATE_EVERY': 5}. Best is trial 61 with value: 5.441999999999986.\n"
     ]
    },
    {
     "name": "stdout",
     "output_type": "stream",
     "text": [
      "Episode 999\tAverage Score: 0.77cuda\n",
      "cuda\n",
      "Checkpoint saved at 2025-03-03 10:01:39\n",
      "Episode 499\tAverage Score: -1.69Checkpoint saved at 2025-03-03 10:02:28\n",
      "Episode 934\tAverage Score: 0.982 New best model saved! Score: 1.02\n",
      "Episode 935\tAverage Score: 1.02 New best model saved! Score: 1.05\n",
      "Episode 938\tAverage Score: 1.04 New best model saved! Score: 1.07\n",
      "Episode 942\tAverage Score: 1.05 New best model saved! Score: 1.08\n",
      "Episode 998\tAverage Score: 0.47"
     ]
    },
    {
     "name": "stderr",
     "output_type": "stream",
     "text": [
      "[I 2025-03-03 10:03:18,295] Trial 65 finished with value: 0.4550000000000008 and parameters: {'BUFFER_SIZE': 675633, 'BATCH_SIZE': 232, 'GAMMA': 0.8885858570306441, 'TAU': 0.0041266322243693745, 'UPDATE_EVERY': 4}. Best is trial 61 with value: 5.441999999999986.\n"
     ]
    },
    {
     "name": "stdout",
     "output_type": "stream",
     "text": [
      "Episode 999\tAverage Score: 0.46cuda\n",
      "cuda\n",
      "Checkpoint saved at 2025-03-03 10:03:18\n",
      "Episode 499\tAverage Score: -2.37Checkpoint saved at 2025-03-03 10:04:11\n",
      "Episode 865\tAverage Score: 0.97 New best model saved! Score: 1.00\n",
      "Episode 866\tAverage Score: 1.00 New best model saved! Score: 1.02\n",
      "Episode 867\tAverage Score: 1.02 New best model saved! Score: 1.03\n",
      "Episode 871\tAverage Score: 1.01 New best model saved! Score: 1.06\n",
      "Episode 958\tAverage Score: 1.04 New best model saved! Score: 1.09\n",
      "Episode 962\tAverage Score: 1.05 New best model saved! Score: 1.10\n",
      "Episode 964\tAverage Score: 1.10 New best model saved! Score: 1.11\n",
      "Episode 965\tAverage Score: 1.11 New best model saved! Score: 1.11\n",
      "Episode 966\tAverage Score: 1.11 New best model saved! Score: 1.13\n",
      "Episode 968\tAverage Score: 1.13 New best model saved! Score: 1.14\n",
      "Episode 975\tAverage Score: 1.11 New best model saved! Score: 1.15\n",
      "Episode 977\tAverage Score: 1.12 New best model saved! Score: 1.18\n",
      "Episode 978\tAverage Score: 1.18 New best model saved! Score: 1.21\n",
      "Episode 981\tAverage Score: 1.19 New best model saved! Score: 1.22\n",
      "Episode 982\tAverage Score: 1.22 New best model saved! Score: 1.25\n",
      "Episode 986\tAverage Score: 1.24 New best model saved! Score: 1.30\n",
      "Episode 987\tAverage Score: 1.30 New best model saved! Score: 1.32\n",
      "Episode 988\tAverage Score: 1.32 New best model saved! Score: 1.33\n",
      "Episode 991\tAverage Score: 1.32 New best model saved! Score: 1.35\n",
      "Episode 997\tAverage Score: 1.28"
     ]
    },
    {
     "name": "stderr",
     "output_type": "stream",
     "text": [
      "[I 2025-03-03 10:05:12,852] Trial 66 finished with value: 1.3289999999999988 and parameters: {'BUFFER_SIZE': 752135, 'BATCH_SIZE': 210, 'GAMMA': 0.8793694778873652, 'TAU': 0.0036869615090673086, 'UPDATE_EVERY': 3}. Best is trial 61 with value: 5.441999999999986.\n"
     ]
    },
    {
     "name": "stdout",
     "output_type": "stream",
     "text": [
      "Episode 999\tAverage Score: 1.33cuda\n",
      "cuda\n",
      "Checkpoint saved at 2025-03-03 10:05:12\n",
      "Episode 499\tAverage Score: -1.98Checkpoint saved at 2025-03-03 10:06:07\n",
      "Episode 914\tAverage Score: 0.991 New best model saved! Score: 1.00\n",
      "Episode 915\tAverage Score: 1.00 New best model saved! Score: 1.04\n",
      "Episode 916\tAverage Score: 1.04 New best model saved! Score: 1.07\n",
      "Episode 918\tAverage Score: 1.07 New best model saved! Score: 1.10\n",
      "Episode 919\tAverage Score: 1.10 New best model saved! Score: 1.21\n",
      "Episode 923\tAverage Score: 1.18 New best model saved! Score: 1.22\n",
      "Episode 924\tAverage Score: 1.22 New best model saved! Score: 1.22\n",
      "Episode 925\tAverage Score: 1.22 New best model saved! Score: 1.24\n",
      "Episode 927\tAverage Score: 1.23 New best model saved! Score: 1.27\n",
      "Episode 928\tAverage Score: 1.27 New best model saved! Score: 1.27\n",
      "Episode 929\tAverage Score: 1.27 New best model saved! Score: 1.31\n",
      "Episode 936\tAverage Score: 1.28 New best model saved! Score: 1.38\n",
      "Episode 940\tAverage Score: 1.33 New best model saved! Score: 1.44\n",
      "Episode 941\tAverage Score: 1.44 New best model saved! Score: 1.46\n",
      "Episode 942\tAverage Score: 1.46 New best model saved! Score: 1.47\n",
      "Episode 998\tAverage Score: 1.31"
     ]
    },
    {
     "name": "stderr",
     "output_type": "stream",
     "text": [
      "[I 2025-03-03 10:07:11,807] Trial 67 finished with value: 1.2609999999999995 and parameters: {'BUFFER_SIZE': 689777, 'BATCH_SIZE': 239, 'GAMMA': 0.8587921667505485, 'TAU': 0.004793859091981989, 'UPDATE_EVERY': 3}. Best is trial 61 with value: 5.441999999999986.\n"
     ]
    },
    {
     "name": "stdout",
     "output_type": "stream",
     "text": [
      "Episode 999\tAverage Score: 1.26cuda\n",
      "cuda\n",
      "Checkpoint saved at 2025-03-03 10:07:11\n",
      "Episode 499\tAverage Score: -1.71Checkpoint saved at 2025-03-03 10:07:56\n",
      "Episode 997\tAverage Score: -0.32"
     ]
    },
    {
     "name": "stderr",
     "output_type": "stream",
     "text": [
      "[I 2025-03-03 10:08:43,234] Trial 68 finished with value: -0.3189999999999994 and parameters: {'BUFFER_SIZE': 643729, 'BATCH_SIZE': 192, 'GAMMA': 0.8975416034440314, 'TAU': 0.006015578734730285, 'UPDATE_EVERY': 5}. Best is trial 61 with value: 5.441999999999986.\n"
     ]
    },
    {
     "name": "stdout",
     "output_type": "stream",
     "text": [
      "Episode 999\tAverage Score: -0.32cuda\n",
      "cuda\n",
      "Checkpoint saved at 2025-03-03 10:08:43\n",
      "Episode 499\tAverage Score: -1.57Checkpoint saved at 2025-03-03 10:09:38\n",
      "Episode 916\tAverage Score: 0.973 New best model saved! Score: 1.00\n",
      "Episode 917\tAverage Score: 1.00 New best model saved! Score: 1.04\n",
      "Episode 921\tAverage Score: 1.04 New best model saved! Score: 1.06\n",
      "Episode 931\tAverage Score: 1.06 New best model saved! Score: 1.09\n",
      "Episode 936\tAverage Score: 1.07 New best model saved! Score: 1.09\n",
      "Episode 937\tAverage Score: 1.09 New best model saved! Score: 1.16\n",
      "Episode 938\tAverage Score: 1.16 New best model saved! Score: 1.18\n",
      "Episode 940\tAverage Score: 1.18 New best model saved! Score: 1.21\n",
      "Episode 941\tAverage Score: 1.21 New best model saved! Score: 1.24\n",
      "Episode 942\tAverage Score: 1.24 New best model saved! Score: 1.27\n",
      "Episode 943\tAverage Score: 1.27 New best model saved! Score: 1.28\n",
      "Episode 946\tAverage Score: 1.28 New best model saved! Score: 1.29\n",
      "Episode 947\tAverage Score: 1.29 New best model saved! Score: 1.32\n",
      "Episode 948\tAverage Score: 1.32 New best model saved! Score: 1.34\n",
      "Episode 949\tAverage Score: 1.34 New best model saved! Score: 1.36\n",
      "Episode 950\tAverage Score: 1.36 New best model saved! Score: 1.38\n",
      "Episode 951\tAverage Score: 1.38 New best model saved! Score: 1.39\n",
      "Episode 955\tAverage Score: 1.38 New best model saved! Score: 1.41\n",
      "Episode 956\tAverage Score: 1.41 New best model saved! Score: 1.46\n",
      "Episode 957\tAverage Score: 1.46 New best model saved! Score: 1.50\n",
      "Episode 958\tAverage Score: 1.50 New best model saved! Score: 1.53\n",
      "Episode 959\tAverage Score: 1.53 New best model saved! Score: 1.55\n",
      "Episode 960\tAverage Score: 1.55 New best model saved! Score: 1.57\n",
      "Episode 961\tAverage Score: 1.57 New best model saved! Score: 1.57\n",
      "Episode 962\tAverage Score: 1.57 New best model saved! Score: 1.60\n",
      "Episode 963\tAverage Score: 1.60 New best model saved! Score: 1.63\n",
      "Episode 965\tAverage Score: 1.63 New best model saved! Score: 1.77\n",
      "Episode 967\tAverage Score: 1.76 New best model saved! Score: 1.87\n",
      "Episode 969\tAverage Score: 1.87 New best model saved! Score: 1.88\n",
      "Episode 970\tAverage Score: 1.88 New best model saved! Score: 1.92\n",
      "Episode 978\tAverage Score: 1.89 New best model saved! Score: 2.00\n",
      "Episode 979\tAverage Score: 2.00 New best model saved! Score: 2.01\n",
      "Episode 980\tAverage Score: 2.01 New best model saved! Score: 2.02\n",
      "Episode 981\tAverage Score: 2.02 New best model saved! Score: 2.08\n",
      "Episode 982\tAverage Score: 2.08 New best model saved! Score: 2.16\n",
      "Episode 983\tAverage Score: 2.16 New best model saved! Score: 2.19\n",
      "Episode 984\tAverage Score: 2.19 New best model saved! Score: 2.19\n",
      "Episode 986\tAverage Score: 2.18 New best model saved! Score: 2.19\n",
      "Episode 987\tAverage Score: 2.19 New best model saved! Score: 2.19\n",
      "Episode 988\tAverage Score: 2.19 New best model saved! Score: 2.23\n",
      "Episode 989\tAverage Score: 2.23 New best model saved! Score: 2.27\n",
      "Episode 990\tAverage Score: 2.27 New best model saved! Score: 2.36\n",
      "Episode 995\tAverage Score: 2.34 New best model saved! Score: 2.37\n",
      "Episode 998\tAverage Score: 2.33"
     ]
    },
    {
     "name": "stderr",
     "output_type": "stream",
     "text": [
      "[I 2025-03-03 10:10:42,310] Trial 69 finished with value: 2.3419999999999974 and parameters: {'BUFFER_SIZE': 823697, 'BATCH_SIZE': 245, 'GAMMA': 0.8641107125080826, 'TAU': 0.0052751927012502425, 'UPDATE_EVERY': 3}. Best is trial 61 with value: 5.441999999999986.\n"
     ]
    },
    {
     "name": "stdout",
     "output_type": "stream",
     "text": [
      "Episode 999\tAverage Score: 2.34cuda\n",
      "cuda\n",
      "Checkpoint saved at 2025-03-03 10:10:42\n",
      "Episode 499\tAverage Score: -0.84Checkpoint saved at 2025-03-03 10:11:45\n",
      "Episode 997\tAverage Score: 0.401"
     ]
    },
    {
     "name": "stderr",
     "output_type": "stream",
     "text": [
      "[I 2025-03-03 10:13:01,923] Trial 70 finished with value: 0.42100000000000093 and parameters: {'BUFFER_SIZE': 986614, 'BATCH_SIZE': 204, 'GAMMA': 0.8903925653222208, 'TAU': 0.005572624058681535, 'UPDATE_EVERY': 2}. Best is trial 61 with value: 5.441999999999986.\n"
     ]
    },
    {
     "name": "stdout",
     "output_type": "stream",
     "text": [
      "Episode 999\tAverage Score: 0.42cuda\n",
      "cuda\n",
      "Checkpoint saved at 2025-03-03 10:13:02\n",
      "Episode 499\tAverage Score: -1.88Checkpoint saved at 2025-03-03 10:13:56\n",
      "Episode 986\tAverage Score: 0.99 New best model saved! Score: 1.02\n",
      "Episode 990\tAverage Score: 0.98 New best model saved! Score: 1.03\n",
      "Episode 992\tAverage Score: 1.02 New best model saved! Score: 1.03\n",
      "Episode 993\tAverage Score: 1.03 New best model saved! Score: 1.04\n",
      "Episode 994\tAverage Score: 1.04 New best model saved! Score: 1.04\n",
      "Episode 995\tAverage Score: 1.04 New best model saved! Score: 1.05\n",
      "Episode 997\tAverage Score: 1.04"
     ]
    },
    {
     "name": "stderr",
     "output_type": "stream",
     "text": [
      "[I 2025-03-03 10:14:58,334] Trial 71 finished with value: 1.0610000000000002 and parameters: {'BUFFER_SIZE': 809752, 'BATCH_SIZE': 245, 'GAMMA': 0.8658029093850939, 'TAU': 0.005147773000194972, 'UPDATE_EVERY': 3}. Best is trial 61 with value: 5.441999999999986.\n"
     ]
    },
    {
     "name": "stdout",
     "output_type": "stream",
     "text": [
      " New best model saved! Score: 1.14\n",
      "Episode 999\tAverage Score: 1.06cuda\n",
      "cuda\n",
      "Checkpoint saved at 2025-03-03 10:14:58\n",
      "Episode 499\tAverage Score: -1.77Checkpoint saved at 2025-03-03 10:15:48\n",
      "Episode 778\tAverage Score: 0.96 New best model saved! Score: 1.01\n",
      "Episode 783\tAverage Score: 0.97 New best model saved! Score: 1.01\n",
      "Episode 792\tAverage Score: 1.00 New best model saved! Score: 1.03\n",
      "Episode 793\tAverage Score: 1.03 New best model saved! Score: 1.05\n",
      "Episode 794\tAverage Score: 1.05 New best model saved! Score: 1.06\n",
      "Episode 795\tAverage Score: 1.06 New best model saved! Score: 1.07\n",
      "Episode 796\tAverage Score: 1.07 New best model saved! Score: 1.09\n",
      "Episode 798\tAverage Score: 1.08 New best model saved! Score: 1.10\n",
      "Episode 800\tAverage Score: 1.09 New best model saved! Score: 1.18\n",
      "Episode 801\tAverage Score: 1.18 New best model saved! Score: 1.20\n",
      "Episode 803\tAverage Score: 1.17 New best model saved! Score: 1.21\n",
      "Episode 821\tAverage Score: 1.20 New best model saved! Score: 1.21\n",
      "Episode 823\tAverage Score: 1.21 New best model saved! Score: 1.24\n",
      "Episode 825\tAverage Score: 1.24 New best model saved! Score: 1.27\n",
      "Episode 826\tAverage Score: 1.27 New best model saved! Score: 1.29\n",
      "Episode 886\tAverage Score: 1.23 New best model saved! Score: 1.33\n",
      "Episode 892\tAverage Score: 1.32 New best model saved! Score: 1.35\n",
      "Episode 907\tAverage Score: 1.33 New best model saved! Score: 1.39\n",
      "Episode 911\tAverage Score: 1.37 New best model saved! Score: 1.39\n",
      "Episode 912\tAverage Score: 1.39 New best model saved! Score: 1.40\n",
      "Episode 918\tAverage Score: 1.38 New best model saved! Score: 1.42\n",
      "Episode 928\tAverage Score: 1.39 New best model saved! Score: 1.45\n",
      "Episode 931\tAverage Score: 1.44 New best model saved! Score: 1.47\n",
      "Episode 935\tAverage Score: 1.45 New best model saved! Score: 1.48\n",
      "Episode 936\tAverage Score: 1.48 New best model saved! Score: 1.48\n",
      "Episode 938\tAverage Score: 1.48 New best model saved! Score: 1.61\n",
      "Episode 943\tAverage Score: 1.59 New best model saved! Score: 1.63\n",
      "Episode 944\tAverage Score: 1.63 New best model saved! Score: 1.65\n",
      "Episode 945\tAverage Score: 1.65 New best model saved! Score: 1.67\n",
      "Episode 947\tAverage Score: 1.67 New best model saved! Score: 1.68\n",
      "Episode 975\tAverage Score: 1.65 New best model saved! Score: 1.69\n",
      "Episode 978\tAverage Score: 1.66 New best model saved! Score: 1.70\n",
      "Episode 979\tAverage Score: 1.70 New best model saved! Score: 1.73\n",
      "Episode 981\tAverage Score: 1.73 New best model saved! Score: 1.74\n",
      "Episode 997\tAverage Score: 1.74"
     ]
    },
    {
     "name": "stderr",
     "output_type": "stream",
     "text": [
      "[I 2025-03-03 10:16:43,389] Trial 72 finished with value: 1.677999999999999 and parameters: {'BUFFER_SIZE': 826667, 'BATCH_SIZE': 223, 'GAMMA': 0.8716030918218789, 'TAU': 0.00460291342961143, 'UPDATE_EVERY': 4}. Best is trial 61 with value: 5.441999999999986.\n"
     ]
    },
    {
     "name": "stdout",
     "output_type": "stream",
     "text": [
      "Episode 999\tAverage Score: 1.68cuda\n",
      "cuda\n",
      "Checkpoint saved at 2025-03-03 10:16:43\n",
      "Episode 499\tAverage Score: -1.71Checkpoint saved at 2025-03-03 10:17:36\n",
      "Episode 807\tAverage Score: 1.000 New best model saved! Score: 1.02\n",
      "Episode 808\tAverage Score: 1.02 New best model saved! Score: 1.03\n",
      "Episode 809\tAverage Score: 1.03 New best model saved! Score: 1.08\n",
      "Episode 810\tAverage Score: 1.08 New best model saved! Score: 1.09\n",
      "Episode 811\tAverage Score: 1.09 New best model saved! Score: 1.09\n",
      "Episode 813\tAverage Score: 1.09 New best model saved! Score: 1.15\n",
      "Episode 814\tAverage Score: 1.15 New best model saved! Score: 1.15\n",
      "Episode 815\tAverage Score: 1.15 New best model saved! Score: 1.24\n",
      "Episode 845\tAverage Score: 1.21 New best model saved! Score: 1.28\n",
      "Episode 846\tAverage Score: 1.28 New best model saved! Score: 1.32\n",
      "Episode 847\tAverage Score: 1.32 New best model saved! Score: 1.34\n",
      "Episode 848\tAverage Score: 1.34 New best model saved! Score: 1.37\n",
      "Episode 849\tAverage Score: 1.37 New best model saved! Score: 1.39\n",
      "Episode 850\tAverage Score: 1.39 New best model saved! Score: 1.39\n",
      "Episode 854\tAverage Score: 1.35 New best model saved! Score: 1.43\n",
      "Episode 855\tAverage Score: 1.43 New best model saved! Score: 1.43\n",
      "Episode 889\tAverage Score: 1.41 New best model saved! Score: 1.47\n",
      "Episode 890\tAverage Score: 1.47 New best model saved! Score: 1.47\n",
      "Episode 891\tAverage Score: 1.47 New best model saved! Score: 1.52\n",
      "Episode 892\tAverage Score: 1.52 New best model saved! Score: 1.54\n",
      "Episode 893\tAverage Score: 1.54 New best model saved! Score: 1.55\n",
      "Episode 894\tAverage Score: 1.55 New best model saved! Score: 1.56\n",
      "Episode 899\tAverage Score: 1.51 New best model saved! Score: 1.58\n",
      "Episode 900\tAverage Score: 1.58 New best model saved! Score: 1.64\n",
      "Episode 907\tAverage Score: 1.62 New best model saved! Score: 1.65\n",
      "Episode 908\tAverage Score: 1.65 New best model saved! Score: 1.67\n",
      "Episode 910\tAverage Score: 1.66 New best model saved! Score: 1.68\n",
      "Episode 911\tAverage Score: 1.68 New best model saved! Score: 1.69\n",
      "Episode 912\tAverage Score: 1.69 New best model saved! Score: 1.70\n",
      "Episode 916\tAverage Score: 1.67 New best model saved! Score: 1.71\n",
      "Episode 917\tAverage Score: 1.71 New best model saved! Score: 1.74\n",
      "Episode 918\tAverage Score: 1.74 New best model saved! Score: 1.74\n",
      "Episode 919\tAverage Score: 1.74 New best model saved! Score: 1.74\n",
      "Episode 920\tAverage Score: 1.74 New best model saved! Score: 1.77\n",
      "Episode 921\tAverage Score: 1.77 New best model saved! Score: 1.82\n",
      "Episode 922\tAverage Score: 1.82 New best model saved! Score: 1.83\n",
      "Episode 923\tAverage Score: 1.83 New best model saved! Score: 1.87\n",
      "Episode 929\tAverage Score: 1.86 New best model saved! Score: 1.89\n",
      "Episode 931\tAverage Score: 1.89 New best model saved! Score: 1.89\n",
      "Episode 951\tAverage Score: 1.85 New best model saved! Score: 1.93\n",
      "Episode 953\tAverage Score: 1.93 New best model saved! Score: 1.95\n",
      "Episode 954\tAverage Score: 1.95 New best model saved! Score: 1.98\n",
      "Episode 955\tAverage Score: 1.98 New best model saved! Score: 2.02\n",
      "Episode 957\tAverage Score: 1.99 New best model saved! Score: 2.05\n",
      "Episode 959\tAverage Score: 2.04 New best model saved! Score: 2.09\n",
      "Episode 960\tAverage Score: 2.09 New best model saved! Score: 2.10\n",
      "Episode 961\tAverage Score: 2.10 New best model saved! Score: 2.11\n",
      "Episode 963\tAverage Score: 2.11 New best model saved! Score: 2.13\n",
      "Episode 964\tAverage Score: 2.13 New best model saved! Score: 2.17\n",
      "Episode 965\tAverage Score: 2.17 New best model saved! Score: 2.18\n",
      "Episode 969\tAverage Score: 2.15 New best model saved! Score: 2.21\n",
      "Episode 970\tAverage Score: 2.21 New best model saved! Score: 2.26\n",
      "Episode 972\tAverage Score: 2.22 New best model saved! Score: 2.28\n",
      "Episode 973\tAverage Score: 2.28 New best model saved! Score: 2.32\n",
      "Episode 974\tAverage Score: 2.32 New best model saved! Score: 2.34\n",
      "Episode 975\tAverage Score: 2.34 New best model saved! Score: 2.35\n",
      "Episode 976\tAverage Score: 2.35 New best model saved! Score: 2.35\n",
      "Episode 983\tAverage Score: 2.31 New best model saved! Score: 2.38\n",
      "Episode 997\tAverage Score: 2.26"
     ]
    },
    {
     "name": "stderr",
     "output_type": "stream",
     "text": [
      "[I 2025-03-03 10:18:37,516] Trial 73 finished with value: 2.2909999999999977 and parameters: {'BUFFER_SIZE': 904500, 'BATCH_SIZE': 218, 'GAMMA': 0.8618032800384808, 'TAU': 0.004990960912471859, 'UPDATE_EVERY': 3}. Best is trial 61 with value: 5.441999999999986.\n"
     ]
    },
    {
     "name": "stdout",
     "output_type": "stream",
     "text": [
      "Episode 999\tAverage Score: 2.29cuda\n",
      "cuda\n",
      "Checkpoint saved at 2025-03-03 10:18:37\n",
      "Episode 499\tAverage Score: -1.68Checkpoint saved at 2025-03-03 10:19:32\n",
      "Episode 658\tAverage Score: 0.973 New best model saved! Score: 1.02\n",
      "Episode 660\tAverage Score: 1.00 New best model saved! Score: 1.02\n",
      "Episode 689\tAverage Score: 0.99 New best model saved! Score: 1.02\n",
      "Episode 692\tAverage Score: 1.02 New best model saved! Score: 1.03\n",
      "Episode 693\tAverage Score: 1.03 New best model saved! Score: 1.03\n",
      "Episode 694\tAverage Score: 1.03 New best model saved! Score: 1.05\n",
      "Episode 704\tAverage Score: 1.04 New best model saved! Score: 1.07\n",
      "Episode 706\tAverage Score: 1.04 New best model saved! Score: 1.08\n",
      "Episode 708\tAverage Score: 1.06 New best model saved! Score: 1.08\n",
      "Episode 709\tAverage Score: 1.08 New best model saved! Score: 1.11\n",
      "Episode 710\tAverage Score: 1.11 New best model saved! Score: 1.14\n",
      "Episode 711\tAverage Score: 1.14 New best model saved! Score: 1.16\n",
      "Episode 712\tAverage Score: 1.16 New best model saved! Score: 1.19\n",
      "Episode 713\tAverage Score: 1.19 New best model saved! Score: 1.21\n",
      "Episode 721\tAverage Score: 1.20 New best model saved! Score: 1.28\n",
      "Episode 722\tAverage Score: 1.28 New best model saved! Score: 1.30\n",
      "Episode 723\tAverage Score: 1.30 New best model saved! Score: 1.34\n",
      "Episode 724\tAverage Score: 1.34 New best model saved! Score: 1.39\n",
      "Episode 725\tAverage Score: 1.39 New best model saved! Score: 1.41\n",
      "Episode 726\tAverage Score: 1.41 New best model saved! Score: 1.42\n",
      "Episode 727\tAverage Score: 1.42 New best model saved! Score: 1.42\n",
      "Episode 729\tAverage Score: 1.42 New best model saved! Score: 1.45\n",
      "Episode 730\tAverage Score: 1.45 New best model saved! Score: 1.48\n",
      "Episode 732\tAverage Score: 1.46 New best model saved! Score: 1.50\n",
      "Episode 761\tAverage Score: 1.45 New best model saved! Score: 1.57\n",
      "Episode 763\tAverage Score: 1.56 New best model saved! Score: 1.58\n",
      "Episode 764\tAverage Score: 1.58 New best model saved! Score: 1.62\n",
      "Episode 765\tAverage Score: 1.62 New best model saved! Score: 1.69\n",
      "Episode 769\tAverage Score: 1.66 New best model saved! Score: 1.75\n",
      "Episode 770\tAverage Score: 1.75 New best model saved! Score: 1.76\n",
      "Episode 795\tAverage Score: 1.73 New best model saved! Score: 1.77\n",
      "Episode 797\tAverage Score: 1.77 New best model saved! Score: 1.79\n",
      "Episode 798\tAverage Score: 1.79 New best model saved! Score: 1.82\n",
      "Episode 799\tAverage Score: 1.82 New best model saved! Score: 1.85\n",
      "Episode 804\tAverage Score: 1.85 New best model saved! Score: 1.86\n",
      "Episode 805\tAverage Score: 1.86 New best model saved! Score: 1.89\n",
      "Episode 807\tAverage Score: 1.87 New best model saved! Score: 1.91\n",
      "Episode 843\tAverage Score: 1.86 New best model saved! Score: 1.91\n",
      "Episode 857\tAverage Score: 1.88 New best model saved! Score: 1.92\n",
      "Episode 867\tAverage Score: 1.88 New best model saved! Score: 1.92\n",
      "Episode 873\tAverage Score: 1.90 New best model saved! Score: 1.95\n",
      "Episode 874\tAverage Score: 1.95 New best model saved! Score: 1.95\n",
      "Episode 875\tAverage Score: 1.95 New best model saved! Score: 1.96\n",
      "Episode 876\tAverage Score: 1.96 New best model saved! Score: 2.02\n",
      "Episode 877\tAverage Score: 2.02 New best model saved! Score: 2.04\n",
      "Episode 878\tAverage Score: 2.04 New best model saved! Score: 2.06\n",
      "Episode 879\tAverage Score: 2.06 New best model saved! Score: 2.07\n",
      "Episode 881\tAverage Score: 2.06 New best model saved! Score: 2.08\n",
      "Episode 882\tAverage Score: 2.08 New best model saved! Score: 2.09\n",
      "Episode 884\tAverage Score: 2.09 New best model saved! Score: 2.10\n",
      "Episode 885\tAverage Score: 2.10 New best model saved! Score: 2.11\n",
      "Episode 886\tAverage Score: 2.11 New best model saved! Score: 2.14\n",
      "Episode 887\tAverage Score: 2.14 New best model saved! Score: 2.15\n",
      "Episode 908\tAverage Score: 2.10 New best model saved! Score: 2.17\n",
      "Episode 910\tAverage Score: 2.17 New best model saved! Score: 2.21\n",
      "Episode 912\tAverage Score: 2.19 New best model saved! Score: 2.28\n",
      "Episode 913\tAverage Score: 2.28 New best model saved! Score: 2.29\n",
      "Episode 916\tAverage Score: 2.26 New best model saved! Score: 2.31\n",
      "Episode 918\tAverage Score: 2.31 New best model saved! Score: 2.33\n",
      "Episode 919\tAverage Score: 2.33 New best model saved! Score: 2.33\n",
      "Episode 920\tAverage Score: 2.33 New best model saved! Score: 2.34\n",
      "Episode 921\tAverage Score: 2.34 New best model saved! Score: 2.37\n",
      "Episode 922\tAverage Score: 2.37 New best model saved! Score: 2.39\n",
      "Episode 923\tAverage Score: 2.39 New best model saved! Score: 2.40\n",
      "Episode 925\tAverage Score: 2.40 New best model saved! Score: 2.40\n",
      "Episode 934\tAverage Score: 2.38 New best model saved! Score: 2.43\n",
      "Episode 935\tAverage Score: 2.43 New best model saved! Score: 2.46\n",
      "Episode 936\tAverage Score: 2.46 New best model saved! Score: 2.50\n",
      "Episode 937\tAverage Score: 2.50 New best model saved! Score: 2.51\n",
      "Episode 938\tAverage Score: 2.51 New best model saved! Score: 2.55\n",
      "Episode 939\tAverage Score: 2.55 New best model saved! Score: 2.56\n",
      "Episode 940\tAverage Score: 2.56 New best model saved! Score: 2.58\n",
      "Episode 944\tAverage Score: 2.57 New best model saved! Score: 2.62\n",
      "Episode 945\tAverage Score: 2.62 New best model saved! Score: 2.62\n",
      "Episode 946\tAverage Score: 2.62 New best model saved! Score: 2.62\n",
      "Episode 949\tAverage Score: 2.62 New best model saved! Score: 2.65\n",
      "Episode 955\tAverage Score: 2.65 New best model saved! Score: 2.67\n",
      "Episode 958\tAverage Score: 2.66 New best model saved! Score: 2.69\n",
      "Episode 959\tAverage Score: 2.69 New best model saved! Score: 2.73\n",
      "Episode 960\tAverage Score: 2.73 New best model saved! Score: 2.73\n",
      "Episode 968\tAverage Score: 2.70 New best model saved! Score: 2.76\n",
      "Episode 970\tAverage Score: 2.76 New best model saved! Score: 2.79\n",
      "Episode 971\tAverage Score: 2.79 New best model saved! Score: 2.85\n",
      "Episode 998\tAverage Score: 2.55"
     ]
    },
    {
     "name": "stderr",
     "output_type": "stream",
     "text": [
      "[I 2025-03-03 10:20:46,252] Trial 74 finished with value: 2.552999999999994 and parameters: {'BUFFER_SIZE': 782923, 'BATCH_SIZE': 255, 'GAMMA': 0.8805537293666984, 'TAU': 0.005324295529247756, 'UPDATE_EVERY': 3}. Best is trial 61 with value: 5.441999999999986.\n"
     ]
    },
    {
     "name": "stdout",
     "output_type": "stream",
     "text": [
      "Episode 999\tAverage Score: 2.55cuda\n",
      "cuda\n",
      "Checkpoint saved at 2025-03-03 10:20:46\n",
      "Episode 499\tAverage Score: -2.15Checkpoint saved at 2025-03-03 10:21:36\n",
      "Episode 805\tAverage Score: 0.961 New best model saved! Score: 1.00\n",
      "Episode 806\tAverage Score: 1.00 New best model saved! Score: 1.01\n",
      "Episode 809\tAverage Score: 1.01 New best model saved! Score: 1.01\n",
      "Episode 810\tAverage Score: 1.01 New best model saved! Score: 1.03\n",
      "Episode 811\tAverage Score: 1.03 New best model saved! Score: 1.04\n",
      "Episode 865\tAverage Score: 1.02 New best model saved! Score: 1.04\n",
      "Episode 866\tAverage Score: 1.04 New best model saved! Score: 1.06\n",
      "Episode 867\tAverage Score: 1.06 New best model saved! Score: 1.12\n",
      "Episode 869\tAverage Score: 1.12 New best model saved! Score: 1.15\n",
      "Episode 871\tAverage Score: 1.14 New best model saved! Score: 1.16\n",
      "Episode 872\tAverage Score: 1.16 New best model saved! Score: 1.18\n",
      "Episode 880\tAverage Score: 1.17 New best model saved! Score: 1.20\n",
      "Episode 881\tAverage Score: 1.20 New best model saved! Score: 1.20\n",
      "Episode 882\tAverage Score: 1.20 New best model saved! Score: 1.20\n",
      "Episode 883\tAverage Score: 1.20 New best model saved! Score: 1.23\n",
      "Episode 885\tAverage Score: 1.22 New best model saved! Score: 1.27\n",
      "Episode 886\tAverage Score: 1.27 New best model saved! Score: 1.29\n",
      "Episode 888\tAverage Score: 1.27 New best model saved! Score: 1.30\n",
      "Episode 889\tAverage Score: 1.30 New best model saved! Score: 1.30\n",
      "Episode 890\tAverage Score: 1.30 New best model saved! Score: 1.34\n",
      "Episode 893\tAverage Score: 1.32 New best model saved! Score: 1.35\n",
      "Episode 894\tAverage Score: 1.35 New best model saved! Score: 1.37\n",
      "Episode 895\tAverage Score: 1.37 New best model saved! Score: 1.37\n",
      "Episode 898\tAverage Score: 1.35 New best model saved! Score: 1.39\n",
      "Episode 899\tAverage Score: 1.39 New best model saved! Score: 1.40\n",
      "Episode 900\tAverage Score: 1.40 New best model saved! Score: 1.41\n",
      "Episode 904\tAverage Score: 1.39 New best model saved! Score: 1.41\n",
      "Episode 908\tAverage Score: 1.41 New best model saved! Score: 1.42\n",
      "Episode 914\tAverage Score: 1.39 New best model saved! Score: 1.42\n",
      "Episode 998\tAverage Score: 1.28"
     ]
    },
    {
     "name": "stderr",
     "output_type": "stream",
     "text": [
      "[I 2025-03-03 10:22:28,925] Trial 75 finished with value: 1.2670000000000001 and parameters: {'BUFFER_SIZE': 772126, 'BATCH_SIZE': 255, 'GAMMA': 0.8774215855443811, 'TAU': 0.005963696279399624, 'UPDATE_EVERY': 4}. Best is trial 61 with value: 5.441999999999986.\n"
     ]
    },
    {
     "name": "stdout",
     "output_type": "stream",
     "text": [
      "Episode 999\tAverage Score: 1.27cuda\n",
      "cuda\n",
      "Checkpoint saved at 2025-03-03 10:22:29\n",
      "Episode 499\tAverage Score: -0.67Checkpoint saved at 2025-03-03 10:23:32\n",
      "Episode 762\tAverage Score: 0.961 New best model saved! Score: 1.00\n",
      "Episode 770\tAverage Score: 0.98 New best model saved! Score: 1.02\n",
      "Episode 771\tAverage Score: 1.02 New best model saved! Score: 1.05\n",
      "Episode 774\tAverage Score: 1.04 New best model saved! Score: 1.05\n",
      "Episode 776\tAverage Score: 1.05 New best model saved! Score: 1.07\n",
      "Episode 779\tAverage Score: 1.05 New best model saved! Score: 1.07\n",
      "Episode 780\tAverage Score: 1.07 New best model saved! Score: 1.11\n",
      "Episode 785\tAverage Score: 1.11 New best model saved! Score: 1.12\n",
      "Episode 786\tAverage Score: 1.12 New best model saved! Score: 1.12\n",
      "Episode 787\tAverage Score: 1.12 New best model saved! Score: 1.14\n",
      "Episode 788\tAverage Score: 1.14 New best model saved! Score: 1.17\n",
      "Episode 794\tAverage Score: 1.16 New best model saved! Score: 1.20\n",
      "Episode 798\tAverage Score: 1.19 New best model saved! Score: 1.22\n",
      "Episode 799\tAverage Score: 1.22 New best model saved! Score: 1.25\n",
      "Episode 800\tAverage Score: 1.25 New best model saved! Score: 1.28\n",
      "Episode 801\tAverage Score: 1.28 New best model saved! Score: 1.28\n",
      "Episode 802\tAverage Score: 1.28 New best model saved! Score: 1.30\n",
      "Episode 803\tAverage Score: 1.30 New best model saved! Score: 1.32\n",
      "Episode 806\tAverage Score: 1.31 New best model saved! Score: 1.33\n",
      "Episode 807\tAverage Score: 1.33 New best model saved! Score: 1.33\n",
      "Episode 809\tAverage Score: 1.33 New best model saved! Score: 1.36\n",
      "Episode 810\tAverage Score: 1.36 New best model saved! Score: 1.40\n",
      "Episode 812\tAverage Score: 1.39 New best model saved! Score: 1.43\n",
      "Episode 814\tAverage Score: 1.42 New best model saved! Score: 1.44\n",
      "Episode 815\tAverage Score: 1.44 New best model saved! Score: 1.45\n",
      "Episode 816\tAverage Score: 1.45 New best model saved! Score: 1.46\n",
      "Episode 818\tAverage Score: 1.46 New best model saved! Score: 1.49\n",
      "Episode 819\tAverage Score: 1.49 New best model saved! Score: 1.53\n",
      "Episode 820\tAverage Score: 1.53 New best model saved! Score: 1.55\n",
      "Episode 821\tAverage Score: 1.55 New best model saved! Score: 1.55\n",
      "Episode 843\tAverage Score: 1.55 New best model saved! Score: 1.56\n",
      "Episode 844\tAverage Score: 1.56 New best model saved! Score: 1.57\n",
      "Episode 861\tAverage Score: 1.57 New best model saved! Score: 1.58\n",
      "Episode 863\tAverage Score: 1.58 New best model saved! Score: 1.63\n",
      "Episode 864\tAverage Score: 1.63 New best model saved! Score: 1.69\n",
      "Episode 868\tAverage Score: 1.68 New best model saved! Score: 1.72\n",
      "Episode 890\tAverage Score: 1.72 New best model saved! Score: 1.72\n",
      "Episode 892\tAverage Score: 1.72 New best model saved! Score: 1.74\n",
      "Episode 893\tAverage Score: 1.74 New best model saved! Score: 1.74\n",
      "Episode 895\tAverage Score: 1.73 New best model saved! Score: 1.75\n",
      "Episode 896\tAverage Score: 1.75 New best model saved! Score: 1.78\n",
      "Episode 902\tAverage Score: 1.75 New best model saved! Score: 1.79\n",
      "Episode 904\tAverage Score: 1.78 New best model saved! Score: 1.82\n",
      "Episode 906\tAverage Score: 1.82 New best model saved! Score: 1.82\n",
      "Episode 913\tAverage Score: 1.82 New best model saved! Score: 1.83\n",
      "Episode 915\tAverage Score: 1.82 New best model saved! Score: 1.85\n",
      "Episode 917\tAverage Score: 1.84 New best model saved! Score: 1.85\n",
      "Episode 919\tAverage Score: 1.85 New best model saved! Score: 1.85\n",
      "Episode 924\tAverage Score: 1.84 New best model saved! Score: 1.87\n",
      "Episode 925\tAverage Score: 1.87 New best model saved! Score: 1.90\n",
      "Episode 926\tAverage Score: 1.90 New best model saved! Score: 1.91\n",
      "Episode 930\tAverage Score: 1.89 New best model saved! Score: 1.93\n",
      "Episode 998\tAverage Score: 1.57"
     ]
    },
    {
     "name": "stderr",
     "output_type": "stream",
     "text": [
      "[I 2025-03-03 10:24:42,307] Trial 76 finished with value: 1.524 and parameters: {'BUFFER_SIZE': 697851, 'BATCH_SIZE': 236, 'GAMMA': 0.8841085180635703, 'TAU': 0.005678173490250432, 'UPDATE_EVERY': 2}. Best is trial 61 with value: 5.441999999999986.\n"
     ]
    },
    {
     "name": "stdout",
     "output_type": "stream",
     "text": [
      "Episode 999\tAverage Score: 1.52cuda\n",
      "cuda\n",
      "Checkpoint saved at 2025-03-03 10:24:42\n",
      "Episode 499\tAverage Score: -1.75Checkpoint saved at 2025-03-03 10:25:37\n",
      "Episode 998\tAverage Score: 0.588"
     ]
    },
    {
     "name": "stderr",
     "output_type": "stream",
     "text": [
      "[I 2025-03-03 10:26:33,227] Trial 77 finished with value: 0.5750000000000006 and parameters: {'BUFFER_SIZE': 648087, 'BATCH_SIZE': 247, 'GAMMA': 0.9099307033684072, 'TAU': 0.00633294480982453, 'UPDATE_EVERY': 3}. Best is trial 61 with value: 5.441999999999986.\n"
     ]
    },
    {
     "name": "stdout",
     "output_type": "stream",
     "text": [
      "Episode 999\tAverage Score: 0.58cuda\n",
      "cuda\n",
      "Checkpoint saved at 2025-03-03 10:26:33\n",
      "Episode 499\tAverage Score: -0.28Checkpoint saved at 2025-03-03 10:27:33\n",
      "Episode 997\tAverage Score: 0.860"
     ]
    },
    {
     "name": "stderr",
     "output_type": "stream",
     "text": [
      "[I 2025-03-03 10:28:46,727] Trial 78 finished with value: 0.8759999999999993 and parameters: {'BUFFER_SIZE': 743436, 'BATCH_SIZE': 181, 'GAMMA': 0.8802653472392988, 'TAU': 0.0043655138309910595, 'UPDATE_EVERY': 2}. Best is trial 61 with value: 5.441999999999986.\n"
     ]
    },
    {
     "name": "stdout",
     "output_type": "stream",
     "text": [
      "Episode 999\tAverage Score: 0.88cuda\n",
      "cuda\n",
      "Checkpoint saved at 2025-03-03 10:28:46\n",
      "Episode 499\tAverage Score: -2.22Checkpoint saved at 2025-03-03 10:29:31\n",
      "Episode 998\tAverage Score: -0.22"
     ]
    },
    {
     "name": "stderr",
     "output_type": "stream",
     "text": [
      "[I 2025-03-03 10:30:19,242] Trial 79 finished with value: -0.10499999999999941 and parameters: {'BUFFER_SIZE': 862965, 'BATCH_SIZE': 139, 'GAMMA': 0.8932792886718057, 'TAU': 0.005337841013274943, 'UPDATE_EVERY': 4}. Best is trial 61 with value: 5.441999999999986.\n"
     ]
    },
    {
     "name": "stdout",
     "output_type": "stream",
     "text": [
      "Episode 999\tAverage Score: -0.10cuda\n",
      "cuda\n",
      "Checkpoint saved at 2025-03-03 10:30:19\n",
      "Episode 499\tAverage Score: -1.99Checkpoint saved at 2025-03-03 10:31:02\n",
      "Episode 878\tAverage Score: 0.93 New best model saved! Score: 1.03\n",
      "Episode 879\tAverage Score: 1.03 New best model saved! Score: 1.04\n",
      "Episode 890\tAverage Score: 1.04 New best model saved! Score: 1.06\n",
      "Episode 894\tAverage Score: 1.03 New best model saved! Score: 1.14\n",
      "Episode 895\tAverage Score: 1.14 New best model saved! Score: 1.15\n",
      "Episode 896\tAverage Score: 1.15 New best model saved! Score: 1.17\n",
      "Episode 905\tAverage Score: 1.13 New best model saved! Score: 1.24\n",
      "Episode 924\tAverage Score: 1.20 New best model saved! Score: 1.32\n",
      "Episode 997\tAverage Score: 0.62"
     ]
    },
    {
     "name": "stderr",
     "output_type": "stream",
     "text": [
      "[I 2025-03-03 10:31:48,937] Trial 80 finished with value: 0.6120000000000002 and parameters: {'BUFFER_SIZE': 931467, 'BATCH_SIZE': 254, 'GAMMA': 0.9011535826726724, 'TAU': 0.003297677081454912, 'UPDATE_EVERY': 7}. Best is trial 61 with value: 5.441999999999986.\n"
     ]
    },
    {
     "name": "stdout",
     "output_type": "stream",
     "text": [
      "Episode 999\tAverage Score: 0.61cuda\n",
      "cuda\n",
      "Checkpoint saved at 2025-03-03 10:31:49\n",
      "Episode 499\tAverage Score: -1.41Checkpoint saved at 2025-03-03 10:32:43\n",
      "Episode 998\tAverage Score: 0.331"
     ]
    },
    {
     "name": "stderr",
     "output_type": "stream",
     "text": [
      "[I 2025-03-03 10:33:46,031] Trial 81 finished with value: 0.3180000000000006 and parameters: {'BUFFER_SIZE': 798993, 'BATCH_SIZE': 242, 'GAMMA': 0.8681881373186916, 'TAU': 0.005286543947947085, 'UPDATE_EVERY': 3}. Best is trial 61 with value: 5.441999999999986.\n"
     ]
    },
    {
     "name": "stdout",
     "output_type": "stream",
     "text": [
      "Episode 999\tAverage Score: 0.32cuda\n",
      "cuda\n",
      "Checkpoint saved at 2025-03-03 10:33:46\n",
      "Episode 499\tAverage Score: -1.03Checkpoint saved at 2025-03-03 10:34:39\n",
      "Episode 758\tAverage Score: 0.972 New best model saved! Score: 1.00\n",
      "Episode 759\tAverage Score: 1.00 New best model saved! Score: 1.01\n",
      "Episode 773\tAverage Score: 0.97 New best model saved! Score: 1.02\n",
      "Episode 774\tAverage Score: 1.02 New best model saved! Score: 1.05\n",
      "Episode 775\tAverage Score: 1.05 New best model saved! Score: 1.05\n",
      "Episode 787\tAverage Score: 1.05 New best model saved! Score: 1.08\n",
      "Episode 789\tAverage Score: 1.08 New best model saved! Score: 1.09\n",
      "Episode 791\tAverage Score: 1.09 New best model saved! Score: 1.13\n",
      "Episode 792\tAverage Score: 1.13 New best model saved! Score: 1.17\n",
      "Episode 793\tAverage Score: 1.17 New best model saved! Score: 1.17\n",
      "Episode 794\tAverage Score: 1.17 New best model saved! Score: 1.17\n",
      "Episode 795\tAverage Score: 1.17 New best model saved! Score: 1.19\n",
      "Episode 796\tAverage Score: 1.19 New best model saved! Score: 1.22\n",
      "Episode 797\tAverage Score: 1.22 New best model saved! Score: 1.24\n",
      "Episode 798\tAverage Score: 1.24 New best model saved! Score: 1.27\n",
      "Episode 861\tAverage Score: 1.24 New best model saved! Score: 1.29\n",
      "Episode 862\tAverage Score: 1.29 New best model saved! Score: 1.33\n",
      "Episode 863\tAverage Score: 1.33 New best model saved! Score: 1.34\n",
      "Episode 865\tAverage Score: 1.34 New best model saved! Score: 1.34\n",
      "Episode 866\tAverage Score: 1.34 New best model saved! Score: 1.38\n",
      "Episode 879\tAverage Score: 1.37 New best model saved! Score: 1.41\n",
      "Episode 880\tAverage Score: 1.41 New best model saved! Score: 1.41\n",
      "Episode 881\tAverage Score: 1.41 New best model saved! Score: 1.45\n",
      "Episode 882\tAverage Score: 1.45 New best model saved! Score: 1.46\n",
      "Episode 883\tAverage Score: 1.46 New best model saved! Score: 1.46\n",
      "Episode 885\tAverage Score: 1.46 New best model saved! Score: 1.46\n",
      "Episode 886\tAverage Score: 1.46 New best model saved! Score: 1.46\n",
      "Episode 888\tAverage Score: 1.46 New best model saved! Score: 1.47\n",
      "Episode 892\tAverage Score: 1.47 New best model saved! Score: 1.48\n",
      "Episode 893\tAverage Score: 1.48 New best model saved! Score: 1.49\n",
      "Episode 897\tAverage Score: 1.48 New best model saved! Score: 1.50\n",
      "Episode 899\tAverage Score: 1.47 New best model saved! Score: 1.52\n",
      "Episode 900\tAverage Score: 1.52 New best model saved! Score: 1.58\n",
      "Episode 901\tAverage Score: 1.58 New best model saved! Score: 1.63\n",
      "Episode 902\tAverage Score: 1.63 New best model saved! Score: 1.65\n",
      "Episode 907\tAverage Score: 1.62 New best model saved! Score: 1.74\n",
      "Episode 910\tAverage Score: 1.72 New best model saved! Score: 1.79\n",
      "Episode 923\tAverage Score: 1.76 New best model saved! Score: 1.80\n",
      "Episode 924\tAverage Score: 1.80 New best model saved! Score: 1.84\n",
      "Episode 928\tAverage Score: 1.84 New best model saved! Score: 1.86\n",
      "Episode 930\tAverage Score: 1.85 New best model saved! Score: 1.86\n",
      "Episode 931\tAverage Score: 1.86 New best model saved! Score: 1.89\n",
      "Episode 933\tAverage Score: 1.89 New best model saved! Score: 1.92\n",
      "Episode 944\tAverage Score: 1.91 New best model saved! Score: 1.93\n",
      "Episode 945\tAverage Score: 1.93 New best model saved! Score: 1.93\n",
      "Episode 946\tAverage Score: 1.93 New best model saved! Score: 1.95\n",
      "Episode 947\tAverage Score: 1.95 New best model saved! Score: 1.95\n",
      "Episode 948\tAverage Score: 1.95 New best model saved! Score: 1.97\n",
      "Episode 949\tAverage Score: 1.97 New best model saved! Score: 2.00\n",
      "Episode 950\tAverage Score: 2.00 New best model saved! Score: 2.03\n",
      "Episode 951\tAverage Score: 2.03 New best model saved! Score: 2.06\n",
      "Episode 959\tAverage Score: 2.06 New best model saved! Score: 2.07\n",
      "Episode 968\tAverage Score: 2.04 New best model saved! Score: 2.09\n",
      "Episode 970\tAverage Score: 2.08 New best model saved! Score: 2.10\n",
      "Episode 971\tAverage Score: 2.10 New best model saved! Score: 2.10\n",
      "Episode 972\tAverage Score: 2.10 New best model saved! Score: 2.13\n",
      "Episode 976\tAverage Score: 2.11 New best model saved! Score: 2.13\n",
      "Episode 998\tAverage Score: 1.69"
     ]
    },
    {
     "name": "stderr",
     "output_type": "stream",
     "text": [
      "[I 2025-03-03 10:35:39,753] Trial 82 finished with value: 1.6849999999999983 and parameters: {'BUFFER_SIZE': 847827, 'BATCH_SIZE': 236, 'GAMMA': 0.8722226095226487, 'TAU': 0.004956931616300751, 'UPDATE_EVERY': 3}. Best is trial 61 with value: 5.441999999999986.\n"
     ]
    },
    {
     "name": "stdout",
     "output_type": "stream",
     "text": [
      "Episode 999\tAverage Score: 1.68cuda\n",
      "cuda\n",
      "Checkpoint saved at 2025-03-03 10:35:39\n",
      "Episode 499\tAverage Score: -2.19Checkpoint saved at 2025-03-03 10:36:34\n",
      "Episode 890\tAverage Score: 0.973 New best model saved! Score: 1.01\n",
      "Episode 891\tAverage Score: 1.01 New best model saved! Score: 1.03\n",
      "Episode 908\tAverage Score: 1.02 New best model saved! Score: 1.04\n",
      "Episode 909\tAverage Score: 1.04 New best model saved! Score: 1.04\n",
      "Episode 910\tAverage Score: 1.04 New best model saved! Score: 1.06\n",
      "Episode 911\tAverage Score: 1.06 New best model saved! Score: 1.09\n",
      "Episode 913\tAverage Score: 1.09 New best model saved! Score: 1.13\n",
      "Episode 914\tAverage Score: 1.13 New best model saved! Score: 1.14\n",
      "Episode 916\tAverage Score: 1.13 New best model saved! Score: 1.14\n",
      "Episode 921\tAverage Score: 1.13 New best model saved! Score: 1.17\n",
      "Episode 929\tAverage Score: 1.16 New best model saved! Score: 1.18\n",
      "Episode 939\tAverage Score: 1.14 New best model saved! Score: 1.21\n",
      "Episode 940\tAverage Score: 1.21 New best model saved! Score: 1.23\n",
      "Episode 942\tAverage Score: 1.19 New best model saved! Score: 1.23\n",
      "Episode 943\tAverage Score: 1.23 New best model saved! Score: 1.27\n",
      "Episode 961\tAverage Score: 1.26 New best model saved! Score: 1.27\n",
      "Episode 962\tAverage Score: 1.27 New best model saved! Score: 1.30\n",
      "Episode 963\tAverage Score: 1.30 New best model saved! Score: 1.33\n",
      "Episode 965\tAverage Score: 1.29 New best model saved! Score: 1.33\n",
      "Episode 966\tAverage Score: 1.33 New best model saved! Score: 1.36\n",
      "Episode 968\tAverage Score: 1.35 New best model saved! Score: 1.39\n",
      "Episode 972\tAverage Score: 1.37 New best model saved! Score: 1.43\n",
      "Episode 973\tAverage Score: 1.43 New best model saved! Score: 1.44\n",
      "Episode 974\tAverage Score: 1.44 New best model saved! Score: 1.46\n",
      "Episode 975\tAverage Score: 1.46 New best model saved! Score: 1.47\n",
      "Episode 976\tAverage Score: 1.47 New best model saved! Score: 1.48\n",
      "Episode 985\tAverage Score: 1.43 New best model saved! Score: 1.48\n",
      "Episode 989\tAverage Score: 1.48 New best model saved! Score: 1.51\n",
      "Episode 990\tAverage Score: 1.51 New best model saved! Score: 1.51\n",
      "Episode 991\tAverage Score: 1.51 New best model saved! Score: 1.52\n",
      "Episode 992\tAverage Score: 1.52 New best model saved! Score: 1.55\n",
      "Episode 993\tAverage Score: 1.55 New best model saved! Score: 1.59\n",
      "Episode 995\tAverage Score: 1.59 New best model saved! Score: 1.59\n",
      "Episode 996\tAverage Score: 1.59 New best model saved! Score: 1.70\n",
      "Episode 998\tAverage Score: 1.66"
     ]
    },
    {
     "name": "stderr",
     "output_type": "stream",
     "text": [
      "[I 2025-03-03 10:37:35,405] Trial 83 finished with value: 1.679999999999999 and parameters: {'BUFFER_SIZE': 781793, 'BATCH_SIZE': 247, 'GAMMA': 0.8857870473467438, 'TAU': 0.0060101651625316475, 'UPDATE_EVERY': 3}. Best is trial 61 with value: 5.441999999999986.\n"
     ]
    },
    {
     "name": "stdout",
     "output_type": "stream",
     "text": [
      "Episode 999\tAverage Score: 1.68cuda\n",
      "cuda\n",
      "Checkpoint saved at 2025-03-03 10:37:35\n",
      "Episode 499\tAverage Score: -0.89Checkpoint saved at 2025-03-03 10:38:40\n",
      "Episode 740\tAverage Score: 0.991 New best model saved! Score: 1.03\n",
      "Episode 745\tAverage Score: 1.02 New best model saved! Score: 1.04\n",
      "Episode 749\tAverage Score: 1.03 New best model saved! Score: 1.07\n",
      "Episode 750\tAverage Score: 1.07 New best model saved! Score: 1.08\n",
      "Episode 751\tAverage Score: 1.08 New best model saved! Score: 1.10\n",
      "Episode 752\tAverage Score: 1.10 New best model saved! Score: 1.14\n",
      "Episode 773\tAverage Score: 1.13 New best model saved! Score: 1.15\n",
      "Episode 781\tAverage Score: 1.12 New best model saved! Score: 1.15\n",
      "Episode 784\tAverage Score: 1.14 New best model saved! Score: 1.16\n",
      "Episode 785\tAverage Score: 1.16 New best model saved! Score: 1.16\n",
      "Episode 810\tAverage Score: 1.15 New best model saved! Score: 1.18\n",
      "Episode 823\tAverage Score: 1.17 New best model saved! Score: 1.21\n",
      "Episode 828\tAverage Score: 1.20 New best model saved! Score: 1.22\n",
      "Episode 829\tAverage Score: 1.22 New best model saved! Score: 1.22\n",
      "Episode 830\tAverage Score: 1.22 New best model saved! Score: 1.25\n",
      "Episode 836\tAverage Score: 1.23 New best model saved! Score: 1.26\n",
      "Episode 837\tAverage Score: 1.26 New best model saved! Score: 1.26\n",
      "Episode 838\tAverage Score: 1.26 New best model saved! Score: 1.27\n",
      "Episode 839\tAverage Score: 1.27 New best model saved! Score: 1.28\n",
      "Episode 841\tAverage Score: 1.25 New best model saved! Score: 1.29\n",
      "Episode 843\tAverage Score: 1.29 New best model saved! Score: 1.31\n",
      "Episode 882\tAverage Score: 1.29 New best model saved! Score: 1.31\n",
      "Episode 888\tAverage Score: 1.31 New best model saved! Score: 1.35\n",
      "Episode 890\tAverage Score: 1.34 New best model saved! Score: 1.37\n",
      "Episode 891\tAverage Score: 1.37 New best model saved! Score: 1.38\n",
      "Episode 892\tAverage Score: 1.38 New best model saved! Score: 1.38\n",
      "Episode 893\tAverage Score: 1.38 New best model saved! Score: 1.39\n",
      "Episode 894\tAverage Score: 1.39 New best model saved! Score: 1.41\n",
      "Episode 895\tAverage Score: 1.41 New best model saved! Score: 1.43\n",
      "Episode 896\tAverage Score: 1.43 New best model saved! Score: 1.44\n",
      "Episode 897\tAverage Score: 1.44 New best model saved! Score: 1.47\n",
      "Episode 898\tAverage Score: 1.47 New best model saved! Score: 1.49\n",
      "Episode 899\tAverage Score: 1.49 New best model saved! Score: 1.50\n",
      "Episode 916\tAverage Score: 1.49 New best model saved! Score: 1.51\n",
      "Episode 917\tAverage Score: 1.51 New best model saved! Score: 1.51\n",
      "Episode 919\tAverage Score: 1.51 New best model saved! Score: 1.51\n",
      "Episode 920\tAverage Score: 1.51 New best model saved! Score: 1.53\n",
      "Episode 921\tAverage Score: 1.53 New best model saved! Score: 1.54\n",
      "Episode 942\tAverage Score: 1.53 New best model saved! Score: 1.55\n",
      "Episode 944\tAverage Score: 1.55 New best model saved! Score: 1.59\n",
      "Episode 945\tAverage Score: 1.59 New best model saved! Score: 1.59\n",
      "Episode 946\tAverage Score: 1.59 New best model saved! Score: 1.63\n",
      "Episode 947\tAverage Score: 1.63 New best model saved! Score: 1.65\n",
      "Episode 955\tAverage Score: 1.65 New best model saved! Score: 1.66\n",
      "Episode 964\tAverage Score: 1.63 New best model saved! Score: 1.67\n",
      "Episode 965\tAverage Score: 1.67 New best model saved! Score: 1.68\n",
      "Episode 966\tAverage Score: 1.68 New best model saved! Score: 1.69\n",
      "Episode 967\tAverage Score: 1.69 New best model saved! Score: 1.69\n",
      "Episode 968\tAverage Score: 1.69 New best model saved! Score: 1.70\n",
      "Episode 984\tAverage Score: 1.68 New best model saved! Score: 1.71\n",
      "Episode 986\tAverage Score: 1.69 New best model saved! Score: 1.73\n",
      "Episode 998\tAverage Score: 1.57"
     ]
    },
    {
     "name": "stderr",
     "output_type": "stream",
     "text": [
      "[I 2025-03-03 10:39:54,243] Trial 84 finished with value: 1.5189999999999995 and parameters: {'BUFFER_SIZE': 827434, 'BATCH_SIZE': 219, 'GAMMA': 0.859464720118632, 'TAU': 0.004661294717880948, 'UPDATE_EVERY': 2}. Best is trial 61 with value: 5.441999999999986.\n"
     ]
    },
    {
     "name": "stdout",
     "output_type": "stream",
     "text": [
      "Episode 999\tAverage Score: 1.52cuda\n",
      "cuda\n",
      "Checkpoint saved at 2025-03-03 10:39:54\n",
      "Episode 499\tAverage Score: -1.55Checkpoint saved at 2025-03-03 10:40:44\n",
      "Episode 799\tAverage Score: 0.99 New best model saved! Score: 1.03\n",
      "Episode 809\tAverage Score: 0.93 New best model saved! Score: 1.03\n",
      "Episode 814\tAverage Score: 1.00 New best model saved! Score: 1.08\n",
      "Episode 875\tAverage Score: 1.06 New best model saved! Score: 1.10\n",
      "Episode 878\tAverage Score: 1.09 New best model saved! Score: 1.14\n",
      "Episode 879\tAverage Score: 1.14 New best model saved! Score: 1.16\n",
      "Episode 880\tAverage Score: 1.16 New best model saved! Score: 1.19\n",
      "Episode 881\tAverage Score: 1.19 New best model saved! Score: 1.23\n",
      "Episode 882\tAverage Score: 1.23 New best model saved! Score: 1.36\n",
      "Episode 884\tAverage Score: 1.35 New best model saved! Score: 1.38\n",
      "Episode 885\tAverage Score: 1.38 New best model saved! Score: 1.38\n",
      "Episode 886\tAverage Score: 1.38 New best model saved! Score: 1.39\n",
      "Episode 888\tAverage Score: 1.39 New best model saved! Score: 1.43\n",
      "Episode 889\tAverage Score: 1.43 New best model saved! Score: 1.51\n",
      "Episode 893\tAverage Score: 1.47 New best model saved! Score: 1.51\n",
      "Episode 894\tAverage Score: 1.51 New best model saved! Score: 1.54\n",
      "Episode 897\tAverage Score: 1.53 New best model saved! Score: 1.55\n",
      "Episode 898\tAverage Score: 1.55 New best model saved! Score: 1.57\n",
      "Episode 900\tAverage Score: 1.56 New best model saved! Score: 1.69\n",
      "Episode 901\tAverage Score: 1.69 New best model saved! Score: 1.70\n",
      "Episode 903\tAverage Score: 1.67 New best model saved! Score: 1.75\n",
      "Episode 907\tAverage Score: 1.72 New best model saved! Score: 1.76\n",
      "Episode 908\tAverage Score: 1.76 New best model saved! Score: 1.77\n",
      "Episode 909\tAverage Score: 1.77 New best model saved! Score: 1.77\n",
      "Episode 910\tAverage Score: 1.77 New best model saved! Score: 1.78\n",
      "Episode 911\tAverage Score: 1.78 New best model saved! Score: 1.79\n",
      "Episode 912\tAverage Score: 1.79 New best model saved! Score: 1.81\n",
      "Episode 917\tAverage Score: 1.78 New best model saved! Score: 1.87\n",
      "Episode 918\tAverage Score: 1.87 New best model saved! Score: 1.88\n",
      "Episode 919\tAverage Score: 1.88 New best model saved! Score: 1.88\n",
      "Episode 920\tAverage Score: 1.88 New best model saved! Score: 1.91\n",
      "Episode 925\tAverage Score: 1.89 New best model saved! Score: 1.94\n",
      "Episode 926\tAverage Score: 1.94 New best model saved! Score: 1.94\n",
      "Episode 928\tAverage Score: 1.94 New best model saved! Score: 1.95\n",
      "Episode 929\tAverage Score: 1.95 New best model saved! Score: 1.96\n",
      "Episode 933\tAverage Score: 1.86 New best model saved! Score: 1.98\n",
      "Episode 938\tAverage Score: 1.98 New best model saved! Score: 1.98\n",
      "Episode 941\tAverage Score: 1.98 New best model saved! Score: 1.98\n",
      "Episode 942\tAverage Score: 1.98 New best model saved! Score: 2.00\n",
      "Episode 944\tAverage Score: 2.00 New best model saved! Score: 2.01\n",
      "Episode 962\tAverage Score: 1.97 New best model saved! Score: 2.04\n",
      "Episode 963\tAverage Score: 2.04 New best model saved! Score: 2.08\n",
      "Episode 964\tAverage Score: 2.08 New best model saved! Score: 2.10\n",
      "Episode 998\tAverage Score: 1.76"
     ]
    },
    {
     "name": "stderr",
     "output_type": "stream",
     "text": [
      "[I 2025-03-03 10:41:46,847] Trial 85 finished with value: 1.7749999999999964 and parameters: {'BUFFER_SIZE': 731029, 'BATCH_SIZE': 250, 'GAMMA': 0.8794091162274714, 'TAU': 0.006521465278523027, 'UPDATE_EVERY': 4}. Best is trial 61 with value: 5.441999999999986.\n"
     ]
    },
    {
     "name": "stdout",
     "output_type": "stream",
     "text": [
      "Episode 999\tAverage Score: 1.77cuda\n",
      "cuda\n",
      "Checkpoint saved at 2025-03-03 10:41:46\n",
      "Episode 499\tAverage Score: -1.74Checkpoint saved at 2025-03-03 10:42:36\n",
      "Episode 997\tAverage Score: 0.712"
     ]
    },
    {
     "name": "stderr",
     "output_type": "stream",
     "text": [
      "[I 2025-03-03 10:43:28,550] Trial 86 finished with value: 0.7080000000000001 and parameters: {'BUFFER_SIZE': 891931, 'BATCH_SIZE': 130, 'GAMMA': 0.8886562449331121, 'TAU': 0.005433509268534706, 'UPDATE_EVERY': 3}. Best is trial 61 with value: 5.441999999999986.\n"
     ]
    },
    {
     "name": "stdout",
     "output_type": "stream",
     "text": [
      "Episode 999\tAverage Score: 0.71cuda\n",
      "cuda\n",
      "Checkpoint saved at 2025-03-03 10:43:28\n",
      "Episode 499\tAverage Score: -1.78Checkpoint saved at 2025-03-03 10:44:25\n",
      "Episode 892\tAverage Score: 0.92 New best model saved! Score: 1.04\n",
      "Episode 893\tAverage Score: 1.04 New best model saved! Score: 1.09\n",
      "Episode 894\tAverage Score: 1.09 New best model saved! Score: 1.11\n",
      "Episode 902\tAverage Score: 1.05 New best model saved! Score: 1.11\n",
      "Episode 918\tAverage Score: 1.06 New best model saved! Score: 1.13\n",
      "Episode 919\tAverage Score: 1.13 New best model saved! Score: 1.16\n",
      "Episode 920\tAverage Score: 1.16 New best model saved! Score: 1.17\n",
      "Episode 921\tAverage Score: 1.17 New best model saved! Score: 1.20\n",
      "Episode 923\tAverage Score: 1.20 New best model saved! Score: 1.21\n",
      "Episode 924\tAverage Score: 1.21 New best model saved! Score: 1.27\n",
      "Episode 930\tAverage Score: 1.27 New best model saved! Score: 1.33\n",
      "Episode 932\tAverage Score: 1.33 New best model saved! Score: 1.36\n",
      "Episode 936\tAverage Score: 1.36 New best model saved! Score: 1.40\n",
      "Episode 937\tAverage Score: 1.40 New best model saved! Score: 1.44\n",
      "Episode 946\tAverage Score: 1.43 New best model saved! Score: 1.48\n",
      "Episode 947\tAverage Score: 1.48 New best model saved! Score: 1.52\n",
      "Episode 949\tAverage Score: 1.51 New best model saved! Score: 1.59\n",
      "Episode 950\tAverage Score: 1.59 New best model saved! Score: 1.62\n",
      "Episode 956\tAverage Score: 1.62 New best model saved! Score: 1.64\n",
      "Episode 963\tAverage Score: 1.63 New best model saved! Score: 1.65\n",
      "Episode 964\tAverage Score: 1.65 New best model saved! Score: 1.66\n",
      "Episode 965\tAverage Score: 1.66 New best model saved! Score: 1.66\n",
      "Episode 981\tAverage Score: 1.65 New best model saved! Score: 1.68\n",
      "Episode 984\tAverage Score: 1.67 New best model saved! Score: 1.70\n",
      "Episode 989\tAverage Score: 1.67 New best model saved! Score: 1.74\n",
      "Episode 991\tAverage Score: 1.70 New best model saved! Score: 1.74\n",
      "Episode 997\tAverage Score: 1.74"
     ]
    },
    {
     "name": "stderr",
     "output_type": "stream",
     "text": [
      "[I 2025-03-03 10:45:30,482] Trial 87 finished with value: 1.7949999999999986 and parameters: {'BUFFER_SIZE': 951187, 'BATCH_SIZE': 123, 'GAMMA': 0.8488337319554966, 'TAU': 0.005825875702885838, 'UPDATE_EVERY': 2}. Best is trial 61 with value: 5.441999999999986.\n"
     ]
    },
    {
     "name": "stdout",
     "output_type": "stream",
     "text": [
      " New best model saved! Score: 1.76\n",
      "Episode 998\tAverage Score: 1.76 New best model saved! Score: 1.79\n",
      "Episode 999\tAverage Score: 1.79cuda\n",
      "cuda\n",
      "Checkpoint saved at 2025-03-03 10:45:30\n",
      "Episode 499\tAverage Score: -1.16Checkpoint saved at 2025-03-03 10:46:25\n",
      "Episode 736\tAverage Score: 0.981 New best model saved! Score: 1.00\n",
      "Episode 759\tAverage Score: 0.99 New best model saved! Score: 1.02\n",
      "Episode 766\tAverage Score: 1.01 New best model saved! Score: 1.04\n",
      "Episode 771\tAverage Score: 1.01 New best model saved! Score: 1.05\n",
      "Episode 773\tAverage Score: 1.05 New best model saved! Score: 1.07\n",
      "Episode 774\tAverage Score: 1.07 New best model saved! Score: 1.08\n",
      "Episode 775\tAverage Score: 1.08 New best model saved! Score: 1.12\n",
      "Episode 776\tAverage Score: 1.12 New best model saved! Score: 1.15\n",
      "Episode 878\tAverage Score: 1.14 New best model saved! Score: 1.15\n",
      "Episode 888\tAverage Score: 1.12 New best model saved! Score: 1.18\n",
      "Episode 929\tAverage Score: 1.17 New best model saved! Score: 1.18\n",
      "Episode 930\tAverage Score: 1.18 New best model saved! Score: 1.20\n",
      "Episode 960\tAverage Score: 1.12 New best model saved! Score: 1.21\n",
      "Episode 980\tAverage Score: 1.20 New best model saved! Score: 1.22\n",
      "Episode 981\tAverage Score: 1.22 New best model saved! Score: 1.23\n",
      "Episode 995\tAverage Score: 1.23 New best model saved! Score: 1.30\n",
      "Episode 998\tAverage Score: 1.30"
     ]
    },
    {
     "name": "stderr",
     "output_type": "stream",
     "text": [
      "[I 2025-03-03 10:47:25,653] Trial 88 finished with value: 1.3019999999999998 and parameters: {'BUFFER_SIZE': 764135, 'BATCH_SIZE': 109, 'GAMMA': 0.8637500032374424, 'TAU': 0.006208074123864548, 'UPDATE_EVERY': 2}. Best is trial 61 with value: 5.441999999999986.\n"
     ]
    },
    {
     "name": "stdout",
     "output_type": "stream",
     "text": [
      "Episode 999\tAverage Score: 1.30cuda\n",
      "cuda\n",
      "Checkpoint saved at 2025-03-03 10:47:25\n",
      "Episode 499\tAverage Score: -1.73Checkpoint saved at 2025-03-03 10:48:11\n",
      "Episode 997\tAverage Score: 0.997"
     ]
    },
    {
     "name": "stderr",
     "output_type": "stream",
     "text": [
      "[I 2025-03-03 10:48:59,522] Trial 89 finished with value: 0.9880000000000001 and parameters: {'BUFFER_SIZE': 702616, 'BATCH_SIZE': 167, 'GAMMA': 0.8711682640895287, 'TAU': 0.005206728562071527, 'UPDATE_EVERY': 4}. Best is trial 61 with value: 5.441999999999986.\n"
     ]
    },
    {
     "name": "stdout",
     "output_type": "stream",
     "text": [
      "Episode 999\tAverage Score: 0.99cuda\n",
      "cuda\n",
      "Checkpoint saved at 2025-03-03 10:48:59\n",
      "Episode 499\tAverage Score: -1.74Checkpoint saved at 2025-03-03 10:49:41\n",
      "Episode 998\tAverage Score: -1.41"
     ]
    },
    {
     "name": "stderr",
     "output_type": "stream",
     "text": [
      "[I 2025-03-03 10:50:26,172] Trial 90 finished with value: -1.3239999999999992 and parameters: {'BUFFER_SIZE': 237587, 'BATCH_SIZE': 211, 'GAMMA': 0.9850522881953342, 'TAU': 0.004152673690133054, 'UPDATE_EVERY': 6}. Best is trial 61 with value: 5.441999999999986.\n"
     ]
    },
    {
     "name": "stdout",
     "output_type": "stream",
     "text": [
      "Episode 999\tAverage Score: -1.32cuda\n",
      "cuda\n",
      "Checkpoint saved at 2025-03-03 10:50:26\n",
      "Episode 499\tAverage Score: -1.53Checkpoint saved at 2025-03-03 10:51:18\n",
      "Episode 844\tAverage Score: 0.992 New best model saved! Score: 1.02\n",
      "Episode 845\tAverage Score: 1.02 New best model saved! Score: 1.03\n",
      "Episode 846\tAverage Score: 1.03 New best model saved! Score: 1.04\n",
      "Episode 847\tAverage Score: 1.04 New best model saved! Score: 1.07\n",
      "Episode 851\tAverage Score: 1.04 New best model saved! Score: 1.08\n",
      "Episode 852\tAverage Score: 1.08 New best model saved! Score: 1.10\n",
      "Episode 853\tAverage Score: 1.10 New best model saved! Score: 1.13\n",
      "Episode 854\tAverage Score: 1.13 New best model saved! Score: 1.16\n",
      "Episode 856\tAverage Score: 1.16 New best model saved! Score: 1.16\n",
      "Episode 873\tAverage Score: 1.14 New best model saved! Score: 1.16\n",
      "Episode 875\tAverage Score: 1.16 New best model saved! Score: 1.19\n",
      "Episode 876\tAverage Score: 1.19 New best model saved! Score: 1.22\n",
      "Episode 877\tAverage Score: 1.22 New best model saved! Score: 1.23\n",
      "Episode 998\tAverage Score: 1.09"
     ]
    },
    {
     "name": "stderr",
     "output_type": "stream",
     "text": [
      "[I 2025-03-03 10:52:15,334] Trial 91 finished with value: 1.0870000000000002 and parameters: {'BUFFER_SIZE': 898092, 'BATCH_SIZE': 197, 'GAMMA': 0.8618212713206934, 'TAU': 0.004972653009444643, 'UPDATE_EVERY': 3}. Best is trial 61 with value: 5.441999999999986.\n"
     ]
    },
    {
     "name": "stdout",
     "output_type": "stream",
     "text": [
      "Episode 999\tAverage Score: 1.09cuda\n",
      "cuda\n",
      "Checkpoint saved at 2025-03-03 10:52:15\n",
      "Episode 499\tAverage Score: -2.45Checkpoint saved at 2025-03-03 10:53:08\n",
      "Episode 889\tAverage Score: 0.962 New best model saved! Score: 1.01\n",
      "Episode 895\tAverage Score: 0.99 New best model saved! Score: 1.01\n",
      "Episode 896\tAverage Score: 1.01 New best model saved! Score: 1.02\n",
      "Episode 898\tAverage Score: 1.01 New best model saved! Score: 1.04\n",
      "Episode 899\tAverage Score: 1.04 New best model saved! Score: 1.09\n",
      "Episode 900\tAverage Score: 1.09 New best model saved! Score: 1.12\n",
      "Episode 901\tAverage Score: 1.12 New best model saved! Score: 1.15\n",
      "Episode 902\tAverage Score: 1.15 New best model saved! Score: 1.19\n",
      "Episode 903\tAverage Score: 1.19 New best model saved! Score: 1.21\n",
      "Episode 904\tAverage Score: 1.21 New best model saved! Score: 1.21\n",
      "Episode 905\tAverage Score: 1.21 New best model saved! Score: 1.24\n",
      "Episode 906\tAverage Score: 1.24 New best model saved! Score: 1.27\n",
      "Episode 907\tAverage Score: 1.27 New best model saved! Score: 1.28\n",
      "Episode 909\tAverage Score: 1.28 New best model saved! Score: 1.31\n",
      "Episode 911\tAverage Score: 1.30 New best model saved! Score: 1.32\n",
      "Episode 912\tAverage Score: 1.32 New best model saved! Score: 1.36\n",
      "Episode 923\tAverage Score: 1.35 New best model saved! Score: 1.37\n",
      "Episode 926\tAverage Score: 1.37 New best model saved! Score: 1.39\n",
      "Episode 927\tAverage Score: 1.39 New best model saved! Score: 1.47\n",
      "Episode 928\tAverage Score: 1.47 New best model saved! Score: 1.47\n",
      "Episode 938\tAverage Score: 1.46 New best model saved! Score: 1.48\n",
      "Episode 939\tAverage Score: 1.48 New best model saved! Score: 1.50\n",
      "Episode 940\tAverage Score: 1.50 New best model saved! Score: 1.59\n",
      "Episode 941\tAverage Score: 1.59 New best model saved! Score: 1.63\n",
      "Episode 942\tAverage Score: 1.63 New best model saved! Score: 1.64\n",
      "Episode 944\tAverage Score: 1.63 New best model saved! Score: 1.66\n",
      "Episode 945\tAverage Score: 1.66 New best model saved! Score: 1.66\n",
      "Episode 946\tAverage Score: 1.66 New best model saved! Score: 1.67\n",
      "Episode 947\tAverage Score: 1.67 New best model saved! Score: 1.67\n",
      "Episode 949\tAverage Score: 1.66 New best model saved! Score: 1.67\n",
      "Episode 953\tAverage Score: 1.67 New best model saved! Score: 1.71\n",
      "Episode 973\tAverage Score: 1.71 New best model saved! Score: 1.71\n",
      "Episode 974\tAverage Score: 1.71 New best model saved! Score: 1.72\n",
      "Episode 975\tAverage Score: 1.72 New best model saved! Score: 1.73\n",
      "Episode 977\tAverage Score: 1.72 New best model saved! Score: 1.78\n",
      "Episode 979\tAverage Score: 1.77 New best model saved! Score: 1.85\n",
      "Episode 980\tAverage Score: 1.85 New best model saved! Score: 1.86\n",
      "Episode 985\tAverage Score: 1.83 New best model saved! Score: 1.87\n",
      "Episode 986\tAverage Score: 1.87 New best model saved! Score: 1.90\n",
      "Episode 987\tAverage Score: 1.90 New best model saved! Score: 1.94\n",
      "Episode 991\tAverage Score: 1.92 New best model saved! Score: 1.96\n",
      "Episode 992\tAverage Score: 1.96 New best model saved! Score: 1.96\n",
      "Episode 994\tAverage Score: 1.96 New best model saved! Score: 1.97\n",
      "Episode 995\tAverage Score: 1.97 New best model saved! Score: 1.99\n",
      "Episode 997\tAverage Score: 1.97 New best model saved! Score: 1.99\n",
      "Episode 998\tAverage Score: 1.99"
     ]
    },
    {
     "name": "stderr",
     "output_type": "stream",
     "text": [
      "[I 2025-03-03 10:54:07,326] Trial 92 finished with value: 2.000999999999999 and parameters: {'BUFFER_SIZE': 917055, 'BATCH_SIZE': 222, 'GAMMA': 0.8529810715998091, 'TAU': 0.0038977039132483864, 'UPDATE_EVERY': 3}. Best is trial 61 with value: 5.441999999999986.\n"
     ]
    },
    {
     "name": "stdout",
     "output_type": "stream",
     "text": [
      " New best model saved! Score: 2.00\n",
      "Episode 999\tAverage Score: 2.00cuda\n",
      "cuda\n",
      "Checkpoint saved at 2025-03-03 10:54:07\n",
      "Episode 499\tAverage Score: -1.55Checkpoint saved at 2025-03-03 10:55:00\n",
      "Episode 702\tAverage Score: 0.930 New best model saved! Score: 1.02\n",
      "Episode 703\tAverage Score: 1.02 New best model saved! Score: 1.03\n",
      "Episode 704\tAverage Score: 1.03 New best model saved! Score: 1.03\n",
      "Episode 707\tAverage Score: 1.02 New best model saved! Score: 1.07\n",
      "Episode 708\tAverage Score: 1.07 New best model saved! Score: 1.10\n",
      "Episode 709\tAverage Score: 1.10 New best model saved! Score: 1.12\n",
      "Episode 711\tAverage Score: 1.11 New best model saved! Score: 1.13\n",
      "Episode 776\tAverage Score: 1.01 New best model saved! Score: 1.13\n",
      "Episode 781\tAverage Score: 1.11 New best model saved! Score: 1.14\n",
      "Episode 823\tAverage Score: 1.12 New best model saved! Score: 1.15\n",
      "Episode 824\tAverage Score: 1.15 New best model saved! Score: 1.16\n",
      "Episode 836\tAverage Score: 1.11 New best model saved! Score: 1.20\n",
      "Episode 837\tAverage Score: 1.20 New best model saved! Score: 1.20\n",
      "Episode 838\tAverage Score: 1.20 New best model saved! Score: 1.23\n",
      "Episode 839\tAverage Score: 1.23 New best model saved! Score: 1.26\n",
      "Episode 840\tAverage Score: 1.26 New best model saved! Score: 1.27\n",
      "Episode 841\tAverage Score: 1.27 New best model saved! Score: 1.28\n",
      "Episode 844\tAverage Score: 1.28 New best model saved! Score: 1.28\n",
      "Episode 846\tAverage Score: 1.28 New best model saved! Score: 1.30\n",
      "Episode 847\tAverage Score: 1.30 New best model saved! Score: 1.31\n",
      "Episode 848\tAverage Score: 1.31 New best model saved! Score: 1.32\n",
      "Episode 849\tAverage Score: 1.32 New best model saved! Score: 1.34\n",
      "Episode 853\tAverage Score: 1.33 New best model saved! Score: 1.36\n",
      "Episode 854\tAverage Score: 1.36 New best model saved! Score: 1.40\n",
      "Episode 856\tAverage Score: 1.40 New best model saved! Score: 1.43\n",
      "Episode 899\tAverage Score: 1.35 New best model saved! Score: 1.45\n",
      "Episode 900\tAverage Score: 1.45 New best model saved! Score: 1.47\n",
      "Episode 902\tAverage Score: 1.46 New best model saved! Score: 1.48\n",
      "Episode 903\tAverage Score: 1.48 New best model saved! Score: 1.49\n",
      "Episode 904\tAverage Score: 1.49 New best model saved! Score: 1.49\n",
      "Episode 905\tAverage Score: 1.49 New best model saved! Score: 1.59\n",
      "Episode 906\tAverage Score: 1.59 New best model saved! Score: 1.63\n",
      "Episode 909\tAverage Score: 1.62 New best model saved! Score: 1.66\n",
      "Episode 910\tAverage Score: 1.66 New best model saved! Score: 1.67\n",
      "Episode 912\tAverage Score: 1.67 New best model saved! Score: 1.76\n",
      "Episode 920\tAverage Score: 1.74 New best model saved! Score: 1.78\n",
      "Episode 921\tAverage Score: 1.78 New best model saved! Score: 1.78\n",
      "Episode 922\tAverage Score: 1.78 New best model saved! Score: 1.79\n",
      "Episode 923\tAverage Score: 1.79 New best model saved! Score: 1.79\n",
      "Episode 925\tAverage Score: 1.77 New best model saved! Score: 1.80\n",
      "Episode 926\tAverage Score: 1.80 New best model saved! Score: 1.80\n",
      "Episode 927\tAverage Score: 1.80 New best model saved! Score: 1.81\n",
      "Episode 928\tAverage Score: 1.81 New best model saved! Score: 1.89\n",
      "Episode 929\tAverage Score: 1.89 New best model saved! Score: 1.91\n",
      "Episode 930\tAverage Score: 1.91 New best model saved! Score: 1.92\n",
      "Episode 931\tAverage Score: 1.92 New best model saved! Score: 1.94\n",
      "Episode 932\tAverage Score: 1.94 New best model saved! Score: 1.97\n",
      "Episode 961\tAverage Score: 1.96 New best model saved! Score: 1.99\n",
      "Episode 962\tAverage Score: 1.99 New best model saved! Score: 2.01\n",
      "Episode 965\tAverage Score: 2.01 New best model saved! Score: 2.04\n",
      "Episode 985\tAverage Score: 2.03 New best model saved! Score: 2.07\n",
      "Episode 989\tAverage Score: 2.07 New best model saved! Score: 2.07\n",
      "Episode 992\tAverage Score: 2.06 New best model saved! Score: 2.07\n",
      "Episode 993\tAverage Score: 2.07 New best model saved! Score: 2.12\n",
      "Episode 998\tAverage Score: 2.09"
     ]
    },
    {
     "name": "stderr",
     "output_type": "stream",
     "text": [
      "[I 2025-03-03 10:55:59,829] Trial 93 finished with value: 2.0529999999999986 and parameters: {'BUFFER_SIZE': 841336, 'BATCH_SIZE': 217, 'GAMMA': 0.8436199219767504, 'TAU': 0.00493229575857693, 'UPDATE_EVERY': 3}. Best is trial 61 with value: 5.441999999999986.\n"
     ]
    },
    {
     "name": "stdout",
     "output_type": "stream",
     "text": [
      "Episode 999\tAverage Score: 2.05cuda\n",
      "cuda\n",
      "Checkpoint saved at 2025-03-03 10:55:59\n",
      "Episode 499\tAverage Score: -1.71Checkpoint saved at 2025-03-03 10:56:53\n",
      "Episode 672\tAverage Score: 0.975 New best model saved! Score: 1.00\n",
      "Episode 700\tAverage Score: 0.97 New best model saved! Score: 1.01\n",
      "Episode 707\tAverage Score: 0.99 New best model saved! Score: 1.04\n",
      "Episode 710\tAverage Score: 1.03 New best model saved! Score: 1.06\n",
      "Episode 711\tAverage Score: 1.06 New best model saved! Score: 1.07\n",
      "Episode 712\tAverage Score: 1.07 New best model saved! Score: 1.09\n",
      "Episode 713\tAverage Score: 1.09 New best model saved! Score: 1.10\n",
      "Episode 715\tAverage Score: 1.09 New best model saved! Score: 1.10\n",
      "Episode 716\tAverage Score: 1.10 New best model saved! Score: 1.12\n",
      "Episode 717\tAverage Score: 1.12 New best model saved! Score: 1.13\n",
      "Episode 718\tAverage Score: 1.13 New best model saved! Score: 1.14\n",
      "Episode 720\tAverage Score: 1.13 New best model saved! Score: 1.15\n",
      "Episode 722\tAverage Score: 1.14 New best model saved! Score: 1.16\n",
      "Episode 724\tAverage Score: 1.15 New best model saved! Score: 1.21\n",
      "Episode 725\tAverage Score: 1.21 New best model saved! Score: 1.24\n",
      "Episode 726\tAverage Score: 1.24 New best model saved! Score: 1.25\n",
      "Episode 834\tAverage Score: 1.25 New best model saved! Score: 1.30\n",
      "Episode 835\tAverage Score: 1.30 New best model saved! Score: 1.34\n",
      "Episode 836\tAverage Score: 1.34 New best model saved! Score: 1.35\n",
      "Episode 837\tAverage Score: 1.35 New best model saved! Score: 1.42\n",
      "Episode 843\tAverage Score: 1.38 New best model saved! Score: 1.43\n",
      "Episode 849\tAverage Score: 1.41 New best model saved! Score: 1.44\n",
      "Episode 857\tAverage Score: 1.39 New best model saved! Score: 1.44\n",
      "Episode 861\tAverage Score: 1.38 New best model saved! Score: 1.45\n",
      "Episode 862\tAverage Score: 1.45 New best model saved! Score: 1.46\n",
      "Episode 863\tAverage Score: 1.46 New best model saved! Score: 1.47\n",
      "Episode 872\tAverage Score: 1.43 New best model saved! Score: 1.49\n",
      "Episode 873\tAverage Score: 1.49 New best model saved! Score: 1.50\n",
      "Episode 876\tAverage Score: 1.49 New best model saved! Score: 1.51\n",
      "Episode 877\tAverage Score: 1.51 New best model saved! Score: 1.61\n",
      "Episode 997\tAverage Score: 1.46"
     ]
    },
    {
     "name": "stderr",
     "output_type": "stream",
     "text": [
      "[I 2025-03-03 10:58:06,500] Trial 94 finished with value: 1.431999999999996 and parameters: {'BUFFER_SIZE': 967312, 'BATCH_SIZE': 228, 'GAMMA': 0.880696858212107, 'TAU': 0.0055976909961257485, 'UPDATE_EVERY': 3}. Best is trial 61 with value: 5.441999999999986.\n"
     ]
    },
    {
     "name": "stdout",
     "output_type": "stream",
     "text": [
      "Episode 999\tAverage Score: 1.43cuda\n",
      "cuda\n",
      "Checkpoint saved at 2025-03-03 10:58:06\n",
      "Episode 499\tAverage Score: -1.67Checkpoint saved at 2025-03-03 10:59:00\n",
      "Episode 997\tAverage Score: 0.161"
     ]
    },
    {
     "name": "stderr",
     "output_type": "stream",
     "text": [
      "[I 2025-03-03 10:59:59,450] Trial 95 finished with value: 0.2080000000000006 and parameters: {'BUFFER_SIZE': 809189, 'BATCH_SIZE': 233, 'GAMMA': 0.8761523946490147, 'TAU': 0.004671109072784272, 'UPDATE_EVERY': 3}. Best is trial 61 with value: 5.441999999999986.\n"
     ]
    },
    {
     "name": "stdout",
     "output_type": "stream",
     "text": [
      "Episode 999\tAverage Score: 0.21cuda\n",
      "cuda\n",
      "Checkpoint saved at 2025-03-03 10:59:59\n",
      "Episode 499\tAverage Score: -0.58Checkpoint saved at 2025-03-03 11:01:04\n",
      "Episode 765\tAverage Score: 1.000 New best model saved! Score: 1.06\n",
      "Episode 805\tAverage Score: 1.04 New best model saved! Score: 1.07\n",
      "Episode 806\tAverage Score: 1.07 New best model saved! Score: 1.09\n",
      "Episode 807\tAverage Score: 1.09 New best model saved! Score: 1.09\n",
      "Episode 808\tAverage Score: 1.09 New best model saved! Score: 1.12\n",
      "Episode 823\tAverage Score: 1.10 New best model saved! Score: 1.14\n",
      "Episode 827\tAverage Score: 1.14 New best model saved! Score: 1.18\n",
      "Episode 828\tAverage Score: 1.18 New best model saved! Score: 1.18\n",
      "Episode 846\tAverage Score: 1.17 New best model saved! Score: 1.21\n",
      "Episode 848\tAverage Score: 1.21 New best model saved! Score: 1.21\n",
      "Episode 854\tAverage Score: 1.19 New best model saved! Score: 1.23\n",
      "Episode 855\tAverage Score: 1.23 New best model saved! Score: 1.26\n",
      "Episode 863\tAverage Score: 1.24 New best model saved! Score: 1.27\n",
      "Episode 866\tAverage Score: 1.26 New best model saved! Score: 1.29\n",
      "Episode 868\tAverage Score: 1.29 New best model saved! Score: 1.30\n",
      "Episode 870\tAverage Score: 1.30 New best model saved! Score: 1.33\n",
      "Episode 871\tAverage Score: 1.33 New best model saved! Score: 1.37\n",
      "Episode 874\tAverage Score: 1.34 New best model saved! Score: 1.37\n",
      "Episode 876\tAverage Score: 1.37 New best model saved! Score: 1.41\n",
      "Episode 877\tAverage Score: 1.41 New best model saved! Score: 1.44\n",
      "Episode 886\tAverage Score: 1.43 New best model saved! Score: 1.47\n",
      "Episode 890\tAverage Score: 1.47 New best model saved! Score: 1.51\n",
      "Episode 891\tAverage Score: 1.51 New best model saved! Score: 1.54\n",
      "Episode 892\tAverage Score: 1.54 New best model saved! Score: 1.57\n",
      "Episode 895\tAverage Score: 1.57 New best model saved! Score: 1.59\n",
      "Episode 896\tAverage Score: 1.59 New best model saved! Score: 1.59\n",
      "Episode 898\tAverage Score: 1.59 New best model saved! Score: 1.60\n",
      "Episode 911\tAverage Score: 1.58 New best model saved! Score: 1.62\n",
      "Episode 912\tAverage Score: 1.62 New best model saved! Score: 1.66\n",
      "Episode 914\tAverage Score: 1.66 New best model saved! Score: 1.70\n",
      "Episode 938\tAverage Score: 1.68 New best model saved! Score: 1.72\n",
      "Episode 941\tAverage Score: 1.72 New best model saved! Score: 1.75\n",
      "Episode 981\tAverage Score: 1.73 New best model saved! Score: 1.78\n",
      "Episode 998\tAverage Score: 1.69"
     ]
    },
    {
     "name": "stderr",
     "output_type": "stream",
     "text": [
      "[I 2025-03-03 11:02:19,090] Trial 96 finished with value: 1.6669999999999994 and parameters: {'BUFFER_SIZE': 888975, 'BATCH_SIZE': 243, 'GAMMA': 0.8583264387057585, 'TAU': 0.005379924019809608, 'UPDATE_EVERY': 2}. Best is trial 61 with value: 5.441999999999986.\n"
     ]
    },
    {
     "name": "stdout",
     "output_type": "stream",
     "text": [
      "Episode 999\tAverage Score: 1.67cuda\n",
      "cuda\n",
      "Checkpoint saved at 2025-03-03 11:02:19\n",
      "Episode 499\tAverage Score: 0.00Checkpoint saved at 2025-03-03 11:03:56\n",
      "Episode 678\tAverage Score: 1.004 New best model saved! Score: 1.02\n",
      "Episode 679\tAverage Score: 1.02 New best model saved! Score: 1.08\n",
      "Episode 680\tAverage Score: 1.08 New best model saved! Score: 1.12\n",
      "Episode 691\tAverage Score: 1.11 New best model saved! Score: 1.15\n",
      "Episode 693\tAverage Score: 1.15 New best model saved! Score: 1.19\n",
      "Episode 695\tAverage Score: 1.17 New best model saved! Score: 1.20\n",
      "Episode 696\tAverage Score: 1.20 New best model saved! Score: 1.21\n",
      "Episode 698\tAverage Score: 1.20 New best model saved! Score: 1.26\n",
      "Episode 699\tAverage Score: 1.26 New best model saved! Score: 1.27\n",
      "Episode 700\tAverage Score: 1.27 New best model saved! Score: 1.29\n",
      "Episode 701\tAverage Score: 1.29 New best model saved! Score: 1.32\n",
      "Episode 707\tAverage Score: 1.31 New best model saved! Score: 1.33\n",
      "Episode 710\tAverage Score: 1.33 New best model saved! Score: 1.37\n",
      "Episode 713\tAverage Score: 1.36 New best model saved! Score: 1.38\n",
      "Episode 734\tAverage Score: 1.35 New best model saved! Score: 1.39\n",
      "Episode 776\tAverage Score: 1.37 New best model saved! Score: 1.41\n",
      "Episode 786\tAverage Score: 1.39 New best model saved! Score: 1.44\n",
      "Episode 787\tAverage Score: 1.44 New best model saved! Score: 1.46\n",
      "Episode 813\tAverage Score: 1.46 New best model saved! Score: 1.49\n",
      "Episode 814\tAverage Score: 1.49 New best model saved! Score: 1.54\n",
      "Episode 816\tAverage Score: 1.53 New best model saved! Score: 1.59\n",
      "Episode 817\tAverage Score: 1.59 New best model saved! Score: 1.59\n",
      "Episode 818\tAverage Score: 1.59 New best model saved! Score: 1.63\n",
      "Episode 819\tAverage Score: 1.63 New best model saved! Score: 1.64\n",
      "Episode 820\tAverage Score: 1.64 New best model saved! Score: 1.69\n",
      "Episode 822\tAverage Score: 1.66 New best model saved! Score: 1.69\n",
      "Episode 828\tAverage Score: 1.69 New best model saved! Score: 1.71\n",
      "Episode 829\tAverage Score: 1.71 New best model saved! Score: 1.75\n",
      "Episode 832\tAverage Score: 1.74 New best model saved! Score: 1.75\n",
      "Episode 833\tAverage Score: 1.75 New best model saved! Score: 1.75\n",
      "Episode 835\tAverage Score: 1.75 New best model saved! Score: 1.77\n",
      "Episode 836\tAverage Score: 1.77 New best model saved! Score: 1.83\n",
      "Episode 837\tAverage Score: 1.83 New best model saved! Score: 1.87\n",
      "Episode 838\tAverage Score: 1.87 New best model saved! Score: 1.91\n",
      "Episode 839\tAverage Score: 1.91 New best model saved! Score: 1.92\n",
      "Episode 840\tAverage Score: 1.92 New best model saved! Score: 1.93\n",
      "Episode 841\tAverage Score: 1.93 New best model saved! Score: 1.96\n",
      "Episode 842\tAverage Score: 1.96 New best model saved! Score: 1.99\n",
      "Episode 843\tAverage Score: 1.99 New best model saved! Score: 2.10\n",
      "Episode 845\tAverage Score: 2.09 New best model saved! Score: 2.13\n",
      "Episode 847\tAverage Score: 2.13 New best model saved! Score: 2.14\n",
      "Episode 853\tAverage Score: 2.14 New best model saved! Score: 2.18\n",
      "Episode 854\tAverage Score: 2.18 New best model saved! Score: 2.20\n",
      "Episode 855\tAverage Score: 2.20 New best model saved! Score: 2.21\n",
      "Episode 857\tAverage Score: 2.21 New best model saved! Score: 2.22\n",
      "Episode 858\tAverage Score: 2.22 New best model saved! Score: 2.24\n",
      "Episode 859\tAverage Score: 2.24 New best model saved! Score: 2.25\n",
      "Episode 869\tAverage Score: 2.22 New best model saved! Score: 2.26\n",
      "Episode 871\tAverage Score: 2.25 New best model saved! Score: 2.28\n",
      "Episode 873\tAverage Score: 2.27 New best model saved! Score: 2.28\n",
      "Episode 878\tAverage Score: 2.27 New best model saved! Score: 2.31\n",
      "Episode 884\tAverage Score: 2.31 New best model saved! Score: 2.34\n",
      "Episode 888\tAverage Score: 2.28 New best model saved! Score: 2.35\n",
      "Episode 889\tAverage Score: 2.35 New best model saved! Score: 2.37\n",
      "Episode 890\tAverage Score: 2.37 New best model saved! Score: 2.38\n",
      "Episode 891\tAverage Score: 2.38 New best model saved! Score: 2.39\n",
      "Episode 998\tAverage Score: 2.12"
     ]
    },
    {
     "name": "stderr",
     "output_type": "stream",
     "text": [
      "[I 2025-03-03 11:05:45,036] Trial 97 finished with value: 2.1249999999999987 and parameters: {'BUFFER_SIZE': 874970, 'BATCH_SIZE': 240, 'GAMMA': 0.8701006978030417, 'TAU': 0.0050531681749664695, 'UPDATE_EVERY': 1}. Best is trial 61 with value: 5.441999999999986.\n"
     ]
    },
    {
     "name": "stdout",
     "output_type": "stream",
     "text": [
      "Episode 999\tAverage Score: 2.12cuda\n",
      "cuda\n",
      "Checkpoint saved at 2025-03-03 11:05:45\n",
      "Episode 499\tAverage Score: -2.36Checkpoint saved at 2025-03-03 11:06:29\n",
      "Episode 916\tAverage Score: 0.90 New best model saved! Score: 1.02\n",
      "Episode 917\tAverage Score: 1.02 New best model saved! Score: 1.06\n",
      "Episode 920\tAverage Score: 1.01 New best model saved! Score: 1.09\n",
      "Episode 922\tAverage Score: 1.09 New best model saved! Score: 1.13\n",
      "Episode 927\tAverage Score: 1.11 New best model saved! Score: 1.18\n",
      "Episode 929\tAverage Score: 1.18 New best model saved! Score: 1.21\n",
      "Episode 930\tAverage Score: 1.21 New best model saved! Score: 1.24\n",
      "Episode 931\tAverage Score: 1.24 New best model saved! Score: 1.25\n",
      "Episode 932\tAverage Score: 1.25 New best model saved! Score: 1.28\n",
      "Episode 933\tAverage Score: 1.28 New best model saved! Score: 1.29\n",
      "Episode 940\tAverage Score: 1.27 New best model saved! Score: 1.33\n",
      "Episode 941\tAverage Score: 1.33 New best model saved! Score: 1.38\n",
      "Episode 942\tAverage Score: 1.38 New best model saved! Score: 1.39\n",
      "Episode 945\tAverage Score: 1.36 New best model saved! Score: 1.43\n",
      "Episode 946\tAverage Score: 1.43 New best model saved! Score: 1.47\n",
      "Episode 947\tAverage Score: 1.47 New best model saved! Score: 1.55\n",
      "Episode 948\tAverage Score: 1.55 New best model saved! Score: 1.59\n",
      "Episode 950\tAverage Score: 1.58 New best model saved! Score: 1.62\n",
      "Episode 951\tAverage Score: 1.62 New best model saved! Score: 1.63\n",
      "Episode 952\tAverage Score: 1.63 New best model saved! Score: 1.66\n",
      "Episode 953\tAverage Score: 1.66 New best model saved! Score: 1.69\n",
      "Episode 955\tAverage Score: 1.69 New best model saved! Score: 1.70\n",
      "Episode 956\tAverage Score: 1.70 New best model saved! Score: 1.74\n",
      "Episode 957\tAverage Score: 1.74 New best model saved! Score: 1.80\n",
      "Episode 961\tAverage Score: 1.78 New best model saved! Score: 1.80\n",
      "Episode 962\tAverage Score: 1.80 New best model saved! Score: 1.84\n",
      "Episode 963\tAverage Score: 1.84 New best model saved! Score: 1.87\n",
      "Episode 965\tAverage Score: 1.87 New best model saved! Score: 1.90\n",
      "Episode 968\tAverage Score: 1.88 New best model saved! Score: 1.92\n",
      "Episode 970\tAverage Score: 1.92 New best model saved! Score: 1.95\n",
      "Episode 998\tAverage Score: 1.80"
     ]
    },
    {
     "name": "stderr",
     "output_type": "stream",
     "text": [
      "[I 2025-03-03 11:07:16,466] Trial 98 finished with value: 1.7899999999999994 and parameters: {'BUFFER_SIZE': 742233, 'BATCH_SIZE': 118, 'GAMMA': 0.8657794121446323, 'TAU': 0.004321547052141618, 'UPDATE_EVERY': 4}. Best is trial 61 with value: 5.441999999999986.\n"
     ]
    },
    {
     "name": "stdout",
     "output_type": "stream",
     "text": [
      "Episode 999\tAverage Score: 1.79cuda\n",
      "cuda\n",
      "Checkpoint saved at 2025-03-03 11:07:16\n",
      "Episode 499\tAverage Score: -1.30Checkpoint saved at 2025-03-03 11:08:34\n",
      "Episode 691\tAverage Score: 0.971 New best model saved! Score: 1.00\n",
      "Episode 692\tAverage Score: 1.00 New best model saved! Score: 1.02\n",
      "Episode 693\tAverage Score: 1.02 New best model saved! Score: 1.04\n",
      "Episode 694\tAverage Score: 1.04 New best model saved! Score: 1.05\n",
      "Episode 695\tAverage Score: 1.05 New best model saved! Score: 1.07\n",
      "Episode 696\tAverage Score: 1.07 New best model saved! Score: 1.11\n",
      "Episode 697\tAverage Score: 1.11 New best model saved! Score: 1.13\n",
      "Episode 698\tAverage Score: 1.13 New best model saved! Score: 1.14\n",
      "Episode 700\tAverage Score: 1.13 New best model saved! Score: 1.17\n",
      "Episode 702\tAverage Score: 1.17 New best model saved! Score: 1.18\n",
      "Episode 703\tAverage Score: 1.18 New best model saved! Score: 1.19\n",
      "Episode 705\tAverage Score: 1.18 New best model saved! Score: 1.24\n",
      "Episode 706\tAverage Score: 1.24 New best model saved! Score: 1.26\n",
      "Episode 707\tAverage Score: 1.26 New best model saved! Score: 1.27\n",
      "Episode 708\tAverage Score: 1.27 New best model saved! Score: 1.28\n",
      "Episode 709\tAverage Score: 1.28 New best model saved! Score: 1.32\n",
      "Episode 729\tAverage Score: 1.31 New best model saved! Score: 1.36\n",
      "Episode 731\tAverage Score: 1.35 New best model saved! Score: 1.38\n",
      "Episode 734\tAverage Score: 1.37 New best model saved! Score: 1.39\n",
      "Episode 736\tAverage Score: 1.36 New best model saved! Score: 1.40\n",
      "Episode 737\tAverage Score: 1.40 New best model saved! Score: 1.44\n",
      "Episode 738\tAverage Score: 1.44 New best model saved! Score: 1.46\n",
      "Episode 739\tAverage Score: 1.46 New best model saved! Score: 1.46\n",
      "Episode 740\tAverage Score: 1.46 New best model saved! Score: 1.48\n",
      "Episode 741\tAverage Score: 1.48 New best model saved! Score: 1.53\n",
      "Episode 742\tAverage Score: 1.53 New best model saved! Score: 1.53\n",
      "Episode 745\tAverage Score: 1.52 New best model saved! Score: 1.53\n",
      "Episode 746\tAverage Score: 1.53 New best model saved! Score: 1.60\n",
      "Episode 747\tAverage Score: 1.60 New best model saved! Score: 1.66\n",
      "Episode 748\tAverage Score: 1.66 New best model saved! Score: 1.68\n",
      "Episode 749\tAverage Score: 1.68 New best model saved! Score: 1.68\n",
      "Episode 755\tAverage Score: 1.66 New best model saved! Score: 1.70\n",
      "Episode 757\tAverage Score: 1.69 New best model saved! Score: 1.71\n",
      "Episode 769\tAverage Score: 1.69 New best model saved! Score: 1.72\n",
      "Episode 770\tAverage Score: 1.72 New best model saved! Score: 1.74\n",
      "Episode 772\tAverage Score: 1.71 New best model saved! Score: 1.76\n",
      "Episode 774\tAverage Score: 1.76 New best model saved! Score: 1.77\n",
      "Episode 775\tAverage Score: 1.77 New best model saved! Score: 1.77\n",
      "Episode 776\tAverage Score: 1.77 New best model saved! Score: 1.77\n",
      "Episode 779\tAverage Score: 1.76 New best model saved! Score: 1.77\n",
      "Episode 780\tAverage Score: 1.77 New best model saved! Score: 1.81\n",
      "Episode 781\tAverage Score: 1.81 New best model saved! Score: 1.83\n",
      "Episode 782\tAverage Score: 1.83 New best model saved! Score: 1.83\n",
      "Episode 783\tAverage Score: 1.83 New best model saved! Score: 1.85\n",
      "Episode 785\tAverage Score: 1.84 New best model saved! Score: 1.86\n",
      "Episode 787\tAverage Score: 1.85 New best model saved! Score: 1.90\n",
      "Episode 801\tAverage Score: 1.90 New best model saved! Score: 1.94\n",
      "Episode 802\tAverage Score: 1.94 New best model saved! Score: 1.94\n",
      "Episode 803\tAverage Score: 1.94 New best model saved! Score: 1.95\n",
      "Episode 804\tAverage Score: 1.95 New best model saved! Score: 1.99\n",
      "Episode 815\tAverage Score: 1.96 New best model saved! Score: 2.00\n",
      "Episode 816\tAverage Score: 2.00 New best model saved! Score: 2.06\n",
      "Episode 818\tAverage Score: 2.05 New best model saved! Score: 2.07\n",
      "Episode 819\tAverage Score: 2.07 New best model saved! Score: 2.08\n",
      "Episode 820\tAverage Score: 2.08 New best model saved! Score: 2.09\n",
      "Episode 822\tAverage Score: 2.08 New best model saved! Score: 2.09\n",
      "Episode 823\tAverage Score: 2.09 New best model saved! Score: 2.11\n",
      "Episode 835\tAverage Score: 2.07 New best model saved! Score: 2.11\n",
      "Episode 858\tAverage Score: 2.09 New best model saved! Score: 2.12\n",
      "Episode 859\tAverage Score: 2.12 New best model saved! Score: 2.16\n",
      "Episode 997\tAverage Score: 1.98"
     ]
    },
    {
     "name": "stderr",
     "output_type": "stream",
     "text": [
      "[I 2025-03-03 11:10:03,247] Trial 99 finished with value: 1.955999999999999 and parameters: {'BUFFER_SIZE': 481379, 'BATCH_SIZE': 101, 'GAMMA': 0.8936556851531223, 'TAU': 0.006086884306415569, 'UPDATE_EVERY': 1}. Best is trial 61 with value: 5.441999999999986.\n"
     ]
    },
    {
     "name": "stdout",
     "output_type": "stream",
     "text": [
      "Episode 999\tAverage Score: 1.96Best hyperparameters:  {'BUFFER_SIZE': 757624, 'BATCH_SIZE': 228, 'GAMMA': 0.8777525034865641, 'TAU': 0.005566248249524419, 'UPDATE_EVERY': 3}\n"
     ]
    }
   ],
   "source": [
    "study = optuna.create_study(direction=\"maximize\",study_name=\"DQN_trials\", storage=\"sqlite:///DQN_trials.db'\")\n",
    "study.optimize(objective, n_trials=100)\n",
    "\n",
    "print(\"Best hyperparameters: \", study.best_params)"
   ]
  },
  {
   "cell_type": "code",
   "execution_count": 9,
   "metadata": {},
   "outputs": [
    {
     "name": "stdout",
     "output_type": "stream",
     "text": [
      "{'BUFFER_SIZE': 757624, 'BATCH_SIZE': 228, 'GAMMA': 0.8777525034865641, 'TAU': 0.005566248249524419, 'UPDATE_EVERY': 3}\n"
     ]
    }
   ],
   "source": [
    "print(study.best_params)"
   ]
  }
 ],
 "metadata": {
  "kernelspec": {
   "display_name": "base",
   "language": "python",
   "name": "python3"
  },
  "language_info": {
   "codemirror_mode": {
    "name": "ipython",
    "version": 3
   },
   "file_extension": ".py",
   "mimetype": "text/x-python",
   "name": "python",
   "nbconvert_exporter": "python",
   "pygments_lexer": "ipython3",
   "version": "3.11.3"
  }
 },
 "nbformat": 4,
 "nbformat_minor": 2
}
